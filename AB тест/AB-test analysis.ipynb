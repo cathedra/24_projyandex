{
 "cells": [
  {
   "cell_type": "markdown",
   "metadata": {
    "toc": true
   },
   "source": [
    "<h1>Содержание<span class=\"tocSkip\"></span></h1>\n",
    "<div class=\"toc\"><ul class=\"toc-item\"><li><span><a href=\"#Проверка-гипотез-по-увеличению-выручки-в-интернет--магазине-оценить-результаты-A/В-теста\" data-toc-modified-id=\"Проверка-гипотез-по-увеличению-выручки-в-интернет--магазине-оценить-результаты-A/В-теста-1\"><span class=\"toc-item-num\">1&nbsp;&nbsp;</span>Проверка гипотез по увеличению выручки в интернет- магазине оценить результаты A/В теста</a></span><ul class=\"toc-item\"><li><span><a href=\"#График-кумулятивной-выручки-по-группам\" data-toc-modified-id=\"График-кумулятивной-выручки-по-группам-1.1\"><span class=\"toc-item-num\">1.1&nbsp;&nbsp;</span>График кумулятивной выручки по группам</a></span></li><li><span><a href=\"#График-кумулятивного-среднего-чека-по-группам\" data-toc-modified-id=\"График-кумулятивного-среднего-чека-по-группам-1.2\"><span class=\"toc-item-num\">1.2&nbsp;&nbsp;</span>График кумулятивного среднего чека по группам</a></span></li><li><span><a href=\"#График-относительного-изменения-кумулятивного-среднего-чека-группы-B-к-группе-A.\" data-toc-modified-id=\"График-относительного-изменения-кумулятивного-среднего-чека-группы-B-к-группе-A.-1.3\"><span class=\"toc-item-num\">1.3&nbsp;&nbsp;</span>График относительного изменения кумулятивного среднего чека группы B к группе A.</a></span></li><li><span><a href=\"#График-кумулятивной-конверсии-по-группам\" data-toc-modified-id=\"График-кумулятивной-конверсии-по-группам-1.4\"><span class=\"toc-item-num\">1.4&nbsp;&nbsp;</span>График кумулятивной конверсии по группам</a></span></li><li><span><a href=\"#График-относительного-изменения-кумулятивной-конверсии-группы-B-к-группе-A\" data-toc-modified-id=\"График-относительного-изменения-кумулятивной-конверсии-группы-B-к-группе-A-1.5\"><span class=\"toc-item-num\">1.5&nbsp;&nbsp;</span>График относительного изменения кумулятивной конверсии группы B к группе A</a></span></li><li><span><a href=\"#Точечный-график-количества-заказов-по-пользователям\" data-toc-modified-id=\"Точечный-график-количества-заказов-по-пользователям-1.6\"><span class=\"toc-item-num\">1.6&nbsp;&nbsp;</span>Точечный график количества заказов по пользователям</a></span></li><li><span><a href=\"#Граница-для-определения-аномальных-пользователей\" data-toc-modified-id=\"Граница-для-определения-аномальных-пользователей-1.7\"><span class=\"toc-item-num\">1.7&nbsp;&nbsp;</span>Граница для определения аномальных пользователей</a></span></li><li><span><a href=\"#Точечный-график-стоимостей-заказов\" data-toc-modified-id=\"Точечный-график-стоимостей-заказов-1.8\"><span class=\"toc-item-num\">1.8&nbsp;&nbsp;</span>Точечный график стоимостей заказов</a></span></li><li><span><a href=\"#Граница-для-определения-аномальных-пользователей\" data-toc-modified-id=\"Граница-для-определения-аномальных-пользователей-1.9\"><span class=\"toc-item-num\">1.9&nbsp;&nbsp;</span>Граница для определения аномальных пользователей</a></span></li><li><span><a href=\"#Cтатистическая-значимость-различий-в-конверсии-между-группами-по-«сырым»-данным\" data-toc-modified-id=\"Cтатистическая-значимость-различий-в-конверсии-между-группами-по-«сырым»-данным-1.10\"><span class=\"toc-item-num\">1.10&nbsp;&nbsp;</span>Cтатистическая значимость различий в конверсии между группами по «сырым» данным</a></span></li><li><span><a href=\"#Cтатистическая-значимость-различий-в-среднем-чеке-заказа-между-группами-по-«сырым»-данным\" data-toc-modified-id=\"Cтатистическая-значимость-различий-в-среднем-чеке-заказа-между-группами-по-«сырым»-данным-1.11\"><span class=\"toc-item-num\">1.11&nbsp;&nbsp;</span>Cтатистическая значимость различий в среднем чеке заказа между группами по «сырым» данным</a></span></li><li><span><a href=\"#Cтатистическую-значимость-различий-в-конверсии-между-группами-по-«очищенным»-данным\" data-toc-modified-id=\"Cтатистическую-значимость-различий-в-конверсии-между-группами-по-«очищенным»-данным-1.12\"><span class=\"toc-item-num\">1.12&nbsp;&nbsp;</span>Cтатистическую значимость различий в конверсии между группами по «очищенным» данным</a></span></li><li><span><a href=\"#Cтатистическая-значимость-различий-в-среднем-чеке-заказа-между-группами-по-«очищенным»-данным\" data-toc-modified-id=\"Cтатистическая-значимость-различий-в-среднем-чеке-заказа-между-группами-по-«очищенным»-данным-1.13\"><span class=\"toc-item-num\">1.13&nbsp;&nbsp;</span>Cтатистическая значимость различий в среднем чеке заказа между группами по «очищенным» данным</a></span></li><li><span><a href=\"#Решение-по-результатам-теста\" data-toc-modified-id=\"Решение-по-результатам-теста-1.14\"><span class=\"toc-item-num\">1.14&nbsp;&nbsp;</span>Решение по результатам теста</a></span></li></ul></li><li><span><a href=\"#Анализ-результатов\" data-toc-modified-id=\"Анализ-результатов-2\"><span class=\"toc-item-num\">2&nbsp;&nbsp;</span>Анализ результатов</a></span></li></ul></div>"
   ]
  },
  {
   "cell_type": "markdown",
   "metadata": {},
   "source": [
    "## Проверка гипотез по увеличению выручки в интернет- магазине оценить результаты A/В теста"
   ]
  },
  {
   "cell_type": "markdown",
   "metadata": {},
   "source": [
    "Используя данные интернет-магазина приоритезировать гипотезы, произвести оценку результатов A/B-тестирования различными методами"
   ]
  },
  {
   "cell_type": "code",
   "execution_count": null,
   "metadata": {},
   "outputs": [],
   "source": [
    "import pandas as pd\n",
    "import matplotlib.pyplot as plt \n",
    "import numpy as np\n",
    "import seaborn as sns\n",
    "import scipy.stats as stats\n",
    "import datetime as dt\n",
    "from matplotlib import pyplot as plt"
   ]
  },
  {
   "cell_type": "markdown",
   "metadata": {},
   "source": [
    "Рассмотрим данные"
   ]
  },
  {
   "cell_type": "code",
   "execution_count": 6,
   "metadata": {
    "scrolled": true
   },
   "outputs": [
    {
     "data": {
      "text/html": [
       "<div>\n",
       "<style scoped>\n",
       "    .dataframe tbody tr th:only-of-type {\n",
       "        vertical-align: middle;\n",
       "    }\n",
       "\n",
       "    .dataframe tbody tr th {\n",
       "        vertical-align: top;\n",
       "    }\n",
       "\n",
       "    .dataframe thead th {\n",
       "        text-align: right;\n",
       "    }\n",
       "</style>\n",
       "<table border=\"1\" class=\"dataframe\">\n",
       "  <thead>\n",
       "    <tr style=\"text-align: right;\">\n",
       "      <th></th>\n",
       "      <th>transactionId</th>\n",
       "      <th>visitorId</th>\n",
       "      <th>date</th>\n",
       "      <th>revenue</th>\n",
       "      <th>group</th>\n",
       "    </tr>\n",
       "  </thead>\n",
       "  <tbody>\n",
       "    <tr>\n",
       "      <td>0</td>\n",
       "      <td>3667963787</td>\n",
       "      <td>3312258926</td>\n",
       "      <td>2019-08-15</td>\n",
       "      <td>1650</td>\n",
       "      <td>B</td>\n",
       "    </tr>\n",
       "    <tr>\n",
       "      <td>1</td>\n",
       "      <td>2804400009</td>\n",
       "      <td>3642806036</td>\n",
       "      <td>2019-08-15</td>\n",
       "      <td>730</td>\n",
       "      <td>B</td>\n",
       "    </tr>\n",
       "    <tr>\n",
       "      <td>2</td>\n",
       "      <td>2961555356</td>\n",
       "      <td>4069496402</td>\n",
       "      <td>2019-08-15</td>\n",
       "      <td>400</td>\n",
       "      <td>A</td>\n",
       "    </tr>\n",
       "    <tr>\n",
       "      <td>3</td>\n",
       "      <td>3797467345</td>\n",
       "      <td>1196621759</td>\n",
       "      <td>2019-08-15</td>\n",
       "      <td>9759</td>\n",
       "      <td>B</td>\n",
       "    </tr>\n",
       "    <tr>\n",
       "      <td>4</td>\n",
       "      <td>2282983706</td>\n",
       "      <td>2322279887</td>\n",
       "      <td>2019-08-15</td>\n",
       "      <td>2308</td>\n",
       "      <td>B</td>\n",
       "    </tr>\n",
       "  </tbody>\n",
       "</table>\n",
       "</div>"
      ],
      "text/plain": [
       "   transactionId   visitorId        date  revenue group\n",
       "0     3667963787  3312258926  2019-08-15     1650     B\n",
       "1     2804400009  3642806036  2019-08-15      730     B\n",
       "2     2961555356  4069496402  2019-08-15      400     A\n",
       "3     3797467345  1196621759  2019-08-15     9759     B\n",
       "4     2282983706  2322279887  2019-08-15     2308     B"
      ]
     },
     "execution_count": 6,
     "metadata": {},
     "output_type": "execute_result"
    }
   ],
   "source": [
    "orders = pd.read_csv('/datasets/orders.csv')\n",
    "orders.head()"
   ]
  },
  {
   "cell_type": "markdown",
   "metadata": {},
   "source": [
    "* transactionId — идентификатор заказа;\n",
    "* visitorId — идентификатор пользователя, совершившего заказ;\n",
    "* date — дата, когда был совершён заказ;\n",
    "* revenue — выручка заказа;\n",
    "* group — группа A/B-теста, в которую попал заказ."
   ]
  },
  {
   "cell_type": "markdown",
   "metadata": {},
   "source": [
    "Рассмотрим распределение групп"
   ]
  },
  {
   "cell_type": "code",
   "execution_count": 7,
   "metadata": {},
   "outputs": [
    {
     "data": {
      "text/html": [
       "<div>\n",
       "<style scoped>\n",
       "    .dataframe tbody tr th:only-of-type {\n",
       "        vertical-align: middle;\n",
       "    }\n",
       "\n",
       "    .dataframe tbody tr th {\n",
       "        vertical-align: top;\n",
       "    }\n",
       "\n",
       "    .dataframe thead th {\n",
       "        text-align: right;\n",
       "    }\n",
       "</style>\n",
       "<table border=\"1\" class=\"dataframe\">\n",
       "  <thead>\n",
       "    <tr style=\"text-align: right;\">\n",
       "      <th></th>\n",
       "      <th>transactionId</th>\n",
       "      <th>tranrev</th>\n",
       "    </tr>\n",
       "    <tr>\n",
       "      <th>group</th>\n",
       "      <th></th>\n",
       "      <th></th>\n",
       "    </tr>\n",
       "  </thead>\n",
       "  <tbody>\n",
       "    <tr>\n",
       "      <td>A</td>\n",
       "      <td>557</td>\n",
       "      <td>23.600847</td>\n",
       "    </tr>\n",
       "    <tr>\n",
       "      <td>B</td>\n",
       "      <td>640</td>\n",
       "      <td>25.298221</td>\n",
       "    </tr>\n",
       "  </tbody>\n",
       "</table>\n",
       "</div>"
      ],
      "text/plain": [
       "       transactionId    tranrev\n",
       "group                          \n",
       "A                557  23.600847\n",
       "B                640  25.298221"
      ]
     },
     "execution_count": 7,
     "metadata": {},
     "output_type": "execute_result"
    }
   ],
   "source": [
    "ordersАВ = orders.groupby('group').agg({'transactionId':'nunique'})\n",
    "ordersАВ['tranrev'] = ordersАВ['transactionId'].pow(0.5)\n",
    "ordersАВ"
   ]
  },
  {
   "cell_type": "markdown",
   "metadata": {},
   "source": [
    "На первый взгляд, различие между группами кажется значительным, так как привышает 3сигмы. "
   ]
  },
  {
   "cell_type": "code",
   "execution_count": 8,
   "metadata": {
    "scrolled": true
   },
   "outputs": [
    {
     "data": {
      "text/html": [
       "<div>\n",
       "<style scoped>\n",
       "    .dataframe tbody tr th:only-of-type {\n",
       "        vertical-align: middle;\n",
       "    }\n",
       "\n",
       "    .dataframe tbody tr th {\n",
       "        vertical-align: top;\n",
       "    }\n",
       "\n",
       "    .dataframe thead th {\n",
       "        text-align: right;\n",
       "    }\n",
       "</style>\n",
       "<table border=\"1\" class=\"dataframe\">\n",
       "  <thead>\n",
       "    <tr style=\"text-align: right;\">\n",
       "      <th></th>\n",
       "      <th>date</th>\n",
       "      <th>group</th>\n",
       "      <th>visitors</th>\n",
       "    </tr>\n",
       "  </thead>\n",
       "  <tbody>\n",
       "    <tr>\n",
       "      <td>0</td>\n",
       "      <td>2019-08-01</td>\n",
       "      <td>A</td>\n",
       "      <td>719</td>\n",
       "    </tr>\n",
       "    <tr>\n",
       "      <td>1</td>\n",
       "      <td>2019-08-02</td>\n",
       "      <td>A</td>\n",
       "      <td>619</td>\n",
       "    </tr>\n",
       "    <tr>\n",
       "      <td>2</td>\n",
       "      <td>2019-08-03</td>\n",
       "      <td>A</td>\n",
       "      <td>507</td>\n",
       "    </tr>\n",
       "    <tr>\n",
       "      <td>3</td>\n",
       "      <td>2019-08-04</td>\n",
       "      <td>A</td>\n",
       "      <td>717</td>\n",
       "    </tr>\n",
       "    <tr>\n",
       "      <td>4</td>\n",
       "      <td>2019-08-05</td>\n",
       "      <td>A</td>\n",
       "      <td>756</td>\n",
       "    </tr>\n",
       "    <tr>\n",
       "      <td>...</td>\n",
       "      <td>...</td>\n",
       "      <td>...</td>\n",
       "      <td>...</td>\n",
       "    </tr>\n",
       "    <tr>\n",
       "      <td>57</td>\n",
       "      <td>2019-08-27</td>\n",
       "      <td>B</td>\n",
       "      <td>720</td>\n",
       "    </tr>\n",
       "    <tr>\n",
       "      <td>58</td>\n",
       "      <td>2019-08-28</td>\n",
       "      <td>B</td>\n",
       "      <td>654</td>\n",
       "    </tr>\n",
       "    <tr>\n",
       "      <td>59</td>\n",
       "      <td>2019-08-29</td>\n",
       "      <td>B</td>\n",
       "      <td>531</td>\n",
       "    </tr>\n",
       "    <tr>\n",
       "      <td>60</td>\n",
       "      <td>2019-08-30</td>\n",
       "      <td>B</td>\n",
       "      <td>490</td>\n",
       "    </tr>\n",
       "    <tr>\n",
       "      <td>61</td>\n",
       "      <td>2019-08-31</td>\n",
       "      <td>B</td>\n",
       "      <td>718</td>\n",
       "    </tr>\n",
       "  </tbody>\n",
       "</table>\n",
       "<p>62 rows × 3 columns</p>\n",
       "</div>"
      ],
      "text/plain": [
       "          date group  visitors\n",
       "0   2019-08-01     A       719\n",
       "1   2019-08-02     A       619\n",
       "2   2019-08-03     A       507\n",
       "3   2019-08-04     A       717\n",
       "4   2019-08-05     A       756\n",
       "..         ...   ...       ...\n",
       "57  2019-08-27     B       720\n",
       "58  2019-08-28     B       654\n",
       "59  2019-08-29     B       531\n",
       "60  2019-08-30     B       490\n",
       "61  2019-08-31     B       718\n",
       "\n",
       "[62 rows x 3 columns]"
      ]
     },
     "execution_count": 8,
     "metadata": {},
     "output_type": "execute_result"
    }
   ],
   "source": [
    "vis = pd.read_csv('/datasets/visitors.csv')\n",
    "vis"
   ]
  },
  {
   "cell_type": "markdown",
   "metadata": {},
   "source": [
    "* date — дата;\n",
    "* group — группа A/B-теста;\n",
    "* visitors — количество пользователей в указанную дату в указанной группе A/B-теста"
   ]
  },
  {
   "cell_type": "code",
   "execution_count": 9,
   "metadata": {},
   "outputs": [
    {
     "data": {
      "text/html": [
       "<div>\n",
       "<style scoped>\n",
       "    .dataframe tbody tr th:only-of-type {\n",
       "        vertical-align: middle;\n",
       "    }\n",
       "\n",
       "    .dataframe tbody tr th {\n",
       "        vertical-align: top;\n",
       "    }\n",
       "\n",
       "    .dataframe thead th {\n",
       "        text-align: right;\n",
       "    }\n",
       "</style>\n",
       "<table border=\"1\" class=\"dataframe\">\n",
       "  <thead>\n",
       "    <tr style=\"text-align: right;\">\n",
       "      <th></th>\n",
       "      <th>visitors</th>\n",
       "      <th>sqrvis</th>\n",
       "    </tr>\n",
       "    <tr>\n",
       "      <th>group</th>\n",
       "      <th></th>\n",
       "      <th></th>\n",
       "    </tr>\n",
       "  </thead>\n",
       "  <tbody>\n",
       "    <tr>\n",
       "      <td>A</td>\n",
       "      <td>18736</td>\n",
       "      <td>136.879509</td>\n",
       "    </tr>\n",
       "    <tr>\n",
       "      <td>B</td>\n",
       "      <td>18916</td>\n",
       "      <td>137.535450</td>\n",
       "    </tr>\n",
       "  </tbody>\n",
       "</table>\n",
       "</div>"
      ],
      "text/plain": [
       "       visitors      sqrvis\n",
       "group                      \n",
       "A         18736  136.879509\n",
       "B         18916  137.535450"
      ]
     },
     "execution_count": 9,
     "metadata": {},
     "output_type": "execute_result"
    }
   ],
   "source": [
    "VisAB = vis.groupby('group').agg({'visitors' : 'sum'})\n",
    "VisAB['sqrvis'] = VisAB['visitors'].pow(0.5)\n",
    "VisAB"
   ]
  },
  {
   "cell_type": "markdown",
   "metadata": {},
   "source": [
    "На первый взяглад, различие между группа имеет равное соотношение, так как не привышает 3-сигмы."
   ]
  },
  {
   "cell_type": "markdown",
   "metadata": {},
   "source": [
    "Так же дополнительно рассмотрим, есть ли пользователи, которые попали в обе группы"
   ]
  },
  {
   "cell_type": "code",
   "execution_count": 10,
   "metadata": {},
   "outputs": [
    {
     "data": {
      "text/plain": [
       "58"
      ]
     },
     "execution_count": 10,
     "metadata": {},
     "output_type": "execute_result"
    }
   ],
   "source": [
    "error = pd.Series(np.intersect1d(orders.query('group == \"A\"')['visitorId'].unique(), orders.query('group == \"B\"')['visitorId'].unique()))\n",
    "error.count()"
   ]
  },
  {
   "cell_type": "code",
   "execution_count": 11,
   "metadata": {},
   "outputs": [],
   "source": [
    "lerror = list(error)"
   ]
  },
  {
   "cell_type": "markdown",
   "metadata": {},
   "source": [
    "Мы видим, что 58 пользователей попали в обе группы тестирования, а это около 5% пользователей. Возможно произошли какие-то технические сбои, при которых могло произошли данное явление. Удалим этих пользователей из общй выборки."
   ]
  },
  {
   "cell_type": "code",
   "execution_count": 12,
   "metadata": {
    "scrolled": true
   },
   "outputs": [
    {
     "data": {
      "text/html": [
       "<div>\n",
       "<style scoped>\n",
       "    .dataframe tbody tr th:only-of-type {\n",
       "        vertical-align: middle;\n",
       "    }\n",
       "\n",
       "    .dataframe tbody tr th {\n",
       "        vertical-align: top;\n",
       "    }\n",
       "\n",
       "    .dataframe thead th {\n",
       "        text-align: right;\n",
       "    }\n",
       "</style>\n",
       "<table border=\"1\" class=\"dataframe\">\n",
       "  <thead>\n",
       "    <tr style=\"text-align: right;\">\n",
       "      <th></th>\n",
       "      <th>transactionId</th>\n",
       "      <th>visitorId</th>\n",
       "      <th>date</th>\n",
       "      <th>revenue</th>\n",
       "      <th>group</th>\n",
       "    </tr>\n",
       "  </thead>\n",
       "  <tbody>\n",
       "    <tr>\n",
       "      <td>0</td>\n",
       "      <td>3667963787</td>\n",
       "      <td>3312258926</td>\n",
       "      <td>2019-08-15</td>\n",
       "      <td>1650</td>\n",
       "      <td>B</td>\n",
       "    </tr>\n",
       "    <tr>\n",
       "      <td>1</td>\n",
       "      <td>2804400009</td>\n",
       "      <td>3642806036</td>\n",
       "      <td>2019-08-15</td>\n",
       "      <td>730</td>\n",
       "      <td>B</td>\n",
       "    </tr>\n",
       "    <tr>\n",
       "      <td>2</td>\n",
       "      <td>3797467345</td>\n",
       "      <td>1196621759</td>\n",
       "      <td>2019-08-15</td>\n",
       "      <td>9759</td>\n",
       "      <td>B</td>\n",
       "    </tr>\n",
       "    <tr>\n",
       "      <td>3</td>\n",
       "      <td>2282983706</td>\n",
       "      <td>2322279887</td>\n",
       "      <td>2019-08-15</td>\n",
       "      <td>2308</td>\n",
       "      <td>B</td>\n",
       "    </tr>\n",
       "    <tr>\n",
       "      <td>4</td>\n",
       "      <td>182168103</td>\n",
       "      <td>935554773</td>\n",
       "      <td>2019-08-15</td>\n",
       "      <td>2210</td>\n",
       "      <td>B</td>\n",
       "    </tr>\n",
       "    <tr>\n",
       "      <td>...</td>\n",
       "      <td>...</td>\n",
       "      <td>...</td>\n",
       "      <td>...</td>\n",
       "      <td>...</td>\n",
       "      <td>...</td>\n",
       "    </tr>\n",
       "    <tr>\n",
       "      <td>1011</td>\n",
       "      <td>3592955527</td>\n",
       "      <td>608641596</td>\n",
       "      <td>2019-08-14</td>\n",
       "      <td>16490</td>\n",
       "      <td>B</td>\n",
       "    </tr>\n",
       "    <tr>\n",
       "      <td>1012</td>\n",
       "      <td>2662137336</td>\n",
       "      <td>3733762160</td>\n",
       "      <td>2019-08-14</td>\n",
       "      <td>6490</td>\n",
       "      <td>B</td>\n",
       "    </tr>\n",
       "    <tr>\n",
       "      <td>1013</td>\n",
       "      <td>2203539145</td>\n",
       "      <td>370388673</td>\n",
       "      <td>2019-08-14</td>\n",
       "      <td>3190</td>\n",
       "      <td>A</td>\n",
       "    </tr>\n",
       "    <tr>\n",
       "      <td>1014</td>\n",
       "      <td>1807773912</td>\n",
       "      <td>573423106</td>\n",
       "      <td>2019-08-14</td>\n",
       "      <td>10550</td>\n",
       "      <td>A</td>\n",
       "    </tr>\n",
       "    <tr>\n",
       "      <td>1015</td>\n",
       "      <td>3936777065</td>\n",
       "      <td>2108080724</td>\n",
       "      <td>2019-08-15</td>\n",
       "      <td>202740</td>\n",
       "      <td>B</td>\n",
       "    </tr>\n",
       "  </tbody>\n",
       "</table>\n",
       "<p>1016 rows × 5 columns</p>\n",
       "</div>"
      ],
      "text/plain": [
       "      transactionId   visitorId        date  revenue group\n",
       "0        3667963787  3312258926  2019-08-15     1650     B\n",
       "1        2804400009  3642806036  2019-08-15      730     B\n",
       "2        3797467345  1196621759  2019-08-15     9759     B\n",
       "3        2282983706  2322279887  2019-08-15     2308     B\n",
       "4         182168103   935554773  2019-08-15     2210     B\n",
       "...             ...         ...         ...      ...   ...\n",
       "1011     3592955527   608641596  2019-08-14    16490     B\n",
       "1012     2662137336  3733762160  2019-08-14     6490     B\n",
       "1013     2203539145   370388673  2019-08-14     3190     A\n",
       "1014     1807773912   573423106  2019-08-14    10550     A\n",
       "1015     3936777065  2108080724  2019-08-15   202740     B\n",
       "\n",
       "[1016 rows x 5 columns]"
      ]
     },
     "execution_count": 12,
     "metadata": {},
     "output_type": "execute_result"
    }
   ],
   "source": [
    "orders = orders.query('visitorId != @lerror').reset_index(drop=True)\n",
    "orders"
   ]
  },
  {
   "cell_type": "markdown",
   "metadata": {},
   "source": [
    "### График кумулятивной выручки по группам"
   ]
  },
  {
   "cell_type": "markdown",
   "metadata": {},
   "source": [
    "Создайте датафрейм datesGroups с уникальными парами значений 'date' и 'group', таблицы orders"
   ]
  },
  {
   "cell_type": "code",
   "execution_count": 13,
   "metadata": {
    "scrolled": true
   },
   "outputs": [
    {
     "data": {
      "text/html": [
       "<div>\n",
       "<style scoped>\n",
       "    .dataframe tbody tr th:only-of-type {\n",
       "        vertical-align: middle;\n",
       "    }\n",
       "\n",
       "    .dataframe tbody tr th {\n",
       "        vertical-align: top;\n",
       "    }\n",
       "\n",
       "    .dataframe thead th {\n",
       "        text-align: right;\n",
       "    }\n",
       "</style>\n",
       "<table border=\"1\" class=\"dataframe\">\n",
       "  <thead>\n",
       "    <tr style=\"text-align: right;\">\n",
       "      <th></th>\n",
       "      <th>date</th>\n",
       "      <th>group</th>\n",
       "    </tr>\n",
       "  </thead>\n",
       "  <tbody>\n",
       "    <tr>\n",
       "      <td>0</td>\n",
       "      <td>2019-08-15</td>\n",
       "      <td>B</td>\n",
       "    </tr>\n",
       "    <tr>\n",
       "      <td>6</td>\n",
       "      <td>2019-08-15</td>\n",
       "      <td>A</td>\n",
       "    </tr>\n",
       "    <tr>\n",
       "      <td>35</td>\n",
       "      <td>2019-08-16</td>\n",
       "      <td>A</td>\n",
       "    </tr>\n",
       "    <tr>\n",
       "      <td>37</td>\n",
       "      <td>2019-08-16</td>\n",
       "      <td>B</td>\n",
       "    </tr>\n",
       "    <tr>\n",
       "      <td>45</td>\n",
       "      <td>2019-08-01</td>\n",
       "      <td>A</td>\n",
       "    </tr>\n",
       "  </tbody>\n",
       "</table>\n",
       "</div>"
      ],
      "text/plain": [
       "          date group\n",
       "0   2019-08-15     B\n",
       "6   2019-08-15     A\n",
       "35  2019-08-16     A\n",
       "37  2019-08-16     B\n",
       "45  2019-08-01     A"
      ]
     },
     "execution_count": 13,
     "metadata": {},
     "output_type": "execute_result"
    }
   ],
   "source": [
    "datesGroups = orders[['date','group']].drop_duplicates()\n",
    "datesGroups.head()"
   ]
  },
  {
   "cell_type": "markdown",
   "metadata": {},
   "source": [
    "Сведем данные в переменной  ordersAggregated, где будут:\n",
    "* дата месяца для каждой группы\n",
    "* группу A/B-теста\n",
    "* число уникальных заказов в группе теста по указанную дату\n",
    "* число уникальных пользователей, совершивших хотя бы 1 заказ в группе теста по указанную дату\n",
    "* суммарную выручку заказов в группе теста по указанную дату"
   ]
  },
  {
   "cell_type": "code",
   "execution_count": 14,
   "metadata": {
    "scrolled": true
   },
   "outputs": [
    {
     "data": {
      "text/html": [
       "<div>\n",
       "<style scoped>\n",
       "    .dataframe tbody tr th:only-of-type {\n",
       "        vertical-align: middle;\n",
       "    }\n",
       "\n",
       "    .dataframe tbody tr th {\n",
       "        vertical-align: top;\n",
       "    }\n",
       "\n",
       "    .dataframe thead th {\n",
       "        text-align: right;\n",
       "    }\n",
       "</style>\n",
       "<table border=\"1\" class=\"dataframe\">\n",
       "  <thead>\n",
       "    <tr style=\"text-align: right;\">\n",
       "      <th></th>\n",
       "      <th>date</th>\n",
       "      <th>group</th>\n",
       "      <th>transactionId</th>\n",
       "      <th>visitorId</th>\n",
       "      <th>revenue</th>\n",
       "    </tr>\n",
       "  </thead>\n",
       "  <tbody>\n",
       "    <tr>\n",
       "      <td>45</td>\n",
       "      <td>2019-08-01</td>\n",
       "      <td>A</td>\n",
       "      <td>23</td>\n",
       "      <td>19</td>\n",
       "      <td>142779</td>\n",
       "    </tr>\n",
       "    <tr>\n",
       "      <td>54</td>\n",
       "      <td>2019-08-01</td>\n",
       "      <td>B</td>\n",
       "      <td>17</td>\n",
       "      <td>17</td>\n",
       "      <td>59758</td>\n",
       "    </tr>\n",
       "    <tr>\n",
       "      <td>149</td>\n",
       "      <td>2019-08-02</td>\n",
       "      <td>A</td>\n",
       "      <td>42</td>\n",
       "      <td>36</td>\n",
       "      <td>234381</td>\n",
       "    </tr>\n",
       "    <tr>\n",
       "      <td>147</td>\n",
       "      <td>2019-08-02</td>\n",
       "      <td>B</td>\n",
       "      <td>40</td>\n",
       "      <td>39</td>\n",
       "      <td>221801</td>\n",
       "    </tr>\n",
       "    <tr>\n",
       "      <td>245</td>\n",
       "      <td>2019-08-03</td>\n",
       "      <td>A</td>\n",
       "      <td>66</td>\n",
       "      <td>60</td>\n",
       "      <td>346854</td>\n",
       "    </tr>\n",
       "  </tbody>\n",
       "</table>\n",
       "</div>"
      ],
      "text/plain": [
       "           date group  transactionId  visitorId  revenue\n",
       "45   2019-08-01     A             23         19   142779\n",
       "54   2019-08-01     B             17         17    59758\n",
       "149  2019-08-02     A             42         36   234381\n",
       "147  2019-08-02     B             40         39   221801\n",
       "245  2019-08-03     A             66         60   346854"
      ]
     },
     "execution_count": 14,
     "metadata": {},
     "output_type": "execute_result"
    }
   ],
   "source": [
    "ordersAggregated = datesGroups.apply(\n",
    "    lambda x: orders[np.logical_and(orders['date'] <= x['date'], orders['group'] == x['group'])].agg({\n",
    "'date' : 'max',\n",
    "'group' : 'max',\n",
    "'transactionId' : pd.Series.nunique,\n",
    "'visitorId' : pd.Series.nunique,\n",
    "'revenue' : 'sum'}), axis=1).sort_values(by=['date','group']) \n",
    "ordersAggregated.head()"
   ]
  },
  {
   "cell_type": "markdown",
   "metadata": {},
   "source": [
    "Рассчитаем накопительным итогом посетителей для каждой группы:"
   ]
  },
  {
   "cell_type": "code",
   "execution_count": 15,
   "metadata": {},
   "outputs": [
    {
     "data": {
      "text/html": [
       "<div>\n",
       "<style scoped>\n",
       "    .dataframe tbody tr th:only-of-type {\n",
       "        vertical-align: middle;\n",
       "    }\n",
       "\n",
       "    .dataframe tbody tr th {\n",
       "        vertical-align: top;\n",
       "    }\n",
       "\n",
       "    .dataframe thead th {\n",
       "        text-align: right;\n",
       "    }\n",
       "</style>\n",
       "<table border=\"1\" class=\"dataframe\">\n",
       "  <thead>\n",
       "    <tr style=\"text-align: right;\">\n",
       "      <th></th>\n",
       "      <th>date</th>\n",
       "      <th>group</th>\n",
       "      <th>visitors</th>\n",
       "    </tr>\n",
       "  </thead>\n",
       "  <tbody>\n",
       "    <tr>\n",
       "      <td>45</td>\n",
       "      <td>2019-08-01</td>\n",
       "      <td>A</td>\n",
       "      <td>719</td>\n",
       "    </tr>\n",
       "    <tr>\n",
       "      <td>54</td>\n",
       "      <td>2019-08-01</td>\n",
       "      <td>B</td>\n",
       "      <td>713</td>\n",
       "    </tr>\n",
       "    <tr>\n",
       "      <td>149</td>\n",
       "      <td>2019-08-02</td>\n",
       "      <td>A</td>\n",
       "      <td>1338</td>\n",
       "    </tr>\n",
       "    <tr>\n",
       "      <td>147</td>\n",
       "      <td>2019-08-02</td>\n",
       "      <td>B</td>\n",
       "      <td>1294</td>\n",
       "    </tr>\n",
       "    <tr>\n",
       "      <td>245</td>\n",
       "      <td>2019-08-03</td>\n",
       "      <td>A</td>\n",
       "      <td>1845</td>\n",
       "    </tr>\n",
       "  </tbody>\n",
       "</table>\n",
       "</div>"
      ],
      "text/plain": [
       "           date group  visitors\n",
       "45   2019-08-01     A       719\n",
       "54   2019-08-01     B       713\n",
       "149  2019-08-02     A      1338\n",
       "147  2019-08-02     B      1294\n",
       "245  2019-08-03     A      1845"
      ]
     },
     "execution_count": 15,
     "metadata": {},
     "output_type": "execute_result"
    }
   ],
   "source": [
    "visAggregated = datesGroups.apply(\n",
    "    lambda x: vis[np.logical_and(vis['date'] <= x['date'], vis['group'] == x['group'])].agg({\n",
    "'date' : 'max',\n",
    "'group' : 'max',\n",
    "'visitors' : 'sum',\n",
    "}), axis=1).sort_values(by=['date','group']) \n",
    "visAggregated .head()"
   ]
  },
  {
   "cell_type": "markdown",
   "metadata": {},
   "source": [
    "Объединим полученную таблицу и количеством визитеров за указанную дату и дадим им соответствующие названия "
   ]
  },
  {
   "cell_type": "code",
   "execution_count": 16,
   "metadata": {},
   "outputs": [
    {
     "data": {
      "text/html": [
       "<div>\n",
       "<style scoped>\n",
       "    .dataframe tbody tr th:only-of-type {\n",
       "        vertical-align: middle;\n",
       "    }\n",
       "\n",
       "    .dataframe tbody tr th {\n",
       "        vertical-align: top;\n",
       "    }\n",
       "\n",
       "    .dataframe thead th {\n",
       "        text-align: right;\n",
       "    }\n",
       "</style>\n",
       "<table border=\"1\" class=\"dataframe\">\n",
       "  <thead>\n",
       "    <tr style=\"text-align: right;\">\n",
       "      <th></th>\n",
       "      <th>date</th>\n",
       "      <th>group</th>\n",
       "      <th>orders</th>\n",
       "      <th>buyers</th>\n",
       "      <th>revenue</th>\n",
       "      <th>visitors</th>\n",
       "    </tr>\n",
       "  </thead>\n",
       "  <tbody>\n",
       "    <tr>\n",
       "      <td>0</td>\n",
       "      <td>2019-08-01</td>\n",
       "      <td>A</td>\n",
       "      <td>23</td>\n",
       "      <td>19</td>\n",
       "      <td>142779</td>\n",
       "      <td>719</td>\n",
       "    </tr>\n",
       "    <tr>\n",
       "      <td>1</td>\n",
       "      <td>2019-08-01</td>\n",
       "      <td>B</td>\n",
       "      <td>17</td>\n",
       "      <td>17</td>\n",
       "      <td>59758</td>\n",
       "      <td>713</td>\n",
       "    </tr>\n",
       "    <tr>\n",
       "      <td>2</td>\n",
       "      <td>2019-08-02</td>\n",
       "      <td>A</td>\n",
       "      <td>42</td>\n",
       "      <td>36</td>\n",
       "      <td>234381</td>\n",
       "      <td>1338</td>\n",
       "    </tr>\n",
       "    <tr>\n",
       "      <td>3</td>\n",
       "      <td>2019-08-02</td>\n",
       "      <td>B</td>\n",
       "      <td>40</td>\n",
       "      <td>39</td>\n",
       "      <td>221801</td>\n",
       "      <td>1294</td>\n",
       "    </tr>\n",
       "    <tr>\n",
       "      <td>4</td>\n",
       "      <td>2019-08-03</td>\n",
       "      <td>A</td>\n",
       "      <td>66</td>\n",
       "      <td>60</td>\n",
       "      <td>346854</td>\n",
       "      <td>1845</td>\n",
       "    </tr>\n",
       "    <tr>\n",
       "      <td>...</td>\n",
       "      <td>...</td>\n",
       "      <td>...</td>\n",
       "      <td>...</td>\n",
       "      <td>...</td>\n",
       "      <td>...</td>\n",
       "      <td>...</td>\n",
       "    </tr>\n",
       "    <tr>\n",
       "      <td>57</td>\n",
       "      <td>2019-08-29</td>\n",
       "      <td>B</td>\n",
       "      <td>510</td>\n",
       "      <td>490</td>\n",
       "      <td>4746610</td>\n",
       "      <td>17708</td>\n",
       "    </tr>\n",
       "    <tr>\n",
       "      <td>58</td>\n",
       "      <td>2019-08-30</td>\n",
       "      <td>A</td>\n",
       "      <td>460</td>\n",
       "      <td>437</td>\n",
       "      <td>3311413</td>\n",
       "      <td>18037</td>\n",
       "    </tr>\n",
       "    <tr>\n",
       "      <td>59</td>\n",
       "      <td>2019-08-30</td>\n",
       "      <td>B</td>\n",
       "      <td>531</td>\n",
       "      <td>511</td>\n",
       "      <td>4955833</td>\n",
       "      <td>18198</td>\n",
       "    </tr>\n",
       "    <tr>\n",
       "      <td>60</td>\n",
       "      <td>2019-08-31</td>\n",
       "      <td>A</td>\n",
       "      <td>468</td>\n",
       "      <td>445</td>\n",
       "      <td>3364656</td>\n",
       "      <td>18736</td>\n",
       "    </tr>\n",
       "    <tr>\n",
       "      <td>61</td>\n",
       "      <td>2019-08-31</td>\n",
       "      <td>B</td>\n",
       "      <td>548</td>\n",
       "      <td>528</td>\n",
       "      <td>5068972</td>\n",
       "      <td>18916</td>\n",
       "    </tr>\n",
       "  </tbody>\n",
       "</table>\n",
       "<p>62 rows × 6 columns</p>\n",
       "</div>"
      ],
      "text/plain": [
       "          date group  orders  buyers  revenue  visitors\n",
       "0   2019-08-01     A      23      19   142779       719\n",
       "1   2019-08-01     B      17      17    59758       713\n",
       "2   2019-08-02     A      42      36   234381      1338\n",
       "3   2019-08-02     B      40      39   221801      1294\n",
       "4   2019-08-03     A      66      60   346854      1845\n",
       "..         ...   ...     ...     ...      ...       ...\n",
       "57  2019-08-29     B     510     490  4746610     17708\n",
       "58  2019-08-30     A     460     437  3311413     18037\n",
       "59  2019-08-30     B     531     511  4955833     18198\n",
       "60  2019-08-31     A     468     445  3364656     18736\n",
       "61  2019-08-31     B     548     528  5068972     18916\n",
       "\n",
       "[62 rows x 6 columns]"
      ]
     },
     "execution_count": 16,
     "metadata": {},
     "output_type": "execute_result"
    }
   ],
   "source": [
    "cumulativeData = ordersAggregated.merge(visAggregated, left_on=['date', 'group'], right_on=['date', 'group'])\n",
    "cumulativeData.columns = ['date', 'group', 'orders', 'buyers', 'revenue', 'visitors']\n",
    "cumulativeData"
   ]
  },
  {
   "cell_type": "markdown",
   "metadata": {},
   "source": [
    "Для каждой группы выведим выручку и количество заказов за указанную дату"
   ]
  },
  {
   "cell_type": "code",
   "execution_count": 17,
   "metadata": {},
   "outputs": [
    {
     "data": {
      "text/html": [
       "<div>\n",
       "<style scoped>\n",
       "    .dataframe tbody tr th:only-of-type {\n",
       "        vertical-align: middle;\n",
       "    }\n",
       "\n",
       "    .dataframe tbody tr th {\n",
       "        vertical-align: top;\n",
       "    }\n",
       "\n",
       "    .dataframe thead th {\n",
       "        text-align: right;\n",
       "    }\n",
       "</style>\n",
       "<table border=\"1\" class=\"dataframe\">\n",
       "  <thead>\n",
       "    <tr style=\"text-align: right;\">\n",
       "      <th></th>\n",
       "      <th>date</th>\n",
       "      <th>revenue</th>\n",
       "      <th>orders</th>\n",
       "    </tr>\n",
       "  </thead>\n",
       "  <tbody>\n",
       "    <tr>\n",
       "      <td>0</td>\n",
       "      <td>2019-08-01</td>\n",
       "      <td>142779</td>\n",
       "      <td>23</td>\n",
       "    </tr>\n",
       "    <tr>\n",
       "      <td>2</td>\n",
       "      <td>2019-08-02</td>\n",
       "      <td>234381</td>\n",
       "      <td>42</td>\n",
       "    </tr>\n",
       "    <tr>\n",
       "      <td>4</td>\n",
       "      <td>2019-08-03</td>\n",
       "      <td>346854</td>\n",
       "      <td>66</td>\n",
       "    </tr>\n",
       "    <tr>\n",
       "      <td>6</td>\n",
       "      <td>2019-08-04</td>\n",
       "      <td>388030</td>\n",
       "      <td>77</td>\n",
       "    </tr>\n",
       "    <tr>\n",
       "      <td>8</td>\n",
       "      <td>2019-08-05</td>\n",
       "      <td>474413</td>\n",
       "      <td>99</td>\n",
       "    </tr>\n",
       "  </tbody>\n",
       "</table>\n",
       "</div>"
      ],
      "text/plain": [
       "         date  revenue  orders\n",
       "0  2019-08-01   142779      23\n",
       "2  2019-08-02   234381      42\n",
       "4  2019-08-03   346854      66\n",
       "6  2019-08-04   388030      77\n",
       "8  2019-08-05   474413      99"
      ]
     },
     "execution_count": 17,
     "metadata": {},
     "output_type": "execute_result"
    }
   ],
   "source": [
    "cumulativeRevenueA = cumulativeData[cumulativeData['group']=='A'][['date','revenue', 'orders']]\n",
    "cumulativeRevenueA.head()"
   ]
  },
  {
   "cell_type": "code",
   "execution_count": 18,
   "metadata": {},
   "outputs": [
    {
     "data": {
      "text/html": [
       "<div>\n",
       "<style scoped>\n",
       "    .dataframe tbody tr th:only-of-type {\n",
       "        vertical-align: middle;\n",
       "    }\n",
       "\n",
       "    .dataframe tbody tr th {\n",
       "        vertical-align: top;\n",
       "    }\n",
       "\n",
       "    .dataframe thead th {\n",
       "        text-align: right;\n",
       "    }\n",
       "</style>\n",
       "<table border=\"1\" class=\"dataframe\">\n",
       "  <thead>\n",
       "    <tr style=\"text-align: right;\">\n",
       "      <th></th>\n",
       "      <th>date</th>\n",
       "      <th>revenue</th>\n",
       "      <th>orders</th>\n",
       "    </tr>\n",
       "  </thead>\n",
       "  <tbody>\n",
       "    <tr>\n",
       "      <td>1</td>\n",
       "      <td>2019-08-01</td>\n",
       "      <td>59758</td>\n",
       "      <td>17</td>\n",
       "    </tr>\n",
       "    <tr>\n",
       "      <td>3</td>\n",
       "      <td>2019-08-02</td>\n",
       "      <td>221801</td>\n",
       "      <td>40</td>\n",
       "    </tr>\n",
       "    <tr>\n",
       "      <td>5</td>\n",
       "      <td>2019-08-03</td>\n",
       "      <td>288850</td>\n",
       "      <td>54</td>\n",
       "    </tr>\n",
       "    <tr>\n",
       "      <td>7</td>\n",
       "      <td>2019-08-04</td>\n",
       "      <td>385740</td>\n",
       "      <td>68</td>\n",
       "    </tr>\n",
       "    <tr>\n",
       "      <td>9</td>\n",
       "      <td>2019-08-05</td>\n",
       "      <td>475648</td>\n",
       "      <td>89</td>\n",
       "    </tr>\n",
       "  </tbody>\n",
       "</table>\n",
       "</div>"
      ],
      "text/plain": [
       "         date  revenue  orders\n",
       "1  2019-08-01    59758      17\n",
       "3  2019-08-02   221801      40\n",
       "5  2019-08-03   288850      54\n",
       "7  2019-08-04   385740      68\n",
       "9  2019-08-05   475648      89"
      ]
     },
     "execution_count": 18,
     "metadata": {},
     "output_type": "execute_result"
    }
   ],
   "source": [
    "cumulativeRevenueB = cumulativeData[cumulativeData['group']=='B'][['date','revenue', 'orders']]\n",
    "cumulativeRevenueB.head()"
   ]
  },
  {
   "cell_type": "code",
   "execution_count": 19,
   "metadata": {
    "scrolled": true
   },
   "outputs": [
    {
     "data": {
      "image/png": "[encoded data removed]",
      "text/plain": [
       "<Figure size 432x288 with 1 Axes>"
      ]
     },
     "metadata": {
      "needs_background": "light"
     },
     "output_type": "display_data"
    }
   ],
   "source": [
    "plt.plot(cumulativeRevenueA['date'], cumulativeRevenueA['revenue'], label='A')\n",
    "plt.plot(cumulativeRevenueB['date'], cumulativeRevenueB['revenue'], label='B')\n",
    "plt.legend(); \n",
    "plt.title('Кумулятивная выручка по группам');\n",
    "plt.xlabel(\"дни\");\n",
    "plt.ylabel(\"выручка\");\n",
    "plt.xticks(rotation=90);"
   ]
  },
  {
   "cell_type": "markdown",
   "metadata": {},
   "source": [
    "Из данных видно, что 6 августа сегмент В вырвался вперед и продолжал лидировать до конца теста. Скорее всего здесь сидит какой-то аномальный выброс. "
   ]
  },
  {
   "cell_type": "markdown",
   "metadata": {},
   "source": [
    "### График кумулятивного среднего чека по группам"
   ]
  },
  {
   "cell_type": "code",
   "execution_count": 20,
   "metadata": {},
   "outputs": [
    {
     "data": {
      "image/png": "[encoded data removed]",
      "text/plain": [
       "<Figure size 432x288 with 1 Axes>"
      ]
     },
     "metadata": {
      "needs_background": "light"
     },
     "output_type": "display_data"
    }
   ],
   "source": [
    "plt.plot(cumulativeRevenueA['date'], cumulativeRevenueA['revenue']/cumulativeRevenueA['orders'], label='A')\n",
    "plt.plot(cumulativeRevenueB['date'], cumulativeRevenueB['revenue']/cumulativeRevenueB['orders'], label='B')\n",
    "plt.legend();\n",
    "plt.title('Кумулятивный средний чек по группам');\n",
    "plt.xlabel(\"дни\");\n",
    "plt.ylabel(\"средний чек\");\n",
    "plt.xticks(rotation=90);"
   ]
  },
  {
   "cell_type": "markdown",
   "metadata": {},
   "source": [
    "Так же видим, что в эту дату, средний чек был аномально большим. Но к концу теста, результаты по среднем чекам колеблются значительно меньше, чем в начале"
   ]
  },
  {
   "cell_type": "markdown",
   "metadata": {},
   "source": [
    "### График относительного изменения кумулятивного среднего чека группы B к группе A."
   ]
  },
  {
   "cell_type": "code",
   "execution_count": 21,
   "metadata": {},
   "outputs": [
    {
     "data": {
      "image/png": "[encoded data removed]",
      "text/plain": [
       "<Figure size 432x288 with 1 Axes>"
      ]
     },
     "metadata": {
      "needs_background": "light"
     },
     "output_type": "display_data"
    }
   ],
   "source": [
    "mergedCumulativeRevenue = cumulativeRevenueA.merge(\n",
    "    cumulativeRevenueB,\n",
    "    left_on='date',\n",
    "    right_on='date',\n",
    "    how='left',\n",
    "    suffixes=['A', 'B']\n",
    ")\n",
    "plt.plot(\n",
    "    mergedCumulativeRevenue['date'],\n",
    "    (mergedCumulativeRevenue['revenueB']/mergedCumulativeRevenue['ordersB'])/(\n",
    "        (mergedCumulativeRevenue['revenueA']/mergedCumulativeRevenue['ordersA'])-1\n",
    "    )\n",
    ");\n",
    "plt.axhline(y=1, color='black', linestyle='--');\n",
    "plt.title('Относительное изменения кумулятивного среднего чека группы B к группе A');\n",
    "plt.xlabel(\"дни\");\n",
    "plt.ylabel(\"относительное изменение\");\n",
    "plt.xticks(rotation=90);"
   ]
  },
  {
   "cell_type": "markdown",
   "metadata": {},
   "source": [
    "Видим, что средний чек группы B лидирует вплоть до 13 августа, после чего произошел скачок среднего чека в пользу группы А. Далее резкий скачек среднего чего 18 августа. Скорее всего в этих местах и находятся аномальные выбросы."
   ]
  },
  {
   "cell_type": "markdown",
   "metadata": {},
   "source": [
    "### График кумулятивной конверсии по группам"
   ]
  },
  {
   "cell_type": "markdown",
   "metadata": {},
   "source": [
    "Добавим столбец с расчетом конверсии за указанную дату"
   ]
  },
  {
   "cell_type": "code",
   "execution_count": 22,
   "metadata": {
    "scrolled": true
   },
   "outputs": [
    {
     "data": {
      "text/html": [
       "<div>\n",
       "<style scoped>\n",
       "    .dataframe tbody tr th:only-of-type {\n",
       "        vertical-align: middle;\n",
       "    }\n",
       "\n",
       "    .dataframe tbody tr th {\n",
       "        vertical-align: top;\n",
       "    }\n",
       "\n",
       "    .dataframe thead th {\n",
       "        text-align: right;\n",
       "    }\n",
       "</style>\n",
       "<table border=\"1\" class=\"dataframe\">\n",
       "  <thead>\n",
       "    <tr style=\"text-align: right;\">\n",
       "      <th></th>\n",
       "      <th>date</th>\n",
       "      <th>group</th>\n",
       "      <th>orders</th>\n",
       "      <th>buyers</th>\n",
       "      <th>revenue</th>\n",
       "      <th>visitors</th>\n",
       "      <th>conversion</th>\n",
       "    </tr>\n",
       "  </thead>\n",
       "  <tbody>\n",
       "    <tr>\n",
       "      <td>0</td>\n",
       "      <td>2019-08-01</td>\n",
       "      <td>A</td>\n",
       "      <td>23</td>\n",
       "      <td>19</td>\n",
       "      <td>142779</td>\n",
       "      <td>719</td>\n",
       "      <td>0.031989</td>\n",
       "    </tr>\n",
       "    <tr>\n",
       "      <td>1</td>\n",
       "      <td>2019-08-01</td>\n",
       "      <td>B</td>\n",
       "      <td>17</td>\n",
       "      <td>17</td>\n",
       "      <td>59758</td>\n",
       "      <td>713</td>\n",
       "      <td>0.023843</td>\n",
       "    </tr>\n",
       "    <tr>\n",
       "      <td>2</td>\n",
       "      <td>2019-08-02</td>\n",
       "      <td>A</td>\n",
       "      <td>42</td>\n",
       "      <td>36</td>\n",
       "      <td>234381</td>\n",
       "      <td>1338</td>\n",
       "      <td>0.031390</td>\n",
       "    </tr>\n",
       "    <tr>\n",
       "      <td>3</td>\n",
       "      <td>2019-08-02</td>\n",
       "      <td>B</td>\n",
       "      <td>40</td>\n",
       "      <td>39</td>\n",
       "      <td>221801</td>\n",
       "      <td>1294</td>\n",
       "      <td>0.030912</td>\n",
       "    </tr>\n",
       "    <tr>\n",
       "      <td>4</td>\n",
       "      <td>2019-08-03</td>\n",
       "      <td>A</td>\n",
       "      <td>66</td>\n",
       "      <td>60</td>\n",
       "      <td>346854</td>\n",
       "      <td>1845</td>\n",
       "      <td>0.035772</td>\n",
       "    </tr>\n",
       "    <tr>\n",
       "      <td>...</td>\n",
       "      <td>...</td>\n",
       "      <td>...</td>\n",
       "      <td>...</td>\n",
       "      <td>...</td>\n",
       "      <td>...</td>\n",
       "      <td>...</td>\n",
       "      <td>...</td>\n",
       "    </tr>\n",
       "    <tr>\n",
       "      <td>57</td>\n",
       "      <td>2019-08-29</td>\n",
       "      <td>B</td>\n",
       "      <td>510</td>\n",
       "      <td>490</td>\n",
       "      <td>4746610</td>\n",
       "      <td>17708</td>\n",
       "      <td>0.028801</td>\n",
       "    </tr>\n",
       "    <tr>\n",
       "      <td>58</td>\n",
       "      <td>2019-08-30</td>\n",
       "      <td>A</td>\n",
       "      <td>460</td>\n",
       "      <td>437</td>\n",
       "      <td>3311413</td>\n",
       "      <td>18037</td>\n",
       "      <td>0.025503</td>\n",
       "    </tr>\n",
       "    <tr>\n",
       "      <td>59</td>\n",
       "      <td>2019-08-30</td>\n",
       "      <td>B</td>\n",
       "      <td>531</td>\n",
       "      <td>511</td>\n",
       "      <td>4955833</td>\n",
       "      <td>18198</td>\n",
       "      <td>0.029179</td>\n",
       "    </tr>\n",
       "    <tr>\n",
       "      <td>60</td>\n",
       "      <td>2019-08-31</td>\n",
       "      <td>A</td>\n",
       "      <td>468</td>\n",
       "      <td>445</td>\n",
       "      <td>3364656</td>\n",
       "      <td>18736</td>\n",
       "      <td>0.024979</td>\n",
       "    </tr>\n",
       "    <tr>\n",
       "      <td>61</td>\n",
       "      <td>2019-08-31</td>\n",
       "      <td>B</td>\n",
       "      <td>548</td>\n",
       "      <td>528</td>\n",
       "      <td>5068972</td>\n",
       "      <td>18916</td>\n",
       "      <td>0.028970</td>\n",
       "    </tr>\n",
       "  </tbody>\n",
       "</table>\n",
       "<p>62 rows × 7 columns</p>\n",
       "</div>"
      ],
      "text/plain": [
       "          date group  orders  buyers  revenue  visitors  conversion\n",
       "0   2019-08-01     A      23      19   142779       719    0.031989\n",
       "1   2019-08-01     B      17      17    59758       713    0.023843\n",
       "2   2019-08-02     A      42      36   234381      1338    0.031390\n",
       "3   2019-08-02     B      40      39   221801      1294    0.030912\n",
       "4   2019-08-03     A      66      60   346854      1845    0.035772\n",
       "..         ...   ...     ...     ...      ...       ...         ...\n",
       "57  2019-08-29     B     510     490  4746610     17708    0.028801\n",
       "58  2019-08-30     A     460     437  3311413     18037    0.025503\n",
       "59  2019-08-30     B     531     511  4955833     18198    0.029179\n",
       "60  2019-08-31     A     468     445  3364656     18736    0.024979\n",
       "61  2019-08-31     B     548     528  5068972     18916    0.028970\n",
       "\n",
       "[62 rows x 7 columns]"
      ]
     },
     "execution_count": 22,
     "metadata": {},
     "output_type": "execute_result"
    }
   ],
   "source": [
    "cumulativeData['conversion'] = cumulativeData['orders']/cumulativeData['visitors']\n",
    "cumulativeData"
   ]
  },
  {
   "cell_type": "code",
   "execution_count": 23,
   "metadata": {},
   "outputs": [],
   "source": [
    "cumulativeDataA = cumulativeData[cumulativeData['group']=='A']\n",
    "cumulativeDataB = cumulativeData[cumulativeData['group']=='B']\n"
   ]
  },
  {
   "cell_type": "code",
   "execution_count": 24,
   "metadata": {},
   "outputs": [
    {
     "data": {
      "image/png": "[encoded data removed]",
      "text/plain": [
       "<Figure size 432x288 with 1 Axes>"
      ]
     },
     "metadata": {
      "needs_background": "light"
     },
     "output_type": "display_data"
    }
   ],
   "source": [
    "plt.plot(cumulativeDataA['date'], cumulativeDataA['conversion'], label='A')\n",
    "plt.plot(cumulativeDataB['date'], cumulativeDataB['conversion'], label='B')\n",
    "plt.legend()\n",
    "plt.axis([\"2019-08-01\", '2019-08-31',0, 0.05])\n",
    "plt.title('Кумулятивная конверсии по группам');\n",
    "plt.xlabel(\"дни\");\n",
    "plt.ylabel(\"конверсия\");\n",
    "plt.xticks(rotation=90);"
   ]
  },
  {
   "cell_type": "markdown",
   "metadata": {},
   "source": [
    "В начале теста, группа А показывает лучшие результаты по сравнению с группой B, начиная с 6 августа группа А стабильно хуже по накопленным показателям, чем B. В начале теста были колебания конверсии в обеих группах. График стабилизировался только к концу."
   ]
  },
  {
   "cell_type": "markdown",
   "metadata": {},
   "source": [
    "### График относительного изменения кумулятивной конверсии группы B к группе A"
   ]
  },
  {
   "cell_type": "markdown",
   "metadata": {},
   "source": [
    "Соединим таблицы c полученной конверсией для обоих группы, для расчета относительного изменения"
   ]
  },
  {
   "cell_type": "code",
   "execution_count": 25,
   "metadata": {
    "scrolled": false
   },
   "outputs": [
    {
     "data": {
      "text/html": [
       "<div>\n",
       "<style scoped>\n",
       "    .dataframe tbody tr th:only-of-type {\n",
       "        vertical-align: middle;\n",
       "    }\n",
       "\n",
       "    .dataframe tbody tr th {\n",
       "        vertical-align: top;\n",
       "    }\n",
       "\n",
       "    .dataframe thead th {\n",
       "        text-align: right;\n",
       "    }\n",
       "</style>\n",
       "<table border=\"1\" class=\"dataframe\">\n",
       "  <thead>\n",
       "    <tr style=\"text-align: right;\">\n",
       "      <th></th>\n",
       "      <th>date</th>\n",
       "      <th>conversionA</th>\n",
       "      <th>conversionB</th>\n",
       "    </tr>\n",
       "  </thead>\n",
       "  <tbody>\n",
       "    <tr>\n",
       "      <td>26</td>\n",
       "      <td>2019-08-27</td>\n",
       "      <td>0.025586</td>\n",
       "      <td>0.028627</td>\n",
       "    </tr>\n",
       "    <tr>\n",
       "      <td>27</td>\n",
       "      <td>2019-08-28</td>\n",
       "      <td>0.025575</td>\n",
       "      <td>0.028818</td>\n",
       "    </tr>\n",
       "    <tr>\n",
       "      <td>28</td>\n",
       "      <td>2019-08-29</td>\n",
       "      <td>0.025702</td>\n",
       "      <td>0.028801</td>\n",
       "    </tr>\n",
       "    <tr>\n",
       "      <td>29</td>\n",
       "      <td>2019-08-30</td>\n",
       "      <td>0.025503</td>\n",
       "      <td>0.029179</td>\n",
       "    </tr>\n",
       "    <tr>\n",
       "      <td>30</td>\n",
       "      <td>2019-08-31</td>\n",
       "      <td>0.024979</td>\n",
       "      <td>0.028970</td>\n",
       "    </tr>\n",
       "  </tbody>\n",
       "</table>\n",
       "</div>"
      ],
      "text/plain": [
       "          date  conversionA  conversionB\n",
       "26  2019-08-27     0.025586     0.028627\n",
       "27  2019-08-28     0.025575     0.028818\n",
       "28  2019-08-29     0.025702     0.028801\n",
       "29  2019-08-30     0.025503     0.029179\n",
       "30  2019-08-31     0.024979     0.028970"
      ]
     },
     "execution_count": 25,
     "metadata": {},
     "output_type": "execute_result"
    }
   ],
   "source": [
    "mergedCumulativeConversions = cumulativeDataA[['date','conversion']].merge(\n",
    "    cumulativeDataB[['date','conversion']],\n",
    "    left_on='date',\n",
    "    right_on='date',\n",
    "    how='left',\n",
    "    suffixes=['A', 'B']\n",
    ")\n",
    "mergedCumulativeConversions.tail()"
   ]
  },
  {
   "cell_type": "code",
   "execution_count": 26,
   "metadata": {
    "scrolled": true
   },
   "outputs": [
    {
     "name": "stderr",
     "output_type": "stream",
     "text": [
      "No handles with labels found to put in legend.\n"
     ]
    },
    {
     "data": {
      "image/png": "[encoded data removed]",
      "text/plain": [
       "<Figure size 432x288 with 1 Axes>"
      ]
     },
     "metadata": {
      "needs_background": "light"
     },
     "output_type": "display_data"
    }
   ],
   "source": [
    "plt.plot(\n",
    "    mergedCumulativeConversions['date'],\n",
    "    mergedCumulativeConversions['conversionB']/mergedCumulativeConversions['conversionA']-1\n",
    ");\n",
    "plt.legend();\n",
    "\n",
    "plt.axhline(y=0, color='black', linestyle='--');\n",
    "plt.axhline(y=0.16, color='grey', linestyle='--');\n",
    "plt.axis([\"2019-08-01\", '2019-08-31', -0.5, 0.5]);\n",
    "\n",
    "plt.title('Относительного изменения кумулятивной конверсии группы B к группе A');\n",
    "plt.xlabel(\"дни\");\n",
    "plt.ylabel(\"конверсия\");\n",
    "plt.xticks(rotation=90);"
   ]
  },
  {
   "cell_type": "markdown",
   "metadata": {},
   "source": [
    "Из данных видно, что почти с самого начала теста, группа А лидирует в конверсии группы В, с 6 августа ситуация меняется в пользу сегмента В. В становилось все лучше и лучше и относительное изменение кумулятивной конверсии установилось на уровне 16%."
   ]
  },
  {
   "cell_type": "markdown",
   "metadata": {},
   "source": [
    "### Точечный график количества заказов по пользователям"
   ]
  },
  {
   "cell_type": "markdown",
   "metadata": {},
   "source": [
    "Сделаем группировку, чтобы найти число заказов по пользователям"
   ]
  },
  {
   "cell_type": "code",
   "execution_count": 27,
   "metadata": {
    "scrolled": true
   },
   "outputs": [
    {
     "data": {
      "text/html": [
       "<div>\n",
       "<style scoped>\n",
       "    .dataframe tbody tr th:only-of-type {\n",
       "        vertical-align: middle;\n",
       "    }\n",
       "\n",
       "    .dataframe tbody tr th {\n",
       "        vertical-align: top;\n",
       "    }\n",
       "\n",
       "    .dataframe thead th {\n",
       "        text-align: right;\n",
       "    }\n",
       "</style>\n",
       "<table border=\"1\" class=\"dataframe\">\n",
       "  <thead>\n",
       "    <tr style=\"text-align: right;\">\n",
       "      <th></th>\n",
       "      <th>userId</th>\n",
       "      <th>orders</th>\n",
       "    </tr>\n",
       "  </thead>\n",
       "  <tbody>\n",
       "    <tr>\n",
       "      <td>908</td>\n",
       "      <td>3967698036</td>\n",
       "      <td>3</td>\n",
       "    </tr>\n",
       "    <tr>\n",
       "      <td>55</td>\n",
       "      <td>249864742</td>\n",
       "      <td>3</td>\n",
       "    </tr>\n",
       "    <tr>\n",
       "      <td>478</td>\n",
       "      <td>2108163459</td>\n",
       "      <td>3</td>\n",
       "    </tr>\n",
       "    <tr>\n",
       "      <td>687</td>\n",
       "      <td>2988190573</td>\n",
       "      <td>3</td>\n",
       "    </tr>\n",
       "    <tr>\n",
       "      <td>890</td>\n",
       "      <td>3908431265</td>\n",
       "      <td>3</td>\n",
       "    </tr>\n",
       "  </tbody>\n",
       "</table>\n",
       "</div>"
      ],
      "text/plain": [
       "         userId  orders\n",
       "908  3967698036       3\n",
       "55    249864742       3\n",
       "478  2108163459       3\n",
       "687  2988190573       3\n",
       "890  3908431265       3"
      ]
     },
     "execution_count": 27,
     "metadata": {},
     "output_type": "execute_result"
    }
   ],
   "source": [
    "ordersByUsers = orders.groupby('visitorId').agg({'transactionId':'count'}).reset_index()\n",
    "ordersByUsers.columns = ['userId', 'orders']\n",
    "\n",
    "ordersByUsers.sort_values(by='orders', ascending=False).head()"
   ]
  },
  {
   "cell_type": "code",
   "execution_count": 28,
   "metadata": {
    "scrolled": true
   },
   "outputs": [
    {
     "data": {
      "image/png": "[encoded data removed]",
      "text/plain": [
       "<Figure size 432x288 with 1 Axes>"
      ]
     },
     "metadata": {
      "needs_background": "light"
     },
     "output_type": "display_data"
    }
   ],
   "source": [
    "x_values = pd.Series(range(0,len(ordersByUsers)))\n",
    "plt.scatter(x_values, ordersByUsers['orders']); \n",
    "plt.title('Количество заказов по пользователям');\n",
    "plt.xlabel(\"пользователи\");\n",
    "plt.ylabel(\"количество заказов\");"
   ]
  },
  {
   "cell_type": "markdown",
   "metadata": {},
   "source": [
    "Большинство пользователей сделали заказ всего 1 раз. Пользователей сделавшие заказ более 2-х или 3-х раз совсем мало, их можно считать аномальными пользователями."
   ]
  },
  {
   "cell_type": "markdown",
   "metadata": {},
   "source": [
    "### Граница для определения аномальных пользователей"
   ]
  },
  {
   "cell_type": "markdown",
   "metadata": {},
   "source": [
    "Посчитаем 95-й и 99-й выборочные перцентили количества заказов по пользователям"
   ]
  },
  {
   "cell_type": "code",
   "execution_count": 29,
   "metadata": {},
   "outputs": [
    {
     "data": {
      "text/plain": [
       "array([1., 2.])"
      ]
     },
     "execution_count": 29,
     "metadata": {},
     "output_type": "execute_result"
    }
   ],
   "source": [
    "np.percentile(ordersByUsers['orders'], [95, 99])"
   ]
  },
  {
   "cell_type": "markdown",
   "metadata": {},
   "source": [
    "Из данных видно, что не более 5% пользователей совершили больше 1-х заказов, и не более 1% совершили более 2-х заказов. Следовательно, аномальными пользователями будут те, кто сделал более 1 заказа. "
   ]
  },
  {
   "cell_type": "markdown",
   "metadata": {},
   "source": [
    "### Точечный график стоимостей заказов"
   ]
  },
  {
   "cell_type": "code",
   "execution_count": 30,
   "metadata": {
    "scrolled": true
   },
   "outputs": [
    {
     "data": {
      "image/png": "[encoded data removed]",
      "text/plain": [
       "<Figure size 432x288 with 1 Axes>"
      ]
     },
     "metadata": {
      "needs_background": "light"
     },
     "output_type": "display_data"
    }
   ],
   "source": [
    "x_values = pd.Series(range(0, len(orders['revenue'])))\n",
    "plt.scatter(x_values, orders['revenue']);\n",
    "plt.title('Стоимость заказа');\n",
    "plt.xlabel(\"заказы\");\n",
    "plt.ylabel(\"стоимость\"); "
   ]
  },
  {
   "cell_type": "markdown",
   "metadata": {},
   "source": [
    "Приблизим данные и рассмотрим детально:"
   ]
  },
  {
   "cell_type": "code",
   "execution_count": 31,
   "metadata": {},
   "outputs": [
    {
     "data": {
      "image/png": "[encoded data removed]",
      "text/plain": [
       "<Figure size 432x288 with 1 Axes>"
      ]
     },
     "metadata": {
      "needs_background": "light"
     },
     "output_type": "display_data"
    }
   ],
   "source": [
    "x_values = pd.Series(range(0, len(orders['revenue'])))\n",
    "plt.scatter(x_values, orders['revenue']);\n",
    "plt.title('Стоимость заказа');\n",
    "plt.xlabel(\"заказы\");\n",
    "plt.ylabel(\"стоимость\"); \n",
    "plt.ylim(0,90000);"
   ]
  },
  {
   "cell_type": "markdown",
   "metadata": {},
   "source": [
    "Рассотрим, на какую сумму чаще всего пользователи делают заказ. Так как распределение ненормально, используем моду."
   ]
  },
  {
   "cell_type": "code",
   "execution_count": 32,
   "metadata": {},
   "outputs": [
    {
     "data": {
      "text/plain": [
       "0    990\n",
       "dtype: int64"
      ]
     },
     "execution_count": 32,
     "metadata": {},
     "output_type": "execute_result"
    }
   ],
   "source": [
    "orders['revenue'].mode()"
   ]
  },
  {
   "cell_type": "markdown",
   "metadata": {},
   "source": [
    "Из данных видно, что большая часть пользователей делала заказ на сумму не больше 990. Из общих данных выбиваются заказы совершенную на сумму более 30 тыс. "
   ]
  },
  {
   "cell_type": "markdown",
   "metadata": {},
   "source": [
    "### Граница для определения аномальных пользователей"
   ]
  },
  {
   "cell_type": "code",
   "execution_count": 33,
   "metadata": {},
   "outputs": [
    {
     "data": {
      "text/plain": [
       "array([26785., 53904.])"
      ]
     },
     "execution_count": 33,
     "metadata": {},
     "output_type": "execute_result"
    }
   ],
   "source": [
    "np.percentile(orders['revenue'], [95, 99])"
   ]
  },
  {
   "cell_type": "markdown",
   "metadata": {},
   "source": [
    "Не более чем у 5%  заказ дороже чем на 27 тыс., и не более чем у 1% заказов - дороже 53,9 тыс. Поэтому в качестве аномальных пользователей возьмем данные, между 1% и 5% - 30 тыс."
   ]
  },
  {
   "cell_type": "markdown",
   "metadata": {},
   "source": [
    "### Cтатистическая значимость различий в конверсии между группами по «сырым» данным"
   ]
  },
  {
   "cell_type": "markdown",
   "metadata": {},
   "source": [
    "Создадим таблицу, которая поможет для вычисления статистической значимости по обеим группам, дополнительно вычислим следующие показатели:\n",
    "* date — дата;\n",
    "* ordersPerDateA — количество заказов в выбранную дату в группе A;\n",
    "* revenuePerDateA — суммарная выручка в выбранную дату в группе A;\n",
    "* ordersPerDateB — количество заказов в выбранную дату в группе B;\n",
    "* revenuePerDateB — суммарная выручка в выбранную дату в группе B;\n",
    "* ordersCummulativeA — суммарное число заказов до выбранной даты включительно в группе A;\n",
    "* revenueCummulativeA — суммарная выручка до выбранной даты включительно в группе A;\n",
    "* ordersCummulativeB — суммарное количество заказов до выбранной даты включительно в группе B;\n",
    "* revenueCummulativeB — суммарная выручка до выбранной даты включительно в группе B;\n",
    "* visitorsPerDateA — количество пользователей в выбранную дату в группе A;\n",
    "* visitorsPerDateB — количество пользователей в выбранную дату в группе B;\n",
    "* visitorsCummulativeA — количество пользователей до выбранной даты включительно в группе A;\n",
    "* visitorsCummulativeB — количество пользователей до выбранной даты включительно в группе B."
   ]
  },
  {
   "cell_type": "markdown",
   "metadata": {},
   "source": [
    "Сгруппируем количество пользователей для каждой даты по группе А"
   ]
  },
  {
   "cell_type": "code",
   "execution_count": 34,
   "metadata": {
    "scrolled": true
   },
   "outputs": [
    {
     "data": {
      "text/html": [
       "<div>\n",
       "<style scoped>\n",
       "    .dataframe tbody tr th:only-of-type {\n",
       "        vertical-align: middle;\n",
       "    }\n",
       "\n",
       "    .dataframe tbody tr th {\n",
       "        vertical-align: top;\n",
       "    }\n",
       "\n",
       "    .dataframe thead th {\n",
       "        text-align: right;\n",
       "    }\n",
       "</style>\n",
       "<table border=\"1\" class=\"dataframe\">\n",
       "  <thead>\n",
       "    <tr style=\"text-align: right;\">\n",
       "      <th></th>\n",
       "      <th>date</th>\n",
       "      <th>visitorsPerDateA</th>\n",
       "    </tr>\n",
       "  </thead>\n",
       "  <tbody>\n",
       "    <tr>\n",
       "      <td>0</td>\n",
       "      <td>2019-08-01</td>\n",
       "      <td>719</td>\n",
       "    </tr>\n",
       "    <tr>\n",
       "      <td>1</td>\n",
       "      <td>2019-08-02</td>\n",
       "      <td>619</td>\n",
       "    </tr>\n",
       "    <tr>\n",
       "      <td>2</td>\n",
       "      <td>2019-08-03</td>\n",
       "      <td>507</td>\n",
       "    </tr>\n",
       "    <tr>\n",
       "      <td>3</td>\n",
       "      <td>2019-08-04</td>\n",
       "      <td>717</td>\n",
       "    </tr>\n",
       "    <tr>\n",
       "      <td>4</td>\n",
       "      <td>2019-08-05</td>\n",
       "      <td>756</td>\n",
       "    </tr>\n",
       "  </tbody>\n",
       "</table>\n",
       "</div>"
      ],
      "text/plain": [
       "         date  visitorsPerDateA\n",
       "0  2019-08-01               719\n",
       "1  2019-08-02               619\n",
       "2  2019-08-03               507\n",
       "3  2019-08-04               717\n",
       "4  2019-08-05               756"
      ]
     },
     "execution_count": 34,
     "metadata": {},
     "output_type": "execute_result"
    }
   ],
   "source": [
    "visitorsADaily = vis[vis['group'] == 'A'][['date', 'visitors']]\n",
    "visitorsADaily.columns = ['date', 'visitorsPerDateA']\n",
    "visitorsADaily.head()"
   ]
  },
  {
   "cell_type": "markdown",
   "metadata": {},
   "source": [
    "Накопитильным итогом посчитаем количество пользователей до выбранной даты для группы А"
   ]
  },
  {
   "cell_type": "code",
   "execution_count": 35,
   "metadata": {},
   "outputs": [
    {
     "data": {
      "text/html": [
       "<div>\n",
       "<style scoped>\n",
       "    .dataframe tbody tr th:only-of-type {\n",
       "        vertical-align: middle;\n",
       "    }\n",
       "\n",
       "    .dataframe tbody tr th {\n",
       "        vertical-align: top;\n",
       "    }\n",
       "\n",
       "    .dataframe thead th {\n",
       "        text-align: right;\n",
       "    }\n",
       "</style>\n",
       "<table border=\"1\" class=\"dataframe\">\n",
       "  <thead>\n",
       "    <tr style=\"text-align: right;\">\n",
       "      <th></th>\n",
       "      <th>date</th>\n",
       "      <th>visitorsCummulativeA</th>\n",
       "    </tr>\n",
       "  </thead>\n",
       "  <tbody>\n",
       "    <tr>\n",
       "      <td>0</td>\n",
       "      <td>2019-08-01</td>\n",
       "      <td>719</td>\n",
       "    </tr>\n",
       "    <tr>\n",
       "      <td>1</td>\n",
       "      <td>2019-08-02</td>\n",
       "      <td>1338</td>\n",
       "    </tr>\n",
       "    <tr>\n",
       "      <td>2</td>\n",
       "      <td>2019-08-03</td>\n",
       "      <td>1845</td>\n",
       "    </tr>\n",
       "    <tr>\n",
       "      <td>3</td>\n",
       "      <td>2019-08-04</td>\n",
       "      <td>2562</td>\n",
       "    </tr>\n",
       "    <tr>\n",
       "      <td>4</td>\n",
       "      <td>2019-08-05</td>\n",
       "      <td>3318</td>\n",
       "    </tr>\n",
       "  </tbody>\n",
       "</table>\n",
       "</div>"
      ],
      "text/plain": [
       "         date  visitorsCummulativeA\n",
       "0  2019-08-01                   719\n",
       "1  2019-08-02                  1338\n",
       "2  2019-08-03                  1845\n",
       "3  2019-08-04                  2562\n",
       "4  2019-08-05                  3318"
      ]
     },
     "execution_count": 35,
     "metadata": {},
     "output_type": "execute_result"
    }
   ],
   "source": [
    "visitorsACummulative = visitorsADaily.apply(\n",
    "    lambda x: visitorsADaily[visitorsADaily['date'] <= x['date']].agg(\n",
    "        {'date': 'max', 'visitorsPerDateA': 'sum'}\n",
    "    ),\n",
    "    axis=1,\n",
    ")\n",
    "visitorsACummulative.columns = ['date', 'visitorsCummulativeA']\n",
    "visitorsACummulative.head()"
   ]
  },
  {
   "cell_type": "markdown",
   "metadata": {},
   "source": [
    "Тоже посчитаем и для группы B: количество пользователей и количество пользователей до выбранной даты"
   ]
  },
  {
   "cell_type": "code",
   "execution_count": 36,
   "metadata": {
    "scrolled": true
   },
   "outputs": [
    {
     "data": {
      "text/html": [
       "<div>\n",
       "<style scoped>\n",
       "    .dataframe tbody tr th:only-of-type {\n",
       "        vertical-align: middle;\n",
       "    }\n",
       "\n",
       "    .dataframe tbody tr th {\n",
       "        vertical-align: top;\n",
       "    }\n",
       "\n",
       "    .dataframe thead th {\n",
       "        text-align: right;\n",
       "    }\n",
       "</style>\n",
       "<table border=\"1\" class=\"dataframe\">\n",
       "  <thead>\n",
       "    <tr style=\"text-align: right;\">\n",
       "      <th></th>\n",
       "      <th>date</th>\n",
       "      <th>visitorsCummulativeB</th>\n",
       "    </tr>\n",
       "  </thead>\n",
       "  <tbody>\n",
       "    <tr>\n",
       "      <td>31</td>\n",
       "      <td>2019-08-01</td>\n",
       "      <td>713</td>\n",
       "    </tr>\n",
       "    <tr>\n",
       "      <td>32</td>\n",
       "      <td>2019-08-02</td>\n",
       "      <td>1294</td>\n",
       "    </tr>\n",
       "    <tr>\n",
       "      <td>33</td>\n",
       "      <td>2019-08-03</td>\n",
       "      <td>1803</td>\n",
       "    </tr>\n",
       "    <tr>\n",
       "      <td>34</td>\n",
       "      <td>2019-08-04</td>\n",
       "      <td>2573</td>\n",
       "    </tr>\n",
       "    <tr>\n",
       "      <td>35</td>\n",
       "      <td>2019-08-05</td>\n",
       "      <td>3280</td>\n",
       "    </tr>\n",
       "  </tbody>\n",
       "</table>\n",
       "</div>"
      ],
      "text/plain": [
       "          date  visitorsCummulativeB\n",
       "31  2019-08-01                   713\n",
       "32  2019-08-02                  1294\n",
       "33  2019-08-03                  1803\n",
       "34  2019-08-04                  2573\n",
       "35  2019-08-05                  3280"
      ]
     },
     "execution_count": 36,
     "metadata": {},
     "output_type": "execute_result"
    }
   ],
   "source": [
    "visitorsBDaily = vis[vis['group'] == 'B'][['date', 'visitors']]\n",
    "visitorsBDaily.columns = ['date', 'visitorsPerDateB']\n",
    "\n",
    "visitorsBCummulative = visitorsBDaily.apply(\n",
    "    lambda x: visitorsBDaily[visitorsBDaily['date'] <= x['date']].agg(\n",
    "        {'date': 'max', 'visitorsPerDateB': 'sum'}\n",
    "    ),\n",
    "    axis=1,\n",
    ")\n",
    "visitorsBCummulative.columns = ['date', 'visitorsCummulativeB']\n",
    "visitorsBCummulative.head()"
   ]
  },
  {
   "cell_type": "markdown",
   "metadata": {},
   "source": [
    "Далее расчитаем количество заказов в выбранную дату и суммарную вырочку"
   ]
  },
  {
   "cell_type": "code",
   "execution_count": 37,
   "metadata": {},
   "outputs": [
    {
     "data": {
      "text/html": [
       "<div>\n",
       "<style scoped>\n",
       "    .dataframe tbody tr th:only-of-type {\n",
       "        vertical-align: middle;\n",
       "    }\n",
       "\n",
       "    .dataframe tbody tr th {\n",
       "        vertical-align: top;\n",
       "    }\n",
       "\n",
       "    .dataframe thead th {\n",
       "        text-align: right;\n",
       "    }\n",
       "</style>\n",
       "<table border=\"1\" class=\"dataframe\">\n",
       "  <thead>\n",
       "    <tr style=\"text-align: right;\">\n",
       "      <th></th>\n",
       "      <th>date</th>\n",
       "      <th>ordersPerDateA</th>\n",
       "      <th>revenuePerDateA</th>\n",
       "    </tr>\n",
       "  </thead>\n",
       "  <tbody>\n",
       "    <tr>\n",
       "      <td>0</td>\n",
       "      <td>2019-08-01</td>\n",
       "      <td>23</td>\n",
       "      <td>142779</td>\n",
       "    </tr>\n",
       "    <tr>\n",
       "      <td>1</td>\n",
       "      <td>2019-08-02</td>\n",
       "      <td>19</td>\n",
       "      <td>91602</td>\n",
       "    </tr>\n",
       "    <tr>\n",
       "      <td>2</td>\n",
       "      <td>2019-08-03</td>\n",
       "      <td>24</td>\n",
       "      <td>112473</td>\n",
       "    </tr>\n",
       "    <tr>\n",
       "      <td>3</td>\n",
       "      <td>2019-08-04</td>\n",
       "      <td>11</td>\n",
       "      <td>41176</td>\n",
       "    </tr>\n",
       "    <tr>\n",
       "      <td>4</td>\n",
       "      <td>2019-08-05</td>\n",
       "      <td>22</td>\n",
       "      <td>86383</td>\n",
       "    </tr>\n",
       "  </tbody>\n",
       "</table>\n",
       "</div>"
      ],
      "text/plain": [
       "         date  ordersPerDateA  revenuePerDateA\n",
       "0  2019-08-01              23           142779\n",
       "1  2019-08-02              19            91602\n",
       "2  2019-08-03              24           112473\n",
       "3  2019-08-04              11            41176\n",
       "4  2019-08-05              22            86383"
      ]
     },
     "execution_count": 37,
     "metadata": {},
     "output_type": "execute_result"
    }
   ],
   "source": [
    "ordersADaily = orders[orders['group'] == 'A'].groupby('date').agg({'transactionId':'count','revenue': 'sum'}).reset_index()\n",
    "ordersADaily.columns = ['date', 'ordersPerDateA', 'revenuePerDateA']\n",
    "ordersADaily.head()"
   ]
  },
  {
   "cell_type": "markdown",
   "metadata": {},
   "source": [
    "Накопитильным итогом посчитаем количество заказов в выбранную дату и суммарную вырочку для группы А"
   ]
  },
  {
   "cell_type": "code",
   "execution_count": 38,
   "metadata": {
    "scrolled": true
   },
   "outputs": [
    {
     "data": {
      "text/html": [
       "<div>\n",
       "<style scoped>\n",
       "    .dataframe tbody tr th:only-of-type {\n",
       "        vertical-align: middle;\n",
       "    }\n",
       "\n",
       "    .dataframe tbody tr th {\n",
       "        vertical-align: top;\n",
       "    }\n",
       "\n",
       "    .dataframe thead th {\n",
       "        text-align: right;\n",
       "    }\n",
       "</style>\n",
       "<table border=\"1\" class=\"dataframe\">\n",
       "  <thead>\n",
       "    <tr style=\"text-align: right;\">\n",
       "      <th></th>\n",
       "      <th>date</th>\n",
       "      <th>ordersCummulativeA</th>\n",
       "      <th>revenueCummulativeA</th>\n",
       "    </tr>\n",
       "  </thead>\n",
       "  <tbody>\n",
       "    <tr>\n",
       "      <td>0</td>\n",
       "      <td>2019-08-01</td>\n",
       "      <td>23</td>\n",
       "      <td>142779</td>\n",
       "    </tr>\n",
       "    <tr>\n",
       "      <td>1</td>\n",
       "      <td>2019-08-02</td>\n",
       "      <td>42</td>\n",
       "      <td>234381</td>\n",
       "    </tr>\n",
       "    <tr>\n",
       "      <td>2</td>\n",
       "      <td>2019-08-03</td>\n",
       "      <td>66</td>\n",
       "      <td>346854</td>\n",
       "    </tr>\n",
       "    <tr>\n",
       "      <td>3</td>\n",
       "      <td>2019-08-04</td>\n",
       "      <td>77</td>\n",
       "      <td>388030</td>\n",
       "    </tr>\n",
       "    <tr>\n",
       "      <td>4</td>\n",
       "      <td>2019-08-05</td>\n",
       "      <td>99</td>\n",
       "      <td>474413</td>\n",
       "    </tr>\n",
       "  </tbody>\n",
       "</table>\n",
       "</div>"
      ],
      "text/plain": [
       "         date  ordersCummulativeA  revenueCummulativeA\n",
       "0  2019-08-01                  23               142779\n",
       "1  2019-08-02                  42               234381\n",
       "2  2019-08-03                  66               346854\n",
       "3  2019-08-04                  77               388030\n",
       "4  2019-08-05                  99               474413"
      ]
     },
     "execution_count": 38,
     "metadata": {},
     "output_type": "execute_result"
    }
   ],
   "source": [
    "ordersACummulative = ordersADaily.apply(\n",
    "    lambda x: ordersADaily[ordersADaily['date'] <= x['date']].agg(\n",
    "        {'date': 'max', 'ordersPerDateA': 'sum', 'revenuePerDateA': 'sum'}\n",
    "    ),\n",
    "    axis=1,\n",
    ").sort_values(by=['date'])\n",
    "ordersACummulative.columns = [\n",
    "    'date',\n",
    "    'ordersCummulativeA',\n",
    "    'revenueCummulativeA',\n",
    "]\n",
    "ordersACummulative.head()"
   ]
  },
  {
   "cell_type": "markdown",
   "metadata": {},
   "source": [
    "Тоже посчитаем и для группы B: количество заказов, суммарную вырочку,  количество заказов до выбранной даты, сумма заказаов до выбранной даты"
   ]
  },
  {
   "cell_type": "code",
   "execution_count": 39,
   "metadata": {},
   "outputs": [
    {
     "data": {
      "text/html": [
       "<div>\n",
       "<style scoped>\n",
       "    .dataframe tbody tr th:only-of-type {\n",
       "        vertical-align: middle;\n",
       "    }\n",
       "\n",
       "    .dataframe tbody tr th {\n",
       "        vertical-align: top;\n",
       "    }\n",
       "\n",
       "    .dataframe thead th {\n",
       "        text-align: right;\n",
       "    }\n",
       "</style>\n",
       "<table border=\"1\" class=\"dataframe\">\n",
       "  <thead>\n",
       "    <tr style=\"text-align: right;\">\n",
       "      <th></th>\n",
       "      <th>date</th>\n",
       "      <th>ordersPerDateB</th>\n",
       "      <th>revenuePerDateB</th>\n",
       "    </tr>\n",
       "  </thead>\n",
       "  <tbody>\n",
       "    <tr>\n",
       "      <td>0</td>\n",
       "      <td>2019-08-01</td>\n",
       "      <td>17</td>\n",
       "      <td>59758</td>\n",
       "    </tr>\n",
       "    <tr>\n",
       "      <td>1</td>\n",
       "      <td>2019-08-02</td>\n",
       "      <td>23</td>\n",
       "      <td>162043</td>\n",
       "    </tr>\n",
       "    <tr>\n",
       "      <td>2</td>\n",
       "      <td>2019-08-03</td>\n",
       "      <td>14</td>\n",
       "      <td>67049</td>\n",
       "    </tr>\n",
       "    <tr>\n",
       "      <td>3</td>\n",
       "      <td>2019-08-04</td>\n",
       "      <td>14</td>\n",
       "      <td>96890</td>\n",
       "    </tr>\n",
       "    <tr>\n",
       "      <td>4</td>\n",
       "      <td>2019-08-05</td>\n",
       "      <td>21</td>\n",
       "      <td>89908</td>\n",
       "    </tr>\n",
       "  </tbody>\n",
       "</table>\n",
       "</div>"
      ],
      "text/plain": [
       "         date  ordersPerDateB  revenuePerDateB\n",
       "0  2019-08-01              17            59758\n",
       "1  2019-08-02              23           162043\n",
       "2  2019-08-03              14            67049\n",
       "3  2019-08-04              14            96890\n",
       "4  2019-08-05              21            89908"
      ]
     },
     "execution_count": 39,
     "metadata": {},
     "output_type": "execute_result"
    }
   ],
   "source": [
    "ordersBDaily = orders[orders['group'] == 'B'].groupby('date').agg({'transactionId':'count','revenue': 'sum'}).reset_index()\n",
    "ordersBDaily.columns = ['date', 'ordersPerDateB', 'revenuePerDateB']\n",
    "ordersBDaily.head()"
   ]
  },
  {
   "cell_type": "code",
   "execution_count": 40,
   "metadata": {},
   "outputs": [
    {
     "data": {
      "text/html": [
       "<div>\n",
       "<style scoped>\n",
       "    .dataframe tbody tr th:only-of-type {\n",
       "        vertical-align: middle;\n",
       "    }\n",
       "\n",
       "    .dataframe tbody tr th {\n",
       "        vertical-align: top;\n",
       "    }\n",
       "\n",
       "    .dataframe thead th {\n",
       "        text-align: right;\n",
       "    }\n",
       "</style>\n",
       "<table border=\"1\" class=\"dataframe\">\n",
       "  <thead>\n",
       "    <tr style=\"text-align: right;\">\n",
       "      <th></th>\n",
       "      <th>date</th>\n",
       "      <th>ordersCummulativeB</th>\n",
       "      <th>revenueCummulativeB</th>\n",
       "    </tr>\n",
       "  </thead>\n",
       "  <tbody>\n",
       "    <tr>\n",
       "      <td>0</td>\n",
       "      <td>2019-08-01</td>\n",
       "      <td>17</td>\n",
       "      <td>59758</td>\n",
       "    </tr>\n",
       "    <tr>\n",
       "      <td>1</td>\n",
       "      <td>2019-08-02</td>\n",
       "      <td>40</td>\n",
       "      <td>221801</td>\n",
       "    </tr>\n",
       "    <tr>\n",
       "      <td>2</td>\n",
       "      <td>2019-08-03</td>\n",
       "      <td>54</td>\n",
       "      <td>288850</td>\n",
       "    </tr>\n",
       "    <tr>\n",
       "      <td>3</td>\n",
       "      <td>2019-08-04</td>\n",
       "      <td>68</td>\n",
       "      <td>385740</td>\n",
       "    </tr>\n",
       "    <tr>\n",
       "      <td>4</td>\n",
       "      <td>2019-08-05</td>\n",
       "      <td>89</td>\n",
       "      <td>475648</td>\n",
       "    </tr>\n",
       "  </tbody>\n",
       "</table>\n",
       "</div>"
      ],
      "text/plain": [
       "         date  ordersCummulativeB  revenueCummulativeB\n",
       "0  2019-08-01                  17                59758\n",
       "1  2019-08-02                  40               221801\n",
       "2  2019-08-03                  54               288850\n",
       "3  2019-08-04                  68               385740\n",
       "4  2019-08-05                  89               475648"
      ]
     },
     "execution_count": 40,
     "metadata": {},
     "output_type": "execute_result"
    }
   ],
   "source": [
    "ordersBCummulative = ordersBDaily.apply(\n",
    "    lambda x: ordersBDaily[ordersBDaily['date'] <= x['date']].agg(\n",
    "        {'date': 'max', 'ordersPerDateB': 'sum', 'revenuePerDateB': 'sum'}\n",
    "    ),\n",
    "    axis=1,\n",
    ").sort_values(by=['date'])\n",
    "ordersBCummulative.columns = [\n",
    "    'date',\n",
    "    'ordersCummulativeB',\n",
    "    'revenueCummulativeB',\n",
    "]\n",
    "ordersBCummulative.head()"
   ]
  },
  {
   "cell_type": "markdown",
   "metadata": {},
   "source": [
    "Соединим данные в таблицу date:"
   ]
  },
  {
   "cell_type": "code",
   "execution_count": 41,
   "metadata": {},
   "outputs": [
    {
     "data": {
      "text/html": [
       "<div>\n",
       "<style scoped>\n",
       "    .dataframe tbody tr th:only-of-type {\n",
       "        vertical-align: middle;\n",
       "    }\n",
       "\n",
       "    .dataframe tbody tr th {\n",
       "        vertical-align: top;\n",
       "    }\n",
       "\n",
       "    .dataframe thead th {\n",
       "        text-align: right;\n",
       "    }\n",
       "</style>\n",
       "<table border=\"1\" class=\"dataframe\">\n",
       "  <thead>\n",
       "    <tr style=\"text-align: right;\">\n",
       "      <th></th>\n",
       "      <th>date</th>\n",
       "      <th>ordersPerDateA</th>\n",
       "      <th>revenuePerDateA</th>\n",
       "      <th>ordersPerDateB</th>\n",
       "      <th>revenuePerDateB</th>\n",
       "      <th>ordersCummulativeA</th>\n",
       "      <th>revenueCummulativeA</th>\n",
       "      <th>ordersCummulativeB</th>\n",
       "      <th>revenueCummulativeB</th>\n",
       "      <th>visitorsPerDateA</th>\n",
       "      <th>visitorsPerDateB</th>\n",
       "      <th>visitorsCummulativeA</th>\n",
       "      <th>visitorsCummulativeB</th>\n",
       "    </tr>\n",
       "  </thead>\n",
       "  <tbody>\n",
       "    <tr>\n",
       "      <td>0</td>\n",
       "      <td>2019-08-01</td>\n",
       "      <td>23</td>\n",
       "      <td>142779</td>\n",
       "      <td>17</td>\n",
       "      <td>59758</td>\n",
       "      <td>23</td>\n",
       "      <td>142779</td>\n",
       "      <td>17</td>\n",
       "      <td>59758</td>\n",
       "      <td>719</td>\n",
       "      <td>713</td>\n",
       "      <td>719</td>\n",
       "      <td>713</td>\n",
       "    </tr>\n",
       "    <tr>\n",
       "      <td>1</td>\n",
       "      <td>2019-08-02</td>\n",
       "      <td>19</td>\n",
       "      <td>91602</td>\n",
       "      <td>23</td>\n",
       "      <td>162043</td>\n",
       "      <td>42</td>\n",
       "      <td>234381</td>\n",
       "      <td>40</td>\n",
       "      <td>221801</td>\n",
       "      <td>619</td>\n",
       "      <td>581</td>\n",
       "      <td>1338</td>\n",
       "      <td>1294</td>\n",
       "    </tr>\n",
       "    <tr>\n",
       "      <td>2</td>\n",
       "      <td>2019-08-03</td>\n",
       "      <td>24</td>\n",
       "      <td>112473</td>\n",
       "      <td>14</td>\n",
       "      <td>67049</td>\n",
       "      <td>66</td>\n",
       "      <td>346854</td>\n",
       "      <td>54</td>\n",
       "      <td>288850</td>\n",
       "      <td>507</td>\n",
       "      <td>509</td>\n",
       "      <td>1845</td>\n",
       "      <td>1803</td>\n",
       "    </tr>\n",
       "    <tr>\n",
       "      <td>3</td>\n",
       "      <td>2019-08-04</td>\n",
       "      <td>11</td>\n",
       "      <td>41176</td>\n",
       "      <td>14</td>\n",
       "      <td>96890</td>\n",
       "      <td>77</td>\n",
       "      <td>388030</td>\n",
       "      <td>68</td>\n",
       "      <td>385740</td>\n",
       "      <td>717</td>\n",
       "      <td>770</td>\n",
       "      <td>2562</td>\n",
       "      <td>2573</td>\n",
       "    </tr>\n",
       "    <tr>\n",
       "      <td>4</td>\n",
       "      <td>2019-08-05</td>\n",
       "      <td>22</td>\n",
       "      <td>86383</td>\n",
       "      <td>21</td>\n",
       "      <td>89908</td>\n",
       "      <td>99</td>\n",
       "      <td>474413</td>\n",
       "      <td>89</td>\n",
       "      <td>475648</td>\n",
       "      <td>756</td>\n",
       "      <td>707</td>\n",
       "      <td>3318</td>\n",
       "      <td>3280</td>\n",
       "    </tr>\n",
       "    <tr>\n",
       "      <td>5</td>\n",
       "      <td>2019-08-06</td>\n",
       "      <td>15</td>\n",
       "      <td>40919</td>\n",
       "      <td>23</td>\n",
       "      <td>214842</td>\n",
       "      <td>114</td>\n",
       "      <td>515332</td>\n",
       "      <td>112</td>\n",
       "      <td>690490</td>\n",
       "      <td>667</td>\n",
       "      <td>655</td>\n",
       "      <td>3985</td>\n",
       "      <td>3935</td>\n",
       "    </tr>\n",
       "    <tr>\n",
       "      <td>6</td>\n",
       "      <td>2019-08-07</td>\n",
       "      <td>16</td>\n",
       "      <td>123248</td>\n",
       "      <td>23</td>\n",
       "      <td>219164</td>\n",
       "      <td>130</td>\n",
       "      <td>638580</td>\n",
       "      <td>135</td>\n",
       "      <td>909654</td>\n",
       "      <td>644</td>\n",
       "      <td>709</td>\n",
       "      <td>4629</td>\n",
       "      <td>4644</td>\n",
       "    </tr>\n",
       "    <tr>\n",
       "      <td>7</td>\n",
       "      <td>2019-08-08</td>\n",
       "      <td>14</td>\n",
       "      <td>88639</td>\n",
       "      <td>22</td>\n",
       "      <td>150141</td>\n",
       "      <td>144</td>\n",
       "      <td>727219</td>\n",
       "      <td>157</td>\n",
       "      <td>1059795</td>\n",
       "      <td>610</td>\n",
       "      <td>654</td>\n",
       "      <td>5239</td>\n",
       "      <td>5298</td>\n",
       "    </tr>\n",
       "    <tr>\n",
       "      <td>8</td>\n",
       "      <td>2019-08-09</td>\n",
       "      <td>11</td>\n",
       "      <td>134237</td>\n",
       "      <td>19</td>\n",
       "      <td>103166</td>\n",
       "      <td>155</td>\n",
       "      <td>861456</td>\n",
       "      <td>176</td>\n",
       "      <td>1162961</td>\n",
       "      <td>617</td>\n",
       "      <td>610</td>\n",
       "      <td>5856</td>\n",
       "      <td>5908</td>\n",
       "    </tr>\n",
       "    <tr>\n",
       "      <td>9</td>\n",
       "      <td>2019-08-10</td>\n",
       "      <td>15</td>\n",
       "      <td>152275</td>\n",
       "      <td>22</td>\n",
       "      <td>105162</td>\n",
       "      <td>170</td>\n",
       "      <td>1013731</td>\n",
       "      <td>198</td>\n",
       "      <td>1268123</td>\n",
       "      <td>406</td>\n",
       "      <td>369</td>\n",
       "      <td>6262</td>\n",
       "      <td>6277</td>\n",
       "    </tr>\n",
       "    <tr>\n",
       "      <td>10</td>\n",
       "      <td>2019-08-11</td>\n",
       "      <td>11</td>\n",
       "      <td>60665</td>\n",
       "      <td>12</td>\n",
       "      <td>53060</td>\n",
       "      <td>181</td>\n",
       "      <td>1074396</td>\n",
       "      <td>210</td>\n",
       "      <td>1321183</td>\n",
       "      <td>718</td>\n",
       "      <td>721</td>\n",
       "      <td>6980</td>\n",
       "      <td>6998</td>\n",
       "    </tr>\n",
       "    <tr>\n",
       "      <td>11</td>\n",
       "      <td>2019-08-12</td>\n",
       "      <td>19</td>\n",
       "      <td>220392</td>\n",
       "      <td>19</td>\n",
       "      <td>104054</td>\n",
       "      <td>200</td>\n",
       "      <td>1294788</td>\n",
       "      <td>229</td>\n",
       "      <td>1425237</td>\n",
       "      <td>595</td>\n",
       "      <td>543</td>\n",
       "      <td>7575</td>\n",
       "      <td>7541</td>\n",
       "    </tr>\n",
       "    <tr>\n",
       "      <td>12</td>\n",
       "      <td>2019-08-13</td>\n",
       "      <td>14</td>\n",
       "      <td>263638</td>\n",
       "      <td>20</td>\n",
       "      <td>117691</td>\n",
       "      <td>214</td>\n",
       "      <td>1558426</td>\n",
       "      <td>249</td>\n",
       "      <td>1542928</td>\n",
       "      <td>748</td>\n",
       "      <td>769</td>\n",
       "      <td>8323</td>\n",
       "      <td>8310</td>\n",
       "    </tr>\n",
       "    <tr>\n",
       "      <td>13</td>\n",
       "      <td>2019-08-14</td>\n",
       "      <td>17</td>\n",
       "      <td>43266</td>\n",
       "      <td>14</td>\n",
       "      <td>107340</td>\n",
       "      <td>231</td>\n",
       "      <td>1601692</td>\n",
       "      <td>263</td>\n",
       "      <td>1650268</td>\n",
       "      <td>735</td>\n",
       "      <td>746</td>\n",
       "      <td>9058</td>\n",
       "      <td>9056</td>\n",
       "    </tr>\n",
       "    <tr>\n",
       "      <td>14</td>\n",
       "      <td>2019-08-15</td>\n",
       "      <td>10</td>\n",
       "      <td>80877</td>\n",
       "      <td>26</td>\n",
       "      <td>310159</td>\n",
       "      <td>241</td>\n",
       "      <td>1682569</td>\n",
       "      <td>289</td>\n",
       "      <td>1960427</td>\n",
       "      <td>628</td>\n",
       "      <td>544</td>\n",
       "      <td>9686</td>\n",
       "      <td>9600</td>\n",
       "    </tr>\n",
       "    <tr>\n",
       "      <td>15</td>\n",
       "      <td>2019-08-16</td>\n",
       "      <td>18</td>\n",
       "      <td>99851</td>\n",
       "      <td>18</td>\n",
       "      <td>114250</td>\n",
       "      <td>259</td>\n",
       "      <td>1782420</td>\n",
       "      <td>307</td>\n",
       "      <td>2074677</td>\n",
       "      <td>361</td>\n",
       "      <td>413</td>\n",
       "      <td>10047</td>\n",
       "      <td>10013</td>\n",
       "    </tr>\n",
       "    <tr>\n",
       "      <td>16</td>\n",
       "      <td>2019-08-17</td>\n",
       "      <td>6</td>\n",
       "      <td>34740</td>\n",
       "      <td>13</td>\n",
       "      <td>80865</td>\n",
       "      <td>265</td>\n",
       "      <td>1817160</td>\n",
       "      <td>320</td>\n",
       "      <td>2155542</td>\n",
       "      <td>412</td>\n",
       "      <td>421</td>\n",
       "      <td>10459</td>\n",
       "      <td>10434</td>\n",
       "    </tr>\n",
       "    <tr>\n",
       "      <td>17</td>\n",
       "      <td>2019-08-18</td>\n",
       "      <td>13</td>\n",
       "      <td>59581</td>\n",
       "      <td>7</td>\n",
       "      <td>35323</td>\n",
       "      <td>278</td>\n",
       "      <td>1876741</td>\n",
       "      <td>327</td>\n",
       "      <td>2190865</td>\n",
       "      <td>668</td>\n",
       "      <td>737</td>\n",
       "      <td>11127</td>\n",
       "      <td>11171</td>\n",
       "    </tr>\n",
       "    <tr>\n",
       "      <td>18</td>\n",
       "      <td>2019-08-19</td>\n",
       "      <td>21</td>\n",
       "      <td>168193</td>\n",
       "      <td>21</td>\n",
       "      <td>1429920</td>\n",
       "      <td>299</td>\n",
       "      <td>2044934</td>\n",
       "      <td>348</td>\n",
       "      <td>3620785</td>\n",
       "      <td>502</td>\n",
       "      <td>487</td>\n",
       "      <td>11629</td>\n",
       "      <td>11658</td>\n",
       "    </tr>\n",
       "    <tr>\n",
       "      <td>19</td>\n",
       "      <td>2019-08-20</td>\n",
       "      <td>10</td>\n",
       "      <td>58679</td>\n",
       "      <td>20</td>\n",
       "      <td>147274</td>\n",
       "      <td>309</td>\n",
       "      <td>2103613</td>\n",
       "      <td>368</td>\n",
       "      <td>3768059</td>\n",
       "      <td>575</td>\n",
       "      <td>560</td>\n",
       "      <td>12204</td>\n",
       "      <td>12218</td>\n",
       "    </tr>\n",
       "    <tr>\n",
       "      <td>20</td>\n",
       "      <td>2019-08-21</td>\n",
       "      <td>20</td>\n",
       "      <td>170169</td>\n",
       "      <td>12</td>\n",
       "      <td>140347</td>\n",
       "      <td>329</td>\n",
       "      <td>2273782</td>\n",
       "      <td>380</td>\n",
       "      <td>3908406</td>\n",
       "      <td>646</td>\n",
       "      <td>656</td>\n",
       "      <td>12850</td>\n",
       "      <td>12874</td>\n",
       "    </tr>\n",
       "    <tr>\n",
       "      <td>21</td>\n",
       "      <td>2019-08-22</td>\n",
       "      <td>10</td>\n",
       "      <td>92365</td>\n",
       "      <td>21</td>\n",
       "      <td>141728</td>\n",
       "      <td>339</td>\n",
       "      <td>2366147</td>\n",
       "      <td>401</td>\n",
       "      <td>4050134</td>\n",
       "      <td>609</td>\n",
       "      <td>650</td>\n",
       "      <td>13459</td>\n",
       "      <td>13524</td>\n",
       "    </tr>\n",
       "    <tr>\n",
       "      <td>22</td>\n",
       "      <td>2019-08-23</td>\n",
       "      <td>20</td>\n",
       "      <td>57863</td>\n",
       "      <td>13</td>\n",
       "      <td>77269</td>\n",
       "      <td>359</td>\n",
       "      <td>2424010</td>\n",
       "      <td>414</td>\n",
       "      <td>4127403</td>\n",
       "      <td>468</td>\n",
       "      <td>546</td>\n",
       "      <td>13927</td>\n",
       "      <td>14070</td>\n",
       "    </tr>\n",
       "    <tr>\n",
       "      <td>23</td>\n",
       "      <td>2019-08-24</td>\n",
       "      <td>13</td>\n",
       "      <td>122013</td>\n",
       "      <td>14</td>\n",
       "      <td>87866</td>\n",
       "      <td>372</td>\n",
       "      <td>2546023</td>\n",
       "      <td>428</td>\n",
       "      <td>4215269</td>\n",
       "      <td>395</td>\n",
       "      <td>378</td>\n",
       "      <td>14322</td>\n",
       "      <td>14448</td>\n",
       "    </tr>\n",
       "    <tr>\n",
       "      <td>24</td>\n",
       "      <td>2019-08-25</td>\n",
       "      <td>8</td>\n",
       "      <td>51884</td>\n",
       "      <td>12</td>\n",
       "      <td>79257</td>\n",
       "      <td>380</td>\n",
       "      <td>2597907</td>\n",
       "      <td>440</td>\n",
       "      <td>4294526</td>\n",
       "      <td>621</td>\n",
       "      <td>679</td>\n",
       "      <td>14943</td>\n",
       "      <td>15127</td>\n",
       "    </tr>\n",
       "    <tr>\n",
       "      <td>25</td>\n",
       "      <td>2019-08-26</td>\n",
       "      <td>16</td>\n",
       "      <td>157214</td>\n",
       "      <td>22</td>\n",
       "      <td>173439</td>\n",
       "      <td>396</td>\n",
       "      <td>2755121</td>\n",
       "      <td>462</td>\n",
       "      <td>4467965</td>\n",
       "      <td>722</td>\n",
       "      <td>676</td>\n",
       "      <td>15665</td>\n",
       "      <td>15803</td>\n",
       "    </tr>\n",
       "    <tr>\n",
       "      <td>26</td>\n",
       "      <td>2019-08-27</td>\n",
       "      <td>23</td>\n",
       "      <td>185350</td>\n",
       "      <td>11</td>\n",
       "      <td>111347</td>\n",
       "      <td>419</td>\n",
       "      <td>2940471</td>\n",
       "      <td>473</td>\n",
       "      <td>4579312</td>\n",
       "      <td>711</td>\n",
       "      <td>720</td>\n",
       "      <td>16376</td>\n",
       "      <td>16523</td>\n",
       "    </tr>\n",
       "    <tr>\n",
       "      <td>27</td>\n",
       "      <td>2019-08-28</td>\n",
       "      <td>15</td>\n",
       "      <td>96462</td>\n",
       "      <td>22</td>\n",
       "      <td>61198</td>\n",
       "      <td>434</td>\n",
       "      <td>3036933</td>\n",
       "      <td>495</td>\n",
       "      <td>4640510</td>\n",
       "      <td>594</td>\n",
       "      <td>654</td>\n",
       "      <td>16970</td>\n",
       "      <td>17177</td>\n",
       "    </tr>\n",
       "    <tr>\n",
       "      <td>28</td>\n",
       "      <td>2019-08-29</td>\n",
       "      <td>17</td>\n",
       "      <td>196300</td>\n",
       "      <td>15</td>\n",
       "      <td>106100</td>\n",
       "      <td>451</td>\n",
       "      <td>3233233</td>\n",
       "      <td>510</td>\n",
       "      <td>4746610</td>\n",
       "      <td>577</td>\n",
       "      <td>531</td>\n",
       "      <td>17547</td>\n",
       "      <td>17708</td>\n",
       "    </tr>\n",
       "    <tr>\n",
       "      <td>29</td>\n",
       "      <td>2019-08-30</td>\n",
       "      <td>9</td>\n",
       "      <td>78180</td>\n",
       "      <td>21</td>\n",
       "      <td>209223</td>\n",
       "      <td>460</td>\n",
       "      <td>3311413</td>\n",
       "      <td>531</td>\n",
       "      <td>4955833</td>\n",
       "      <td>490</td>\n",
       "      <td>490</td>\n",
       "      <td>18037</td>\n",
       "      <td>18198</td>\n",
       "    </tr>\n",
       "    <tr>\n",
       "      <td>30</td>\n",
       "      <td>2019-08-31</td>\n",
       "      <td>8</td>\n",
       "      <td>53243</td>\n",
       "      <td>17</td>\n",
       "      <td>113139</td>\n",
       "      <td>468</td>\n",
       "      <td>3364656</td>\n",
       "      <td>548</td>\n",
       "      <td>5068972</td>\n",
       "      <td>699</td>\n",
       "      <td>718</td>\n",
       "      <td>18736</td>\n",
       "      <td>18916</td>\n",
       "    </tr>\n",
       "  </tbody>\n",
       "</table>\n",
       "</div>"
      ],
      "text/plain": [
       "          date  ordersPerDateA  revenuePerDateA  ordersPerDateB  \\\n",
       "0   2019-08-01              23           142779              17   \n",
       "1   2019-08-02              19            91602              23   \n",
       "2   2019-08-03              24           112473              14   \n",
       "3   2019-08-04              11            41176              14   \n",
       "4   2019-08-05              22            86383              21   \n",
       "5   2019-08-06              15            40919              23   \n",
       "6   2019-08-07              16           123248              23   \n",
       "7   2019-08-08              14            88639              22   \n",
       "8   2019-08-09              11           134237              19   \n",
       "9   2019-08-10              15           152275              22   \n",
       "10  2019-08-11              11            60665              12   \n",
       "11  2019-08-12              19           220392              19   \n",
       "12  2019-08-13              14           263638              20   \n",
       "13  2019-08-14              17            43266              14   \n",
       "14  2019-08-15              10            80877              26   \n",
       "15  2019-08-16              18            99851              18   \n",
       "16  2019-08-17               6            34740              13   \n",
       "17  2019-08-18              13            59581               7   \n",
       "18  2019-08-19              21           168193              21   \n",
       "19  2019-08-20              10            58679              20   \n",
       "20  2019-08-21              20           170169              12   \n",
       "21  2019-08-22              10            92365              21   \n",
       "22  2019-08-23              20            57863              13   \n",
       "23  2019-08-24              13           122013              14   \n",
       "24  2019-08-25               8            51884              12   \n",
       "25  2019-08-26              16           157214              22   \n",
       "26  2019-08-27              23           185350              11   \n",
       "27  2019-08-28              15            96462              22   \n",
       "28  2019-08-29              17           196300              15   \n",
       "29  2019-08-30               9            78180              21   \n",
       "30  2019-08-31               8            53243              17   \n",
       "\n",
       "    revenuePerDateB  ordersCummulativeA  revenueCummulativeA  \\\n",
       "0             59758                  23               142779   \n",
       "1            162043                  42               234381   \n",
       "2             67049                  66               346854   \n",
       "3             96890                  77               388030   \n",
       "4             89908                  99               474413   \n",
       "5            214842                 114               515332   \n",
       "6            219164                 130               638580   \n",
       "7            150141                 144               727219   \n",
       "8            103166                 155               861456   \n",
       "9            105162                 170              1013731   \n",
       "10            53060                 181              1074396   \n",
       "11           104054                 200              1294788   \n",
       "12           117691                 214              1558426   \n",
       "13           107340                 231              1601692   \n",
       "14           310159                 241              1682569   \n",
       "15           114250                 259              1782420   \n",
       "16            80865                 265              1817160   \n",
       "17            35323                 278              1876741   \n",
       "18          1429920                 299              2044934   \n",
       "19           147274                 309              2103613   \n",
       "20           140347                 329              2273782   \n",
       "21           141728                 339              2366147   \n",
       "22            77269                 359              2424010   \n",
       "23            87866                 372              2546023   \n",
       "24            79257                 380              2597907   \n",
       "25           173439                 396              2755121   \n",
       "26           111347                 419              2940471   \n",
       "27            61198                 434              3036933   \n",
       "28           106100                 451              3233233   \n",
       "29           209223                 460              3311413   \n",
       "30           113139                 468              3364656   \n",
       "\n",
       "    ordersCummulativeB  revenueCummulativeB  visitorsPerDateA  \\\n",
       "0                   17                59758               719   \n",
       "1                   40               221801               619   \n",
       "2                   54               288850               507   \n",
       "3                   68               385740               717   \n",
       "4                   89               475648               756   \n",
       "5                  112               690490               667   \n",
       "6                  135               909654               644   \n",
       "7                  157              1059795               610   \n",
       "8                  176              1162961               617   \n",
       "9                  198              1268123               406   \n",
       "10                 210              1321183               718   \n",
       "11                 229              1425237               595   \n",
       "12                 249              1542928               748   \n",
       "13                 263              1650268               735   \n",
       "14                 289              1960427               628   \n",
       "15                 307              2074677               361   \n",
       "16                 320              2155542               412   \n",
       "17                 327              2190865               668   \n",
       "18                 348              3620785               502   \n",
       "19                 368              3768059               575   \n",
       "20                 380              3908406               646   \n",
       "21                 401              4050134               609   \n",
       "22                 414              4127403               468   \n",
       "23                 428              4215269               395   \n",
       "24                 440              4294526               621   \n",
       "25                 462              4467965               722   \n",
       "26                 473              4579312               711   \n",
       "27                 495              4640510               594   \n",
       "28                 510              4746610               577   \n",
       "29                 531              4955833               490   \n",
       "30                 548              5068972               699   \n",
       "\n",
       "    visitorsPerDateB  visitorsCummulativeA  visitorsCummulativeB  \n",
       "0                713                   719                   713  \n",
       "1                581                  1338                  1294  \n",
       "2                509                  1845                  1803  \n",
       "3                770                  2562                  2573  \n",
       "4                707                  3318                  3280  \n",
       "5                655                  3985                  3935  \n",
       "6                709                  4629                  4644  \n",
       "7                654                  5239                  5298  \n",
       "8                610                  5856                  5908  \n",
       "9                369                  6262                  6277  \n",
       "10               721                  6980                  6998  \n",
       "11               543                  7575                  7541  \n",
       "12               769                  8323                  8310  \n",
       "13               746                  9058                  9056  \n",
       "14               544                  9686                  9600  \n",
       "15               413                 10047                 10013  \n",
       "16               421                 10459                 10434  \n",
       "17               737                 11127                 11171  \n",
       "18               487                 11629                 11658  \n",
       "19               560                 12204                 12218  \n",
       "20               656                 12850                 12874  \n",
       "21               650                 13459                 13524  \n",
       "22               546                 13927                 14070  \n",
       "23               378                 14322                 14448  \n",
       "24               679                 14943                 15127  \n",
       "25               676                 15665                 15803  \n",
       "26               720                 16376                 16523  \n",
       "27               654                 16970                 17177  \n",
       "28               531                 17547                 17708  \n",
       "29               490                 18037                 18198  \n",
       "30               718                 18736                 18916  "
      ]
     },
     "execution_count": 41,
     "metadata": {},
     "output_type": "execute_result"
    }
   ],
   "source": [
    "data = (\n",
    "    ordersADaily.merge(\n",
    "        ordersBDaily, left_on='date', right_on='date', how='left'\n",
    "    )\n",
    "    .merge(ordersACummulative, left_on='date', right_on='date', how='left')\n",
    "    .merge(ordersBCummulative, left_on='date', right_on='date', how='left')\n",
    "    .merge(visitorsADaily, left_on='date', right_on='date', how='left')\n",
    "    .merge(visitorsBDaily, left_on='date', right_on='date', how='left')\n",
    "    .merge(visitorsACummulative, left_on='date', right_on='date', how='left')\n",
    "    .merge(visitorsBCummulative, left_on='date', right_on='date', how='left')\n",
    ")\n",
    "data"
   ]
  },
  {
   "cell_type": "markdown",
   "metadata": {},
   "source": [
    "Создадим переменные ordersByUsersA и ordersByUsersB. В них будут содержаться пользователи сделавшие хотя бы один заказ"
   ]
  },
  {
   "cell_type": "code",
   "execution_count": 42,
   "metadata": {},
   "outputs": [
    {
     "data": {
      "text/html": [
       "<div>\n",
       "<style scoped>\n",
       "    .dataframe tbody tr th:only-of-type {\n",
       "        vertical-align: middle;\n",
       "    }\n",
       "\n",
       "    .dataframe tbody tr th {\n",
       "        vertical-align: top;\n",
       "    }\n",
       "\n",
       "    .dataframe thead th {\n",
       "        text-align: right;\n",
       "    }\n",
       "</style>\n",
       "<table border=\"1\" class=\"dataframe\">\n",
       "  <thead>\n",
       "    <tr style=\"text-align: right;\">\n",
       "      <th></th>\n",
       "      <th>userId</th>\n",
       "      <th>orders</th>\n",
       "    </tr>\n",
       "  </thead>\n",
       "  <tbody>\n",
       "    <tr>\n",
       "      <td>58</td>\n",
       "      <td>611059232</td>\n",
       "      <td>3</td>\n",
       "    </tr>\n",
       "    <tr>\n",
       "      <td>211</td>\n",
       "      <td>2108163459</td>\n",
       "      <td>3</td>\n",
       "    </tr>\n",
       "    <tr>\n",
       "      <td>310</td>\n",
       "      <td>2988190573</td>\n",
       "      <td>3</td>\n",
       "    </tr>\n",
       "    <tr>\n",
       "      <td>409</td>\n",
       "      <td>3908431265</td>\n",
       "      <td>3</td>\n",
       "    </tr>\n",
       "    <tr>\n",
       "      <td>416</td>\n",
       "      <td>3967698036</td>\n",
       "      <td>3</td>\n",
       "    </tr>\n",
       "  </tbody>\n",
       "</table>\n",
       "</div>"
      ],
      "text/plain": [
       "         userId  orders\n",
       "58    611059232       3\n",
       "211  2108163459       3\n",
       "310  2988190573       3\n",
       "409  3908431265       3\n",
       "416  3967698036       3"
      ]
     },
     "execution_count": 42,
     "metadata": {},
     "output_type": "execute_result"
    }
   ],
   "source": [
    "ordersByUsersA = (\n",
    "    orders[orders['group'] == 'A']\n",
    "    .groupby('visitorId', as_index=False)\n",
    "    .agg({'transactionId': pd.Series.nunique})\n",
    ")\n",
    "ordersByUsersA.columns = ['userId', 'orders']\n",
    "ordersByUsersA.sort_values(by='orders', ascending=False).head()"
   ]
  },
  {
   "cell_type": "code",
   "execution_count": 43,
   "metadata": {
    "scrolled": false
   },
   "outputs": [
    {
     "data": {
      "text/html": [
       "<div>\n",
       "<style scoped>\n",
       "    .dataframe tbody tr th:only-of-type {\n",
       "        vertical-align: middle;\n",
       "    }\n",
       "\n",
       "    .dataframe tbody tr th {\n",
       "        vertical-align: top;\n",
       "    }\n",
       "\n",
       "    .dataframe thead th {\n",
       "        text-align: right;\n",
       "    }\n",
       "</style>\n",
       "<table border=\"1\" class=\"dataframe\">\n",
       "  <thead>\n",
       "    <tr style=\"text-align: right;\">\n",
       "      <th></th>\n",
       "      <th>userId</th>\n",
       "      <th>orders</th>\n",
       "    </tr>\n",
       "  </thead>\n",
       "  <tbody>\n",
       "    <tr>\n",
       "      <td>347</td>\n",
       "      <td>2742574263</td>\n",
       "      <td>3</td>\n",
       "    </tr>\n",
       "    <tr>\n",
       "      <td>33</td>\n",
       "      <td>249864742</td>\n",
       "      <td>3</td>\n",
       "    </tr>\n",
       "    <tr>\n",
       "      <td>486</td>\n",
       "      <td>3935952912</td>\n",
       "      <td>2</td>\n",
       "    </tr>\n",
       "    <tr>\n",
       "      <td>256</td>\n",
       "      <td>2025197455</td>\n",
       "      <td>2</td>\n",
       "    </tr>\n",
       "    <tr>\n",
       "      <td>418</td>\n",
       "      <td>3332057097</td>\n",
       "      <td>2</td>\n",
       "    </tr>\n",
       "  </tbody>\n",
       "</table>\n",
       "</div>"
      ],
      "text/plain": [
       "         userId  orders\n",
       "347  2742574263       3\n",
       "33    249864742       3\n",
       "486  3935952912       2\n",
       "256  2025197455       2\n",
       "418  3332057097       2"
      ]
     },
     "execution_count": 43,
     "metadata": {},
     "output_type": "execute_result"
    }
   ],
   "source": [
    "ordersByUsersB = (\n",
    "    orders[orders['group'] == 'B']\n",
    "    .groupby('visitorId', as_index=False)\n",
    "    .agg({'transactionId': pd.Series.nunique})\n",
    ")\n",
    "ordersByUsersB.columns = ['userId', 'orders'] \n",
    "ordersByUsersB.sort_values(by='orders', ascending=False).head()"
   ]
  },
  {
   "cell_type": "markdown",
   "metadata": {},
   "source": [
    "Объявите переменные sampleA и sampleB, в которых пользователям с заказами будет соответствовать число заказов пользователя. А пользователям без заказов — нули."
   ]
  },
  {
   "cell_type": "code",
   "execution_count": 44,
   "metadata": {},
   "outputs": [
    {
     "data": {
      "text/plain": [
       "0        1\n",
       "1        1\n",
       "2        1\n",
       "3        1\n",
       "4        1\n",
       "        ..\n",
       "18286    0\n",
       "18287    0\n",
       "18288    0\n",
       "18289    0\n",
       "18290    0\n",
       "Name: orders, Length: 18736, dtype: int64"
      ]
     },
     "execution_count": 44,
     "metadata": {},
     "output_type": "execute_result"
    }
   ],
   "source": [
    "sampleA = pd.concat(\n",
    "    [\n",
    "        ordersByUsersA['orders'],\n",
    "        pd.Series(\n",
    "            0,\n",
    "            index=np.arange(\n",
    "                data['visitorsPerDateA'].sum() - len(ordersByUsersA['orders'])\n",
    "            ),\n",
    "            name='orders',\n",
    "        ),\n",
    "    ],\n",
    "    axis=0,\n",
    ")\n",
    "sampleA"
   ]
  },
  {
   "cell_type": "code",
   "execution_count": 45,
   "metadata": {
    "scrolled": true
   },
   "outputs": [
    {
     "data": {
      "text/plain": [
       "0    1\n",
       "1    1\n",
       "2    1\n",
       "3    1\n",
       "4    1\n",
       "Name: orders, dtype: int64"
      ]
     },
     "execution_count": 45,
     "metadata": {},
     "output_type": "execute_result"
    }
   ],
   "source": [
    "sampleB = pd.concat(\n",
    "    [\n",
    "        ordersByUsersB['orders'],\n",
    "        pd.Series(\n",
    "            0,\n",
    "            index=np.arange(\n",
    "                data['visitorsPerDateB'].sum() - len(ordersByUsersB['orders'])\n",
    "            ),\n",
    "            name='orders',\n",
    "        ),\n",
    "    ],\n",
    "    axis=0,\n",
    ")\n",
    "sampleB.head()"
   ]
  },
  {
   "cell_type": "markdown",
   "metadata": {},
   "source": [
    "Сформулируем гипотезы:\n",
    "\n",
    "H0: в конверсии между группами нет значимых различий\n",
    "\n",
    "H1: в конверсии между группами есть статистически значимые различия\n",
    "\n",
    "Зададим общепринятое пороговое значение 5%"
   ]
  },
  {
   "cell_type": "code",
   "execution_count": 46,
   "metadata": {},
   "outputs": [
    {
     "name": "stdout",
     "output_type": "stream",
     "text": [
      "p-value: 0.011\n",
      "Отвергаем нулевую гипотезу\n",
      "Относительный прирост: 16.0%\n"
     ]
    }
   ],
   "source": [
    "alpha = 0.05\n",
    "\n",
    "results_con = stats.mannwhitneyu(sampleA, sampleB, alternative = 'two-sided')[1]\n",
    "\n",
    "print(\"p-value: {0:.3f}\".format(results_con ))\n",
    "\n",
    "if results_con  < alpha:\n",
    "    print(\"Отвергаем нулевую гипотезу\")\n",
    "else:\n",
    "    print(\"Не получилось отвергнуть нулевую гипотезу\")\n",
    "\n",
    "print(\"Относительный прирост: {0:.1%}\".format(sampleB.mean() / sampleA.mean() - 1))"
   ]
  },
  {
   "cell_type": "markdown",
   "metadata": {},
   "source": [
    "Анализ результатов говорит о том, что в конверсии между группами есть статистически значимые различия. Относительный прирост конверсии группы В к конверсии группы А составлеет 16%."
   ]
  },
  {
   "cell_type": "markdown",
   "metadata": {},
   "source": [
    "### Cтатистическая значимость различий в среднем чеке заказа между группами по «сырым» данным"
   ]
  },
  {
   "cell_type": "markdown",
   "metadata": {},
   "source": [
    "Сформулируем гипотезы:\n",
    "\n",
    "H0: значимых различий в среднем чеке между групп нет\n",
    "\n",
    "H1: в среднем чеке между группами есть статистически значимые различия\n",
    "\n",
    "Общепринятое пороговое значение 5%"
   ]
  },
  {
   "cell_type": "code",
   "execution_count": 47,
   "metadata": {},
   "outputs": [
    {
     "name": "stdout",
     "output_type": "stream",
     "text": [
      "p-value: 0.829\n",
      "Не получилось отвергнуть нулевую гипотезу\n",
      "Относительные различия между средними чеками: 28.7%\n"
     ]
    }
   ],
   "source": [
    "result_avg = stats.mannwhitneyu(orders[orders['group']=='A']['revenue'], orders[orders['group']=='B']['revenue'], alternative = 'two-sided')[1]\n",
    "print(\"p-value: {0:.3f}\".format(result_avg))\n",
    "if result_avg < alpha:\n",
    "    print(\"Отвергаем нулевую гипотезу\")\n",
    "else:\n",
    "    print(\"Не получилось отвергнуть нулевую гипотезу\")\n",
    "    \n",
    "print(\"Относительные различия между средними чеками: {0:.1%}\".format(orders[orders['group']=='B']['revenue'].mean()/orders[orders['group']=='A']['revenue'].mean()-1))"
   ]
  },
  {
   "cell_type": "markdown",
   "metadata": {},
   "source": [
    "Анализ результатов говорит о том, что статистически значимых различий между группами нет. Хотя относительное различие среднего чека между сегментами составляет практически 29%"
   ]
  },
  {
   "cell_type": "markdown",
   "metadata": {},
   "source": [
    "### Cтатистическую значимость различий в конверсии между группами по «очищенным» данным"
   ]
  },
  {
   "cell_type": "markdown",
   "metadata": {},
   "source": [
    "95-й и 99-й перцентили средних чеков равны 26 785 и 53904. А 95-й и 99-й перцентили числа заказов на одного пользователя равны 1 и 2 заказам на пользователя.\n",
    "Возьмем за аномальных пользователей тех, кто совершил 2 заказа и более, или совершил заказ на сумму свыше 30 000 рублей. Так уберёте 1% пользователей с наибольшим числом заказов и от 1% до 5% заказов с наибольшей стоимостью."
   ]
  },
  {
   "cell_type": "code",
   "execution_count": 48,
   "metadata": {},
   "outputs": [
    {
     "name": "stdout",
     "output_type": "stream",
     "text": [
      "937    148427295\n",
      "792    204675465\n",
      "586    358944393\n",
      "36     366673373\n",
      "557    382846391\n",
      "dtype: int64\n"
     ]
    }
   ],
   "source": [
    "usersWithManyOrders = pd.concat(\n",
    "    [ordersByUsersA[ordersByUsersA['orders'] > 1]['userId'],ordersByUsersB[ordersByUsersB['orders'] > 4]['userId']],\n",
    "    axis=0,\n",
    ")\n",
    "usersWithExpensiveOrders = orders[orders['revenue'] > 30000]['visitorId']\n",
    "\n",
    "abnormalUsers = (\n",
    "    pd.concat([usersWithManyOrders, usersWithExpensiveOrders], axis=0)\n",
    "    .drop_duplicates()\n",
    "    .sort_values()\n",
    ")\n",
    "print(abnormalUsers.head(5))"
   ]
  },
  {
   "cell_type": "code",
   "execution_count": 49,
   "metadata": {},
   "outputs": [
    {
     "data": {
      "text/plain": [
       "59"
      ]
     },
     "execution_count": 49,
     "metadata": {},
     "output_type": "execute_result"
    }
   ],
   "source": [
    "abnormalUsers.count()"
   ]
  },
  {
   "cell_type": "markdown",
   "metadata": {},
   "source": [
    "Всего таких пользователей 59. Посчитаем статистическую значимость исключая аномальных пользователей"
   ]
  },
  {
   "cell_type": "code",
   "execution_count": 50,
   "metadata": {},
   "outputs": [],
   "source": [
    "sampleAFiltered = pd.concat(\n",
    "    [\n",
    "        ordersByUsersA[\n",
    "            np.logical_not(ordersByUsersA['userId'].isin(abnormalUsers))\n",
    "        ]['orders'],\n",
    "        pd.Series(\n",
    "            0,\n",
    "            index=np.arange(\n",
    "                data['visitorsPerDateA'].sum() - len(ordersByUsersA['orders'])\n",
    "            ),\n",
    "            name='orders',\n",
    "        ),\n",
    "    ],\n",
    "    axis=0,\n",
    ")\n",
    "\n",
    "sampleBFiltered = pd.concat(\n",
    "    [\n",
    "        ordersByUsersB[\n",
    "            np.logical_not(ordersByUsersB['userId'].isin(abnormalUsers))\n",
    "        ]['orders'],\n",
    "        pd.Series(\n",
    "            0,\n",
    "            index=np.arange(\n",
    "                data['visitorsPerDateB'].sum() - len(ordersByUsersB['orders'])\n",
    "            ),\n",
    "            name='orders',\n",
    "        ),\n",
    "    ],\n",
    "    axis=0,\n",
    ") "
   ]
  },
  {
   "cell_type": "code",
   "execution_count": 51,
   "metadata": {},
   "outputs": [
    {
     "name": "stdout",
     "output_type": "stream",
     "text": [
      "p-value: 0.002\n",
      "Относительный прирост: 27.1%\n"
     ]
    }
   ],
   "source": [
    "result_сon_clean = stats.mannwhitneyu(sampleAFiltered, sampleBFiltered,alternative = 'two-sided')[1]\n",
    "print(\"p-value: {0:.3f}\".format(result_сon_clean))\n",
    "print(\"Относительный прирост: {0:.1%}\".format(sampleBFiltered.mean()/sampleAFiltered.mean()-1))"
   ]
  },
  {
   "cell_type": "markdown",
   "metadata": {},
   "source": [
    "Как и в случае с \"сырыми\" данными в конверсии между группами есть статистически значимые различия. Сегмент B значительно лучше сегмента А. Относительный прирост конверсии группы В к конверсии группы А по очищенным данным составляет 27%."
   ]
  },
  {
   "cell_type": "markdown",
   "metadata": {},
   "source": [
    "### Cтатистическая значимость различий в среднем чеке заказа между группами по «очищенным» данным"
   ]
  },
  {
   "cell_type": "code",
   "execution_count": 52,
   "metadata": {},
   "outputs": [
    {
     "name": "stdout",
     "output_type": "stream",
     "text": [
      "p-value: 0.946\n",
      "Относительные различия между средними чеками: -1.1%\n"
     ]
    }
   ],
   "source": [
    "print(\n",
    "    'p-value: {0:.3f}'.format(\n",
    "        stats.mannwhitneyu(\n",
    "            orders[\n",
    "                np.logical_and(\n",
    "                    orders['group'] == 'A',\n",
    "                    np.logical_not(orders['visitorId'].isin(abnormalUsers)),\n",
    "                )\n",
    "            ]['revenue'],\n",
    "            orders[\n",
    "                np.logical_and(\n",
    "                    orders['group'] == 'B',\n",
    "                    np.logical_not(orders['visitorId'].isin(abnormalUsers)),\n",
    "                )\n",
    "            ]['revenue'],\n",
    "       alternative = 'two-sided' )[1]\n",
    "    )\n",
    ")\n",
    "\n",
    "print(\n",
    "    \"Относительные различия между средними чеками: {0:.1%}\".format(\n",
    "        orders[\n",
    "            np.logical_and(\n",
    "                orders['group'] == 'B',\n",
    "                np.logical_not(orders['visitorId'].isin(abnormalUsers)),\n",
    "            )\n",
    "        ]['revenue'].mean()\n",
    "        / orders[\n",
    "            np.logical_and(\n",
    "                orders['group'] == 'A',\n",
    "                np.logical_not(orders['visitorId'].isin(abnormalUsers)),\n",
    "            )\n",
    "        ]['revenue'].mean()\n",
    "        - 1\n",
    "    )\n",
    ") "
   ]
  },
  {
   "cell_type": "markdown",
   "metadata": {},
   "source": [
    "После удаления выбросов видим, что p-value больше 0.05, что говорит о том, что статистически значимых различий между группами нет. А относительное различие среднего чека между сегментами стало составлять -1,1%"
   ]
  },
  {
   "cell_type": "markdown",
   "metadata": {},
   "source": [
    "### Решение по результатам теста "
   ]
  },
  {
   "cell_type": "markdown",
   "metadata": {},
   "source": [
    "На основании полученных данных, можно сделать вывод:\n",
    "* есть статистически значимое различие по конверсии между группами как по сырым данным, так и после фильтрации аномалий\n",
    "* по сырым данным нет статистически значимого различия по среднему чеку между группами, так же как и по очищенным\n",
    "* график различия конверсии между группами сообщает, что результаты группы B лучше группы A: В становилось все лучше и лучше и установилось на уровне 16%.\n",
    "* график различия среднего чека колеблется, поэтому сделать определенные выводы нельзя, кроме наличия аномалий.\n",
    "\n",
    "На основании выводов можно остановить тест, зафиксировать победу группы В."
   ]
  },
  {
   "cell_type": "markdown",
   "metadata": {},
   "source": [
    "## Анализ результатов"
   ]
  },
  {
   "cell_type": "markdown",
   "metadata": {},
   "source": [
    "**1-ая часть: выбор гипотез** : применяя разные подходы к приоритизации гипотез видим, что перспективные гипотезы для разных метов вышли разные. Это произошло за счет того, что показатель RICE использует больше факторов для оценки перрспективности (дополнительный фактор Reach - сколько пользователей затронет изменения, которые мы хотим внести) Для метода ICE перспективные гипотезы 8, 0, 7, а методом RICE - 7,2,0,6 В оба метода вошли гипотезы 7 и 0, поэтому можно сказать, что данные гипотезы наиболее перспективные.\n",
    "\n",
    "**2-ая часть: анализ A/B-теста** \n",
    "После проведения A/B-теста, получили данные с посетителями сайти, разделенные на группы, с покупателями сайта и общей выручкой, которой приобрел данный интеренет магазин. \n",
    "\n",
    "В ходе анализа первичных данных, удалось установить, что А/В-тест имеет свои погрешности, неточное разбиение между группами, а так же наличие покупателей, которые попали в обе группы. Но так как такие данные составляют малую долю, а именно около 5% пользователей, то мы просто просто удалили их из общей выборки, для корректного дальнейшего сравнения групп. \n",
    "\n",
    "Далее рассмотрели графики кумулятивной выручки и среднего чека, относительное изменение среднего чего, а так же кумулятивную конверсию на основании чего получили следующие выводы: \n",
    "* 6 августа сегмент В вырвался вперед и продолжал лидировать до конца теста\n",
    "* увидели, что в данных присутствуют аномальные выбросы \n",
    "* В начале теста, группа А показывает лучшие результаты по сравнению с группой B, начиная с 6 августа группа А стабильно хуже по накопленным показателям, чем B. В начале теста были колебания конверсии в обеих группах. График стабилизировался только к концу\n",
    "* В становилось все лучше и лучше и относительное изменение кумулятивной конверсии установилось на уровне 16\n",
    "\n",
    "Далее рассмотрели возможные аномальные выбросы и выявили, каких пользователей считать аномальными:\n",
    "* Пользователи совершившие заказ более 1 раза;\n",
    "* Пользователи сделавшие заказ на сумму более 30 тыс; \n",
    "\n",
    "Далее провели анализ статистической значимости между группами по \"сырым\" и \"очищенным\" данным и выявили: \n",
    "* В конверсии между группами по \"сырым\" данным есть статистически значимые различия. Относительный прирост конверсии группы В к конверсии группы А составлеет 16%.\n",
    "* в конверсии между группами по \"очищенным\" данным есть статистически значимые различия. Сегмент B значительно лучше сегмента А. Относительный прирост конверсии группы В к конверсии группы А составляет 27%.\n",
    "* Анализ результатов \"сырых\" данных говорит о том, что статистически значимых различий между группами нет. Хотя относительное различие среднего чека между сегментами составляет практически 29%\n",
    "* После удаления выбросов видим, что статистически значимых различий между группами все так же нет. А относительное различие среднего чека между сегментами стало составлять -1,1%\n",
    "\n",
    "На основании приведенного исследования А/В-теста, сделали вывод о том, что группа В значительно лучше группы А, и тест можно останавливать,а для дальнейшего развития брать инновации группы B. "
   ]
  }
 ],
 "metadata": {
  "ExecuteTimeLog": [
   {
    "duration": 4,
    "start_time": "2021-07-31T10:59:40.720Z"
   },
   {
    "duration": 4,
    "start_time": "2021-07-31T10:59:44.345Z"
   },
   {
    "duration": 4,
    "start_time": "2021-07-31T11:01:41.161Z"
   },
   {
    "duration": 3,
    "start_time": "2021-07-31T11:02:47.147Z"
   },
   {
    "duration": 1442,
    "start_time": "2021-07-31T11:19:21.687Z"
   },
   {
    "duration": 31,
    "start_time": "2021-07-31T11:22:45.602Z"
   },
   {
    "duration": 18,
    "start_time": "2021-07-31T12:23:50.502Z"
   },
   {
    "duration": 20,
    "start_time": "2021-07-31T12:36:14.891Z"
   },
   {
    "duration": 28,
    "start_time": "2021-07-31T12:36:20.799Z"
   },
   {
    "duration": 95,
    "start_time": "2021-07-31T12:40:55.889Z"
   },
   {
    "duration": 15,
    "start_time": "2021-07-31T12:41:37.230Z"
   },
   {
    "duration": 18,
    "start_time": "2021-07-31T12:42:28.099Z"
   },
   {
    "duration": 3,
    "start_time": "2021-07-31T14:42:18.742Z"
   },
   {
    "duration": 119,
    "start_time": "2021-07-31T14:46:13.118Z"
   },
   {
    "duration": 17,
    "start_time": "2021-07-31T14:51:36.406Z"
   },
   {
    "duration": 14,
    "start_time": "2021-07-31T14:51:57.403Z"
   },
   {
    "duration": 17,
    "start_time": "2021-07-31T14:52:35.977Z"
   },
   {
    "duration": 4,
    "start_time": "2021-07-31T15:00:37.356Z"
   },
   {
    "duration": 120,
    "start_time": "2021-07-31T19:39:12.767Z"
   },
   {
    "duration": 51,
    "start_time": "2021-07-31T19:39:56.538Z"
   },
   {
    "duration": 28,
    "start_time": "2021-07-31T19:40:43.579Z"
   },
   {
    "duration": 50,
    "start_time": "2021-07-31T19:40:59.996Z"
   },
   {
    "duration": 29,
    "start_time": "2021-07-31T19:41:10.818Z"
   },
   {
    "duration": 26,
    "start_time": "2021-07-31T19:41:27.036Z"
   },
   {
    "duration": 44,
    "start_time": "2021-07-31T19:41:31.896Z"
   },
   {
    "duration": 94,
    "start_time": "2021-07-31T19:41:53.412Z"
   },
   {
    "duration": 107,
    "start_time": "2021-07-31T19:42:27.207Z"
   },
   {
    "duration": 93,
    "start_time": "2021-07-31T19:43:43.848Z"
   },
   {
    "duration": 762,
    "start_time": "2021-08-01T12:35:11.482Z"
   },
   {
    "duration": 1457,
    "start_time": "2021-08-01T12:35:18.969Z"
   },
   {
    "duration": 36,
    "start_time": "2021-08-01T12:35:20.429Z"
   },
   {
    "duration": 18,
    "start_time": "2021-08-01T12:35:20.468Z"
   },
   {
    "duration": 17,
    "start_time": "2021-08-01T12:35:20.488Z"
   },
   {
    "duration": 87,
    "start_time": "2021-08-01T12:35:20.507Z"
   },
   {
    "duration": 27,
    "start_time": "2021-08-01T12:35:20.596Z"
   },
   {
    "duration": 521,
    "start_time": "2021-08-01T12:35:59.527Z"
   },
   {
    "duration": 23,
    "start_time": "2021-08-01T12:36:03.292Z"
   },
   {
    "duration": 65,
    "start_time": "2021-08-01T12:36:29.997Z"
   },
   {
    "duration": 25,
    "start_time": "2021-08-01T12:36:34.310Z"
   },
   {
    "duration": 26,
    "start_time": "2021-08-01T12:41:43.522Z"
   },
   {
    "duration": 7,
    "start_time": "2021-08-01T12:43:10.238Z"
   },
   {
    "duration": 6,
    "start_time": "2021-08-01T12:43:33.676Z"
   },
   {
    "duration": 12,
    "start_time": "2021-08-01T12:50:41.275Z"
   },
   {
    "duration": 10,
    "start_time": "2021-08-01T12:51:49.503Z"
   },
   {
    "duration": 14,
    "start_time": "2021-08-01T12:51:56.261Z"
   },
   {
    "duration": 132,
    "start_time": "2021-08-01T12:52:58.671Z"
   },
   {
    "duration": 17,
    "start_time": "2021-08-01T12:54:07.593Z"
   },
   {
    "duration": 73,
    "start_time": "2021-08-01T12:54:21.221Z"
   },
   {
    "duration": 11,
    "start_time": "2021-08-01T12:56:08.572Z"
   },
   {
    "duration": 11,
    "start_time": "2021-08-01T12:56:29.648Z"
   },
   {
    "duration": 19,
    "start_time": "2021-08-01T12:56:41.175Z"
   },
   {
    "duration": 133,
    "start_time": "2021-08-01T12:57:07.627Z"
   },
   {
    "duration": 14,
    "start_time": "2021-08-01T12:57:24.238Z"
   },
   {
    "duration": 486,
    "start_time": "2021-08-01T12:59:27.868Z"
   },
   {
    "duration": 14,
    "start_time": "2021-08-01T13:00:09.428Z"
   },
   {
    "duration": 367,
    "start_time": "2021-08-01T13:00:24.044Z"
   },
   {
    "duration": 426,
    "start_time": "2021-08-01T13:00:44.348Z"
   },
   {
    "duration": 14,
    "start_time": "2021-08-01T13:00:52.031Z"
   },
   {
    "duration": 3,
    "start_time": "2021-08-01T13:02:24.432Z"
   },
   {
    "duration": 14,
    "start_time": "2021-08-01T13:02:29.230Z"
   },
   {
    "duration": 3,
    "start_time": "2021-08-01T13:02:39.291Z"
   },
   {
    "duration": 15,
    "start_time": "2021-08-01T13:02:41.534Z"
   },
   {
    "duration": 3,
    "start_time": "2021-08-01T13:02:47.655Z"
   },
   {
    "duration": 15,
    "start_time": "2021-08-01T13:02:49.333Z"
   },
   {
    "duration": 3,
    "start_time": "2021-08-01T13:02:59.503Z"
   },
   {
    "duration": 15,
    "start_time": "2021-08-01T13:03:01.048Z"
   },
   {
    "duration": 4,
    "start_time": "2021-08-01T13:04:52.353Z"
   },
   {
    "duration": 26,
    "start_time": "2021-08-01T13:04:55.093Z"
   },
   {
    "duration": 15,
    "start_time": "2021-08-01T13:05:01.553Z"
   },
   {
    "duration": 119,
    "start_time": "2021-08-01T13:06:43.811Z"
   },
   {
    "duration": 1606,
    "start_time": "2021-08-01T13:07:59.673Z"
   },
   {
    "duration": 3,
    "start_time": "2021-08-01T13:08:01.282Z"
   },
   {
    "duration": 1507,
    "start_time": "2021-08-01T13:08:01.292Z"
   },
   {
    "duration": 21,
    "start_time": "2021-08-01T13:08:02.801Z"
   },
   {
    "duration": 16,
    "start_time": "2021-08-01T13:08:02.824Z"
   },
   {
    "duration": 555,
    "start_time": "2021-08-01T13:08:02.842Z"
   },
   {
    "duration": 240,
    "start_time": "2021-08-01T13:08:03.400Z"
   },
   {
    "duration": -2634,
    "start_time": "2021-08-01T13:08:06.276Z"
   },
   {
    "duration": -2637,
    "start_time": "2021-08-01T13:08:06.280Z"
   },
   {
    "duration": 15,
    "start_time": "2021-08-01T13:17:11.737Z"
   },
   {
    "duration": 18,
    "start_time": "2021-08-01T13:17:25.681Z"
   },
   {
    "duration": 64,
    "start_time": "2021-08-01T13:18:23.214Z"
   },
   {
    "duration": 312,
    "start_time": "2021-08-01T13:19:06.531Z"
   },
   {
    "duration": 331,
    "start_time": "2021-08-01T13:19:12.461Z"
   },
   {
    "duration": 332,
    "start_time": "2021-08-01T13:23:52.902Z"
   },
   {
    "duration": 15,
    "start_time": "2021-08-01T13:24:00.445Z"
   },
   {
    "duration": 501,
    "start_time": "2021-08-01T13:24:30.308Z"
   },
   {
    "duration": 367,
    "start_time": "2021-08-01T13:24:43.062Z"
   },
   {
    "duration": 28,
    "start_time": "2021-08-01T13:24:54.382Z"
   },
   {
    "duration": 1445,
    "start_time": "2021-08-01T13:25:00.778Z"
   },
   {
    "duration": 5,
    "start_time": "2021-08-01T13:25:02.227Z"
   },
   {
    "duration": 36,
    "start_time": "2021-08-01T13:25:02.235Z"
   },
   {
    "duration": 17,
    "start_time": "2021-08-01T13:25:02.274Z"
   },
   {
    "duration": 27,
    "start_time": "2021-08-01T13:25:02.293Z"
   },
   {
    "duration": 61,
    "start_time": "2021-08-01T13:25:02.322Z"
   },
   {
    "duration": 128,
    "start_time": "2021-08-01T13:25:02.385Z"
   },
   {
    "duration": 44,
    "start_time": "2021-08-01T13:25:02.472Z"
   },
   {
    "duration": 35,
    "start_time": "2021-08-01T13:25:02.482Z"
   },
   {
    "duration": 32,
    "start_time": "2021-08-01T13:25:02.486Z"
   },
   {
    "duration": 29,
    "start_time": "2021-08-01T13:25:02.491Z"
   },
   {
    "duration": 27,
    "start_time": "2021-08-01T13:25:02.494Z"
   },
   {
    "duration": 121,
    "start_time": "2021-08-01T13:25:30.499Z"
   },
   {
    "duration": 131,
    "start_time": "2021-08-01T13:25:40.045Z"
   },
   {
    "duration": 15,
    "start_time": "2021-08-01T13:25:48.486Z"
   },
   {
    "duration": 1446,
    "start_time": "2021-08-01T13:25:53.944Z"
   },
   {
    "duration": 5,
    "start_time": "2021-08-01T13:25:55.394Z"
   },
   {
    "duration": 34,
    "start_time": "2021-08-01T13:25:55.402Z"
   },
   {
    "duration": 20,
    "start_time": "2021-08-01T13:25:55.439Z"
   },
   {
    "duration": 16,
    "start_time": "2021-08-01T13:25:55.461Z"
   },
   {
    "duration": 60,
    "start_time": "2021-08-01T13:25:55.480Z"
   },
   {
    "duration": 14,
    "start_time": "2021-08-01T13:25:55.542Z"
   },
   {
    "duration": 32,
    "start_time": "2021-08-01T13:25:55.559Z"
   },
   {
    "duration": 13,
    "start_time": "2021-08-01T13:25:55.595Z"
   },
   {
    "duration": 13,
    "start_time": "2021-08-01T13:25:55.611Z"
   },
   {
    "duration": 421,
    "start_time": "2021-08-01T13:25:55.626Z"
   },
   {
    "duration": 23,
    "start_time": "2021-08-01T13:25:56.055Z"
   },
   {
    "duration": 16,
    "start_time": "2021-08-01T13:28:11.297Z"
   },
   {
    "duration": 13,
    "start_time": "2021-08-01T13:36:39.287Z"
   },
   {
    "duration": 15,
    "start_time": "2021-08-01T13:38:13.528Z"
   },
   {
    "duration": 426,
    "start_time": "2021-08-01T13:39:17.294Z"
   },
   {
    "duration": 400,
    "start_time": "2021-08-01T13:39:30.886Z"
   },
   {
    "duration": 1324,
    "start_time": "2021-08-01T13:40:31.779Z"
   },
   {
    "duration": 429,
    "start_time": "2021-08-01T13:40:50.247Z"
   },
   {
    "duration": 419,
    "start_time": "2021-08-01T13:41:43.320Z"
   },
   {
    "duration": 425,
    "start_time": "2021-08-01T13:42:15.460Z"
   },
   {
    "duration": 663,
    "start_time": "2021-08-01T13:42:29.523Z"
   },
   {
    "duration": 703,
    "start_time": "2021-08-01T13:42:37.874Z"
   },
   {
    "duration": 419,
    "start_time": "2021-08-01T13:42:53.794Z"
   },
   {
    "duration": 453,
    "start_time": "2021-08-01T13:47:27.789Z"
   },
   {
    "duration": 455,
    "start_time": "2021-08-01T13:47:35.715Z"
   },
   {
    "duration": 429,
    "start_time": "2021-08-01T13:49:12.239Z"
   },
   {
    "duration": 139,
    "start_time": "2021-08-01T13:51:16.121Z"
   },
   {
    "duration": 3,
    "start_time": "2021-08-01T13:52:04.417Z"
   },
   {
    "duration": 431,
    "start_time": "2021-08-01T13:52:54.103Z"
   },
   {
    "duration": 134,
    "start_time": "2021-08-01T13:53:18.302Z"
   },
   {
    "duration": 488,
    "start_time": "2021-08-01T13:55:22.388Z"
   },
   {
    "duration": 513,
    "start_time": "2021-08-01T13:55:42.320Z"
   },
   {
    "duration": 529,
    "start_time": "2021-08-01T13:55:53.141Z"
   },
   {
    "duration": 636,
    "start_time": "2021-08-01T13:57:34.979Z"
   },
   {
    "duration": 632,
    "start_time": "2021-08-01T13:57:51.654Z"
   },
   {
    "duration": 128,
    "start_time": "2021-08-01T13:59:47.530Z"
   },
   {
    "duration": 3,
    "start_time": "2021-08-01T14:01:06.943Z"
   },
   {
    "duration": 19,
    "start_time": "2021-08-01T14:41:54.106Z"
   },
   {
    "duration": 120,
    "start_time": "2021-08-01T14:42:44.388Z"
   },
   {
    "duration": 267,
    "start_time": "2021-08-01T14:43:09.967Z"
   },
   {
    "duration": 7,
    "start_time": "2021-08-01T14:43:19.647Z"
   },
   {
    "duration": 277,
    "start_time": "2021-08-01T14:43:26.173Z"
   },
   {
    "duration": 405,
    "start_time": "2021-08-01T14:43:44.380Z"
   },
   {
    "duration": 798,
    "start_time": "2021-08-01T14:44:33.158Z"
   },
   {
    "duration": 434,
    "start_time": "2021-08-01T14:45:01.016Z"
   },
   {
    "duration": 422,
    "start_time": "2021-08-01T14:45:06.875Z"
   },
   {
    "duration": 425,
    "start_time": "2021-08-01T14:45:12.309Z"
   },
   {
    "duration": 441,
    "start_time": "2021-08-01T14:45:23.615Z"
   },
   {
    "duration": 440,
    "start_time": "2021-08-01T14:45:39.361Z"
   },
   {
    "duration": 547,
    "start_time": "2021-08-01T14:45:50.968Z"
   },
   {
    "duration": 524,
    "start_time": "2021-08-01T14:46:29.215Z"
   },
   {
    "duration": 424,
    "start_time": "2021-08-01T14:46:39.124Z"
   },
   {
    "duration": 418,
    "start_time": "2021-08-01T14:49:05.900Z"
   },
   {
    "duration": 438,
    "start_time": "2021-08-01T14:49:13.400Z"
   },
   {
    "duration": 188,
    "start_time": "2021-08-01T14:49:57.071Z"
   },
   {
    "duration": 3,
    "start_time": "2021-08-01T14:52:10.332Z"
   },
   {
    "duration": 12,
    "start_time": "2021-08-01T14:53:07.418Z"
   },
   {
    "duration": 24,
    "start_time": "2021-08-01T14:53:16.181Z"
   },
   {
    "duration": 23,
    "start_time": "2021-08-01T14:53:41.819Z"
   },
   {
    "duration": 20,
    "start_time": "2021-08-01T14:53:58.377Z"
   },
   {
    "duration": 220,
    "start_time": "2021-08-01T14:54:28.520Z"
   },
   {
    "duration": 563,
    "start_time": "2021-08-01T14:55:06.855Z"
   },
   {
    "duration": 776,
    "start_time": "2021-08-01T14:55:27.603Z"
   },
   {
    "duration": 658,
    "start_time": "2021-08-01T14:55:31.956Z"
   },
   {
    "duration": 670,
    "start_time": "2021-08-01T14:55:35.717Z"
   },
   {
    "duration": 550,
    "start_time": "2021-08-01T14:55:45.215Z"
   },
   {
    "duration": 499,
    "start_time": "2021-08-01T14:56:01.905Z"
   },
   {
    "duration": 540,
    "start_time": "2021-08-01T14:56:38.244Z"
   },
   {
    "duration": 27,
    "start_time": "2021-08-01T15:00:08.640Z"
   },
   {
    "duration": 675,
    "start_time": "2021-08-01T15:00:34.673Z"
   },
   {
    "duration": 556,
    "start_time": "2021-08-01T15:01:28.065Z"
   },
   {
    "duration": 214,
    "start_time": "2021-08-01T15:04:02.165Z"
   },
   {
    "duration": 131,
    "start_time": "2021-08-01T15:06:12.048Z"
   },
   {
    "duration": 149,
    "start_time": "2021-08-01T15:06:26.137Z"
   },
   {
    "duration": 138,
    "start_time": "2021-08-01T15:06:49.953Z"
   },
   {
    "duration": 198,
    "start_time": "2021-08-01T15:06:51.371Z"
   },
   {
    "duration": 204,
    "start_time": "2021-08-01T15:06:56.422Z"
   },
   {
    "duration": 158,
    "start_time": "2021-08-01T15:07:01.658Z"
   },
   {
    "duration": 549,
    "start_time": "2021-08-01T15:07:16.774Z"
   },
   {
    "duration": 153,
    "start_time": "2021-08-01T15:07:19.182Z"
   },
   {
    "duration": 143,
    "start_time": "2021-08-01T15:07:24.034Z"
   },
   {
    "duration": 4,
    "start_time": "2021-08-01T15:08:23.468Z"
   },
   {
    "duration": 529,
    "start_time": "2021-08-01T15:08:25.678Z"
   },
   {
    "duration": 547,
    "start_time": "2021-08-01T15:08:31.845Z"
   },
   {
    "duration": 559,
    "start_time": "2021-08-01T15:08:42.447Z"
   },
   {
    "duration": 453,
    "start_time": "2021-08-01T15:26:26.793Z"
   },
   {
    "duration": 364,
    "start_time": "2021-08-01T15:29:04.012Z"
   },
   {
    "duration": 436,
    "start_time": "2021-08-01T15:29:07.341Z"
   },
   {
    "duration": 558,
    "start_time": "2021-08-01T15:29:38.913Z"
   },
   {
    "duration": 14,
    "start_time": "2021-08-01T15:29:51.052Z"
   },
   {
    "duration": 639,
    "start_time": "2021-08-01T15:31:39.113Z"
   },
   {
    "duration": 459,
    "start_time": "2021-08-01T15:32:00.855Z"
   },
   {
    "duration": 241,
    "start_time": "2021-08-01T15:32:38.951Z"
   },
   {
    "duration": 14,
    "start_time": "2021-08-01T15:33:08.360Z"
   },
   {
    "duration": 16,
    "start_time": "2021-08-01T15:33:56.214Z"
   },
   {
    "duration": 7,
    "start_time": "2021-08-01T15:34:10.248Z"
   },
   {
    "duration": 16,
    "start_time": "2021-08-01T15:34:19.715Z"
   },
   {
    "duration": 16,
    "start_time": "2021-08-01T15:34:53.423Z"
   },
   {
    "duration": 197,
    "start_time": "2021-08-01T15:36:10.968Z"
   },
   {
    "duration": 14,
    "start_time": "2021-08-01T15:37:05.465Z"
   },
   {
    "duration": 380,
    "start_time": "2021-08-01T15:37:23.757Z"
   },
   {
    "duration": 354,
    "start_time": "2021-08-01T15:37:35.055Z"
   },
   {
    "duration": 421,
    "start_time": "2021-08-01T15:38:29.527Z"
   },
   {
    "duration": 398,
    "start_time": "2021-08-01T15:38:54.278Z"
   },
   {
    "duration": 16,
    "start_time": "2021-08-01T15:39:31.492Z"
   },
   {
    "duration": 125,
    "start_time": "2021-08-01T15:41:25.237Z"
   },
   {
    "duration": 3,
    "start_time": "2021-08-01T15:43:15.809Z"
   },
   {
    "duration": 7,
    "start_time": "2021-08-01T15:57:22.361Z"
   },
   {
    "duration": 126,
    "start_time": "2021-08-01T15:58:28.535Z"
   },
   {
    "duration": 7,
    "start_time": "2021-08-01T15:58:46.812Z"
   },
   {
    "duration": 119,
    "start_time": "2021-08-01T15:59:53.791Z"
   },
   {
    "duration": 3,
    "start_time": "2021-08-01T16:03:30.861Z"
   },
   {
    "duration": 3,
    "start_time": "2021-08-01T16:03:46.696Z"
   },
   {
    "duration": 4,
    "start_time": "2021-08-01T16:04:18.413Z"
   },
   {
    "duration": 364,
    "start_time": "2021-08-01T16:04:29.025Z"
   },
   {
    "duration": 401,
    "start_time": "2021-08-01T16:04:35.357Z"
   },
   {
    "duration": 369,
    "start_time": "2021-08-01T16:05:10.662Z"
   },
   {
    "duration": 371,
    "start_time": "2021-08-01T16:05:20.067Z"
   },
   {
    "duration": 374,
    "start_time": "2021-08-01T16:05:55.086Z"
   },
   {
    "duration": 7,
    "start_time": "2021-08-01T16:09:31.324Z"
   },
   {
    "duration": 550,
    "start_time": "2021-08-01T16:11:21.149Z"
   },
   {
    "duration": 125,
    "start_time": "2021-08-01T16:11:47.828Z"
   },
   {
    "duration": 6,
    "start_time": "2021-08-01T16:12:20.966Z"
   },
   {
    "duration": 363,
    "start_time": "2021-08-01T16:12:35.609Z"
   },
   {
    "duration": 7,
    "start_time": "2021-08-01T16:12:53.939Z"
   },
   {
    "duration": 124,
    "start_time": "2021-08-01T16:13:14.641Z"
   },
   {
    "duration": 603,
    "start_time": "2021-08-01T16:14:19.829Z"
   },
   {
    "duration": 690,
    "start_time": "2021-08-01T16:15:16.046Z"
   },
   {
    "duration": 421,
    "start_time": "2021-08-01T16:17:41.024Z"
   },
   {
    "duration": 411,
    "start_time": "2021-08-01T16:18:23.602Z"
   },
   {
    "duration": 122,
    "start_time": "2021-08-01T16:18:25.589Z"
   },
   {
    "duration": 7,
    "start_time": "2021-08-01T16:18:35.106Z"
   },
   {
    "duration": 396,
    "start_time": "2021-08-01T16:20:01.467Z"
   },
   {
    "duration": 122,
    "start_time": "2021-08-01T16:21:22.766Z"
   },
   {
    "duration": 348,
    "start_time": "2021-08-01T16:22:24.292Z"
   },
   {
    "duration": 3,
    "start_time": "2021-08-01T16:23:24.117Z"
   },
   {
    "duration": 7,
    "start_time": "2021-08-01T17:18:28.180Z"
   },
   {
    "duration": 14,
    "start_time": "2021-08-01T17:18:35.167Z"
   },
   {
    "duration": 14,
    "start_time": "2021-08-01T17:18:58.083Z"
   },
   {
    "duration": 15,
    "start_time": "2021-08-01T17:20:06.929Z"
   },
   {
    "duration": 428,
    "start_time": "2021-08-01T17:20:19.377Z"
   },
   {
    "duration": 13,
    "start_time": "2021-08-01T17:20:22.954Z"
   },
   {
    "duration": 120,
    "start_time": "2021-08-01T17:21:18.195Z"
   },
   {
    "duration": 87,
    "start_time": "2021-08-01T17:21:24.525Z"
   },
   {
    "duration": 96,
    "start_time": "2021-08-01T17:21:32.046Z"
   },
   {
    "duration": 104,
    "start_time": "2021-08-01T17:21:51.807Z"
   },
   {
    "duration": 340,
    "start_time": "2021-08-01T17:23:22.761Z"
   },
   {
    "duration": 102,
    "start_time": "2021-08-01T17:23:38.798Z"
   },
   {
    "duration": 99,
    "start_time": "2021-08-01T17:23:53.194Z"
   },
   {
    "duration": 369,
    "start_time": "2021-08-01T17:24:44.863Z"
   },
   {
    "duration": -143,
    "start_time": "2021-08-01T17:26:10.259Z"
   },
   {
    "duration": 10103,
    "start_time": "2021-08-01T17:26:28.534Z"
   },
   {
    "duration": 29,
    "start_time": "2021-08-01T17:26:59.197Z"
   },
   {
    "duration": 385,
    "start_time": "2021-08-01T17:29:16.104Z"
   },
   {
    "duration": 9,
    "start_time": "2021-08-01T17:29:26.692Z"
   },
   {
    "duration": 16,
    "start_time": "2021-08-01T17:29:46.217Z"
   },
   {
    "duration": 19,
    "start_time": "2021-08-01T17:30:04.981Z"
   },
   {
    "duration": 12,
    "start_time": "2021-08-01T17:30:58.692Z"
   },
   {
    "duration": 22,
    "start_time": "2021-08-01T17:31:04.878Z"
   },
   {
    "duration": 21,
    "start_time": "2021-08-01T17:31:31.125Z"
   },
   {
    "duration": 18,
    "start_time": "2021-08-01T17:31:43.805Z"
   },
   {
    "duration": 17,
    "start_time": "2021-08-01T17:31:55.903Z"
   },
   {
    "duration": 98,
    "start_time": "2021-08-01T17:32:34.320Z"
   },
   {
    "duration": 105,
    "start_time": "2021-08-01T17:32:39.917Z"
   },
   {
    "duration": 131,
    "start_time": "2021-08-01T17:33:09.431Z"
   },
   {
    "duration": 103,
    "start_time": "2021-08-01T17:33:24.426Z"
   },
   {
    "duration": 118,
    "start_time": "2021-08-01T17:33:28.589Z"
   },
   {
    "duration": 164,
    "start_time": "2021-08-01T17:50:47.668Z"
   },
   {
    "duration": 18,
    "start_time": "2021-08-01T17:51:19.444Z"
   },
   {
    "duration": 10484,
    "start_time": "2021-08-01T17:52:00.941Z"
   },
   {
    "duration": 9873,
    "start_time": "2021-08-01T17:52:42.531Z"
   },
   {
    "duration": 18,
    "start_time": "2021-08-01T17:53:07.927Z"
   },
   {
    "duration": 105,
    "start_time": "2021-08-01T17:53:10.215Z"
   },
   {
    "duration": 144,
    "start_time": "2021-08-01T17:53:17.172Z"
   },
   {
    "duration": 125,
    "start_time": "2021-08-01T17:53:44.611Z"
   },
   {
    "duration": 57,
    "start_time": "2021-08-01T17:54:12.546Z"
   },
   {
    "duration": 422,
    "start_time": "2021-08-01T17:56:02.663Z"
   },
   {
    "duration": 117,
    "start_time": "2021-08-01T17:56:41.448Z"
   },
   {
    "duration": 143,
    "start_time": "2021-08-01T17:56:57.163Z"
   },
   {
    "duration": 110,
    "start_time": "2021-08-01T17:57:02.869Z"
   },
   {
    "duration": 377,
    "start_time": "2021-08-01T17:57:35.070Z"
   },
   {
    "duration": 136,
    "start_time": "2021-08-01T17:57:53.582Z"
   },
   {
    "duration": 106,
    "start_time": "2021-08-01T17:58:55.991Z"
   },
   {
    "duration": 138,
    "start_time": "2021-08-01T17:58:59.587Z"
   },
   {
    "duration": 17,
    "start_time": "2021-08-01T17:59:42.124Z"
   },
   {
    "duration": 14,
    "start_time": "2021-08-01T18:00:50.395Z"
   },
   {
    "duration": 104,
    "start_time": "2021-08-01T18:01:42.734Z"
   },
   {
    "duration": 137,
    "start_time": "2021-08-01T18:01:53.900Z"
   },
   {
    "duration": 124,
    "start_time": "2021-08-01T18:03:32.364Z"
   },
   {
    "duration": 8786,
    "start_time": "2021-08-01T18:03:49.352Z"
   },
   {
    "duration": 15,
    "start_time": "2021-08-01T18:04:38.764Z"
   },
   {
    "duration": 11,
    "start_time": "2021-08-01T18:05:02.319Z"
   },
   {
    "duration": 11,
    "start_time": "2021-08-01T18:05:06.444Z"
   },
   {
    "duration": 378,
    "start_time": "2021-08-01T18:05:19.714Z"
   },
   {
    "duration": 375,
    "start_time": "2021-08-01T18:05:24.568Z"
   },
   {
    "duration": 20,
    "start_time": "2021-08-01T18:05:41.456Z"
   },
   {
    "duration": 11,
    "start_time": "2021-08-01T18:19:02.594Z"
   },
   {
    "duration": 13,
    "start_time": "2021-08-01T18:19:12.973Z"
   },
   {
    "duration": 14,
    "start_time": "2021-08-01T18:19:44.612Z"
   },
   {
    "duration": 13,
    "start_time": "2021-08-01T18:19:52.787Z"
   },
   {
    "duration": 128,
    "start_time": "2021-08-01T18:20:28.904Z"
   },
   {
    "duration": 13,
    "start_time": "2021-08-01T18:21:35.766Z"
   },
   {
    "duration": 13,
    "start_time": "2021-08-01T18:21:44.198Z"
   },
   {
    "duration": 9,
    "start_time": "2021-08-01T18:22:30.317Z"
   },
   {
    "duration": 6,
    "start_time": "2021-08-01T18:22:44.406Z"
   },
   {
    "duration": 6,
    "start_time": "2021-08-01T18:22:59.507Z"
   },
   {
    "duration": 401,
    "start_time": "2021-08-01T18:24:01.876Z"
   },
   {
    "duration": 7,
    "start_time": "2021-08-01T18:24:45.921Z"
   },
   {
    "duration": 6,
    "start_time": "2021-08-01T18:25:33.366Z"
   },
   {
    "duration": 116,
    "start_time": "2021-08-01T18:26:02.199Z"
   },
   {
    "duration": 129,
    "start_time": "2021-08-01T18:26:17.259Z"
   },
   {
    "duration": 392,
    "start_time": "2021-08-01T18:26:45.021Z"
   },
   {
    "duration": 119,
    "start_time": "2021-08-01T18:26:53.808Z"
   },
   {
    "duration": 147,
    "start_time": "2021-08-01T18:26:59.553Z"
   },
   {
    "duration": 180,
    "start_time": "2021-08-01T18:27:39.291Z"
   },
   {
    "duration": 128,
    "start_time": "2021-08-01T18:27:48.728Z"
   },
   {
    "duration": 128,
    "start_time": "2021-08-01T18:28:02.740Z"
   },
   {
    "duration": 111,
    "start_time": "2021-08-01T18:28:10.453Z"
   },
   {
    "duration": 118,
    "start_time": "2021-08-01T18:28:31.988Z"
   },
   {
    "duration": 6,
    "start_time": "2021-08-01T18:28:39.775Z"
   },
   {
    "duration": 12,
    "start_time": "2021-08-01T18:28:55.585Z"
   },
   {
    "duration": 15,
    "start_time": "2021-08-01T18:29:03.020Z"
   },
   {
    "duration": 4,
    "start_time": "2021-08-01T18:29:11.377Z"
   },
   {
    "duration": 6,
    "start_time": "2021-08-01T18:29:17.402Z"
   },
   {
    "duration": 5,
    "start_time": "2021-08-01T18:29:28.801Z"
   },
   {
    "duration": 13,
    "start_time": "2021-08-01T18:30:27.448Z"
   },
   {
    "duration": 356,
    "start_time": "2021-08-01T18:34:10.314Z"
   },
   {
    "duration": 517,
    "start_time": "2021-08-01T18:34:15.067Z"
   },
   {
    "duration": 382,
    "start_time": "2021-08-01T18:37:07.440Z"
   },
   {
    "duration": 499,
    "start_time": "2021-08-01T18:37:49.902Z"
   },
   {
    "duration": 11,
    "start_time": "2021-08-01T18:37:56.155Z"
   },
   {
    "duration": 390,
    "start_time": "2021-08-01T18:38:00.790Z"
   },
   {
    "duration": 13,
    "start_time": "2021-08-01T18:39:07.910Z"
   },
   {
    "duration": 413,
    "start_time": "2021-08-01T18:40:00.697Z"
   },
   {
    "duration": 14,
    "start_time": "2021-08-01T18:40:36.665Z"
   },
   {
    "duration": 454,
    "start_time": "2021-08-01T18:40:52.302Z"
   },
   {
    "duration": 11,
    "start_time": "2021-08-01T18:41:00.412Z"
   },
   {
    "duration": 14,
    "start_time": "2021-08-01T18:41:12.921Z"
   },
   {
    "duration": 22,
    "start_time": "2021-08-01T18:41:17.523Z"
   },
   {
    "duration": 14,
    "start_time": "2021-08-01T18:41:51.474Z"
   },
   {
    "duration": 13,
    "start_time": "2021-08-01T18:42:01.685Z"
   },
   {
    "duration": 6,
    "start_time": "2021-08-01T18:42:13.767Z"
   },
   {
    "duration": 4,
    "start_time": "2021-08-01T18:42:25.582Z"
   },
   {
    "duration": 20,
    "start_time": "2021-08-01T18:42:31.420Z"
   },
   {
    "duration": 21,
    "start_time": "2021-08-01T18:44:08.757Z"
   },
   {
    "duration": 9,
    "start_time": "2021-08-01T18:44:27.771Z"
   },
   {
    "duration": 24,
    "start_time": "2021-08-01T18:44:35.534Z"
   },
   {
    "duration": 24,
    "start_time": "2021-08-01T18:44:55.991Z"
   },
   {
    "duration": 1457,
    "start_time": "2021-08-01T18:46:00.970Z"
   },
   {
    "duration": 4,
    "start_time": "2021-08-01T18:46:02.430Z"
   },
   {
    "duration": 42,
    "start_time": "2021-08-01T18:46:02.438Z"
   },
   {
    "duration": 29,
    "start_time": "2021-08-01T18:46:02.483Z"
   },
   {
    "duration": 18,
    "start_time": "2021-08-01T18:46:02.514Z"
   },
   {
    "duration": 76,
    "start_time": "2021-08-01T18:46:02.535Z"
   },
   {
    "duration": 14,
    "start_time": "2021-08-01T18:46:02.613Z"
   },
   {
    "duration": 32,
    "start_time": "2021-08-01T18:46:02.631Z"
   },
   {
    "duration": 21,
    "start_time": "2021-08-01T18:46:02.666Z"
   },
   {
    "duration": 39,
    "start_time": "2021-08-01T18:46:02.689Z"
   },
   {
    "duration": 4,
    "start_time": "2021-08-01T18:46:02.730Z"
   },
   {
    "duration": 24,
    "start_time": "2021-08-01T18:46:02.736Z"
   },
   {
    "duration": 13,
    "start_time": "2021-08-01T18:46:02.762Z"
   },
   {
    "duration": 363,
    "start_time": "2021-08-01T18:46:02.777Z"
   },
   {
    "duration": 26,
    "start_time": "2021-08-01T18:46:03.142Z"
   },
   {
    "duration": 133,
    "start_time": "2021-08-01T18:46:03.170Z"
   },
   {
    "duration": -1580,
    "start_time": "2021-08-01T18:46:04.886Z"
   },
   {
    "duration": -1588,
    "start_time": "2021-08-01T18:46:04.895Z"
   },
   {
    "duration": -1591,
    "start_time": "2021-08-01T18:46:04.900Z"
   },
   {
    "duration": -1594,
    "start_time": "2021-08-01T18:46:04.904Z"
   },
   {
    "duration": -1597,
    "start_time": "2021-08-01T18:46:04.909Z"
   },
   {
    "duration": -1602,
    "start_time": "2021-08-01T18:46:04.915Z"
   },
   {
    "duration": -1607,
    "start_time": "2021-08-01T18:46:04.922Z"
   },
   {
    "duration": -1611,
    "start_time": "2021-08-01T18:46:04.927Z"
   },
   {
    "duration": -1616,
    "start_time": "2021-08-01T18:46:04.933Z"
   },
   {
    "duration": -1618,
    "start_time": "2021-08-01T18:46:04.937Z"
   },
   {
    "duration": -1622,
    "start_time": "2021-08-01T18:46:04.942Z"
   },
   {
    "duration": -1624,
    "start_time": "2021-08-01T18:46:04.946Z"
   },
   {
    "duration": -1628,
    "start_time": "2021-08-01T18:46:04.951Z"
   },
   {
    "duration": -1630,
    "start_time": "2021-08-01T18:46:04.955Z"
   },
   {
    "duration": -1633,
    "start_time": "2021-08-01T18:46:04.959Z"
   },
   {
    "duration": -1637,
    "start_time": "2021-08-01T18:46:04.964Z"
   },
   {
    "duration": -1640,
    "start_time": "2021-08-01T18:46:04.968Z"
   },
   {
    "duration": -1694,
    "start_time": "2021-08-01T18:46:05.023Z"
   },
   {
    "duration": -1702,
    "start_time": "2021-08-01T18:46:05.032Z"
   },
   {
    "duration": -1713,
    "start_time": "2021-08-01T18:46:05.045Z"
   },
   {
    "duration": -1717,
    "start_time": "2021-08-01T18:46:05.050Z"
   },
   {
    "duration": -1721,
    "start_time": "2021-08-01T18:46:05.055Z"
   },
   {
    "duration": -1725,
    "start_time": "2021-08-01T18:46:05.060Z"
   },
   {
    "duration": -1728,
    "start_time": "2021-08-01T18:46:05.064Z"
   },
   {
    "duration": -1732,
    "start_time": "2021-08-01T18:46:05.069Z"
   },
   {
    "duration": -1735,
    "start_time": "2021-08-01T18:46:05.074Z"
   },
   {
    "duration": 16,
    "start_time": "2021-08-01T18:46:42.065Z"
   },
   {
    "duration": 1387,
    "start_time": "2021-08-01T18:47:14.507Z"
   },
   {
    "duration": 4,
    "start_time": "2021-08-01T18:47:15.897Z"
   },
   {
    "duration": 33,
    "start_time": "2021-08-01T18:47:15.904Z"
   },
   {
    "duration": 27,
    "start_time": "2021-08-01T18:47:15.940Z"
   },
   {
    "duration": 15,
    "start_time": "2021-08-01T18:47:15.969Z"
   },
   {
    "duration": 55,
    "start_time": "2021-08-01T18:47:15.986Z"
   },
   {
    "duration": 14,
    "start_time": "2021-08-01T18:47:16.044Z"
   },
   {
    "duration": 28,
    "start_time": "2021-08-01T18:47:16.061Z"
   },
   {
    "duration": 14,
    "start_time": "2021-08-01T18:47:16.093Z"
   },
   {
    "duration": 14,
    "start_time": "2021-08-01T18:47:16.111Z"
   },
   {
    "duration": 3,
    "start_time": "2021-08-01T18:47:16.127Z"
   },
   {
    "duration": 21,
    "start_time": "2021-08-01T18:47:16.156Z"
   },
   {
    "duration": 12,
    "start_time": "2021-08-01T18:47:16.180Z"
   },
   {
    "duration": 344,
    "start_time": "2021-08-01T18:47:16.195Z"
   },
   {
    "duration": 29,
    "start_time": "2021-08-01T18:47:16.542Z"
   },
   {
    "duration": 156,
    "start_time": "2021-08-01T18:47:16.573Z"
   },
   {
    "duration": -848,
    "start_time": "2021-08-01T18:47:17.580Z"
   },
   {
    "duration": -852,
    "start_time": "2021-08-01T18:47:17.585Z"
   },
   {
    "duration": -886,
    "start_time": "2021-08-01T18:47:17.621Z"
   },
   {
    "duration": -898,
    "start_time": "2021-08-01T18:47:17.634Z"
   },
   {
    "duration": -908,
    "start_time": "2021-08-01T18:47:17.645Z"
   },
   {
    "duration": -912,
    "start_time": "2021-08-01T18:47:17.651Z"
   },
   {
    "duration": -916,
    "start_time": "2021-08-01T18:47:17.656Z"
   },
   {
    "duration": -918,
    "start_time": "2021-08-01T18:47:17.660Z"
   },
   {
    "duration": -922,
    "start_time": "2021-08-01T18:47:17.665Z"
   },
   {
    "duration": -925,
    "start_time": "2021-08-01T18:47:17.669Z"
   },
   {
    "duration": -927,
    "start_time": "2021-08-01T18:47:17.673Z"
   },
   {
    "duration": -930,
    "start_time": "2021-08-01T18:47:17.678Z"
   },
   {
    "duration": -933,
    "start_time": "2021-08-01T18:47:17.683Z"
   },
   {
    "duration": -937,
    "start_time": "2021-08-01T18:47:17.689Z"
   },
   {
    "duration": -941,
    "start_time": "2021-08-01T18:47:17.694Z"
   },
   {
    "duration": -943,
    "start_time": "2021-08-01T18:47:17.698Z"
   },
   {
    "duration": -947,
    "start_time": "2021-08-01T18:47:17.703Z"
   },
   {
    "duration": -949,
    "start_time": "2021-08-01T18:47:17.707Z"
   },
   {
    "duration": -964,
    "start_time": "2021-08-01T18:47:17.724Z"
   },
   {
    "duration": -968,
    "start_time": "2021-08-01T18:47:17.729Z"
   },
   {
    "duration": -971,
    "start_time": "2021-08-01T18:47:17.734Z"
   },
   {
    "duration": -977,
    "start_time": "2021-08-01T18:47:17.741Z"
   },
   {
    "duration": -980,
    "start_time": "2021-08-01T18:47:17.746Z"
   },
   {
    "duration": -982,
    "start_time": "2021-08-01T18:47:17.750Z"
   },
   {
    "duration": -986,
    "start_time": "2021-08-01T18:47:17.756Z"
   },
   {
    "duration": -988,
    "start_time": "2021-08-01T18:47:17.760Z"
   },
   {
    "duration": 1438,
    "start_time": "2021-08-01T18:47:36.562Z"
   },
   {
    "duration": 4,
    "start_time": "2021-08-01T18:47:38.002Z"
   },
   {
    "duration": 37,
    "start_time": "2021-08-01T18:47:38.009Z"
   },
   {
    "duration": 15,
    "start_time": "2021-08-01T18:47:38.049Z"
   },
   {
    "duration": 16,
    "start_time": "2021-08-01T18:47:38.066Z"
   },
   {
    "duration": 56,
    "start_time": "2021-08-01T18:47:38.084Z"
   },
   {
    "duration": 14,
    "start_time": "2021-08-01T18:47:38.143Z"
   },
   {
    "duration": 27,
    "start_time": "2021-08-01T18:47:38.161Z"
   },
   {
    "duration": 14,
    "start_time": "2021-08-01T18:47:38.191Z"
   },
   {
    "duration": 13,
    "start_time": "2021-08-01T18:47:38.208Z"
   },
   {
    "duration": 4,
    "start_time": "2021-08-01T18:47:38.223Z"
   },
   {
    "duration": 23,
    "start_time": "2021-08-01T18:47:38.256Z"
   },
   {
    "duration": 13,
    "start_time": "2021-08-01T18:47:38.282Z"
   },
   {
    "duration": 353,
    "start_time": "2021-08-01T18:47:38.298Z"
   },
   {
    "duration": 21,
    "start_time": "2021-08-01T18:47:38.653Z"
   },
   {
    "duration": 12,
    "start_time": "2021-08-01T18:47:38.677Z"
   },
   {
    "duration": 22,
    "start_time": "2021-08-01T18:47:38.691Z"
   },
   {
    "duration": 441,
    "start_time": "2021-08-01T18:47:38.715Z"
   },
   {
    "duration": 440,
    "start_time": "2021-08-01T18:47:39.158Z"
   },
   {
    "duration": 870,
    "start_time": "2021-08-01T18:47:39.600Z"
   },
   {
    "duration": 20,
    "start_time": "2021-08-01T18:47:40.472Z"
   },
   {
    "duration": 62,
    "start_time": "2021-08-01T18:47:40.494Z"
   },
   {
    "duration": 533,
    "start_time": "2021-08-01T18:47:40.561Z"
   },
   {
    "duration": 19,
    "start_time": "2021-08-01T18:47:41.097Z"
   },
   {
    "duration": 554,
    "start_time": "2021-08-01T18:47:41.119Z"
   },
   {
    "duration": 15,
    "start_time": "2021-08-01T18:47:41.675Z"
   },
   {
    "duration": 379,
    "start_time": "2021-08-01T18:47:41.692Z"
   },
   {
    "duration": 7,
    "start_time": "2021-08-01T18:47:42.074Z"
   },
   {
    "duration": 509,
    "start_time": "2021-08-01T18:47:42.084Z"
   },
   {
    "duration": 8,
    "start_time": "2021-08-01T18:47:42.595Z"
   },
   {
    "duration": 11,
    "start_time": "2021-08-01T18:47:42.605Z"
   },
   {
    "duration": 40,
    "start_time": "2021-08-01T18:47:42.618Z"
   },
   {
    "duration": 105,
    "start_time": "2021-08-01T18:47:42.660Z"
   },
   {
    "duration": 109,
    "start_time": "2021-08-01T18:47:42.767Z"
   },
   {
    "duration": 17,
    "start_time": "2021-08-01T18:47:42.879Z"
   },
   {
    "duration": 126,
    "start_time": "2021-08-01T18:47:42.898Z"
   },
   {
    "duration": 16,
    "start_time": "2021-08-01T18:47:43.026Z"
   },
   {
    "duration": 112,
    "start_time": "2021-08-01T18:47:43.056Z"
   },
   {
    "duration": 52,
    "start_time": "2021-08-01T18:47:43.170Z"
   },
   {
    "duration": 132,
    "start_time": "2021-08-01T18:47:43.225Z"
   },
   {
    "duration": 127,
    "start_time": "2021-08-01T18:47:43.360Z"
   },
   {
    "duration": 10,
    "start_time": "2021-08-01T18:50:48.605Z"
   },
   {
    "duration": 10,
    "start_time": "2021-08-01T18:51:08.291Z"
   },
   {
    "duration": 9,
    "start_time": "2021-08-01T18:52:05.056Z"
   },
   {
    "duration": 9,
    "start_time": "2021-08-01T18:52:10.832Z"
   },
   {
    "duration": 617,
    "start_time": "2021-08-01T18:52:45.520Z"
   },
   {
    "duration": 1391,
    "start_time": "2021-08-01T18:53:15.298Z"
   },
   {
    "duration": 4,
    "start_time": "2021-08-01T18:53:16.692Z"
   },
   {
    "duration": 32,
    "start_time": "2021-08-01T18:53:16.700Z"
   },
   {
    "duration": 29,
    "start_time": "2021-08-01T18:53:16.736Z"
   },
   {
    "duration": 15,
    "start_time": "2021-08-01T18:53:16.767Z"
   },
   {
    "duration": 54,
    "start_time": "2021-08-01T18:53:16.784Z"
   },
   {
    "duration": 14,
    "start_time": "2021-08-01T18:53:16.841Z"
   },
   {
    "duration": 27,
    "start_time": "2021-08-01T18:53:16.859Z"
   },
   {
    "duration": 13,
    "start_time": "2021-08-01T18:53:16.889Z"
   },
   {
    "duration": 14,
    "start_time": "2021-08-01T18:53:16.905Z"
   },
   {
    "duration": 4,
    "start_time": "2021-08-01T18:53:16.921Z"
   },
   {
    "duration": 22,
    "start_time": "2021-08-01T18:53:16.955Z"
   },
   {
    "duration": 13,
    "start_time": "2021-08-01T18:53:16.979Z"
   },
   {
    "duration": 353,
    "start_time": "2021-08-01T18:53:16.994Z"
   },
   {
    "duration": 28,
    "start_time": "2021-08-01T18:53:17.349Z"
   },
   {
    "duration": 17,
    "start_time": "2021-08-01T18:53:17.379Z"
   },
   {
    "duration": 13,
    "start_time": "2021-08-01T18:53:17.399Z"
   },
   {
    "duration": 452,
    "start_time": "2021-08-01T18:53:17.414Z"
   },
   {
    "duration": 456,
    "start_time": "2021-08-01T18:53:17.868Z"
   },
   {
    "duration": 543,
    "start_time": "2021-08-01T18:53:18.326Z"
   },
   {
    "duration": 20,
    "start_time": "2021-08-01T18:53:18.871Z"
   },
   {
    "duration": 7,
    "start_time": "2021-08-01T18:53:18.893Z"
   },
   {
    "duration": 461,
    "start_time": "2021-08-01T18:53:18.905Z"
   },
   {
    "duration": 20,
    "start_time": "2021-08-01T18:53:19.369Z"
   },
   {
    "duration": 568,
    "start_time": "2021-08-01T18:53:19.391Z"
   },
   {
    "duration": 15,
    "start_time": "2021-08-01T18:53:19.961Z"
   },
   {
    "duration": 398,
    "start_time": "2021-08-01T18:53:19.979Z"
   },
   {
    "duration": 7,
    "start_time": "2021-08-01T18:53:20.380Z"
   },
   {
    "duration": 458,
    "start_time": "2021-08-01T18:53:20.389Z"
   },
   {
    "duration": 11,
    "start_time": "2021-08-01T18:53:20.850Z"
   },
   {
    "duration": 8,
    "start_time": "2021-08-01T18:53:20.863Z"
   },
   {
    "duration": 19,
    "start_time": "2021-08-01T18:53:20.873Z"
   },
   {
    "duration": 120,
    "start_time": "2021-08-01T18:53:20.894Z"
   },
   {
    "duration": 107,
    "start_time": "2021-08-01T18:53:21.016Z"
   },
   {
    "duration": 36,
    "start_time": "2021-08-01T18:53:21.126Z"
   },
   {
    "duration": 113,
    "start_time": "2021-08-01T18:53:21.164Z"
   },
   {
    "duration": 22,
    "start_time": "2021-08-01T18:53:21.280Z"
   },
   {
    "duration": 120,
    "start_time": "2021-08-01T18:53:21.305Z"
   },
   {
    "duration": 69,
    "start_time": "2021-08-01T18:53:21.428Z"
   },
   {
    "duration": 116,
    "start_time": "2021-08-01T18:53:21.500Z"
   },
   {
    "duration": 110,
    "start_time": "2021-08-01T18:53:21.618Z"
   },
   {
    "duration": 137,
    "start_time": "2021-08-01T18:53:21.730Z"
   },
   {
    "duration": -259,
    "start_time": "2021-08-01T18:53:22.129Z"
   },
   {
    "duration": -263,
    "start_time": "2021-08-01T18:53:22.135Z"
   },
   {
    "duration": -266,
    "start_time": "2021-08-01T18:53:22.140Z"
   },
   {
    "duration": 508,
    "start_time": "2021-08-01T18:53:27.480Z"
   },
   {
    "duration": 10,
    "start_time": "2021-08-01T18:53:40.731Z"
   },
   {
    "duration": 9,
    "start_time": "2021-08-01T18:53:43.096Z"
   },
   {
    "duration": 9,
    "start_time": "2021-08-01T18:53:46.168Z"
   },
   {
    "duration": 9,
    "start_time": "2021-08-01T18:57:04.623Z"
   },
   {
    "duration": 356,
    "start_time": "2021-08-01T18:58:07.014Z"
   },
   {
    "duration": 10,
    "start_time": "2021-08-01T18:58:21.472Z"
   },
   {
    "duration": 14,
    "start_time": "2021-08-01T18:58:34.636Z"
   },
   {
    "duration": 15,
    "start_time": "2021-08-01T18:59:06.483Z"
   },
   {
    "duration": 372,
    "start_time": "2021-08-01T18:59:30.293Z"
   },
   {
    "duration": 12,
    "start_time": "2021-08-01T18:59:35.778Z"
   },
   {
    "duration": 11,
    "start_time": "2021-08-01T19:01:22.584Z"
   },
   {
    "duration": 10,
    "start_time": "2021-08-01T19:01:29.694Z"
   },
   {
    "duration": 15,
    "start_time": "2021-08-01T19:01:35.412Z"
   },
   {
    "duration": 11,
    "start_time": "2021-08-01T19:01:41.140Z"
   },
   {
    "duration": 115,
    "start_time": "2021-08-01T19:02:33.467Z"
   },
   {
    "duration": 115,
    "start_time": "2021-08-01T19:05:16.887Z"
   },
   {
    "duration": 13,
    "start_time": "2021-08-01T19:05:49.998Z"
   },
   {
    "duration": 3,
    "start_time": "2021-08-01T19:06:46.126Z"
   },
   {
    "duration": 11,
    "start_time": "2021-08-01T19:08:56.464Z"
   },
   {
    "duration": 13,
    "start_time": "2021-08-01T19:10:01.471Z"
   },
   {
    "duration": 13,
    "start_time": "2021-08-01T19:10:12.507Z"
   },
   {
    "duration": 119,
    "start_time": "2021-08-01T19:10:25.549Z"
   },
   {
    "duration": 13,
    "start_time": "2021-08-01T19:10:31.730Z"
   },
   {
    "duration": 17,
    "start_time": "2021-08-01T19:10:46.118Z"
   },
   {
    "duration": 13,
    "start_time": "2021-08-01T19:10:57.320Z"
   },
   {
    "duration": 16,
    "start_time": "2021-08-01T19:11:03.666Z"
   },
   {
    "duration": 14,
    "start_time": "2021-08-01T19:11:21.793Z"
   },
   {
    "duration": 15,
    "start_time": "2021-08-01T19:12:14.007Z"
   },
   {
    "duration": 129,
    "start_time": "2021-08-01T19:14:15.037Z"
   },
   {
    "duration": 1472,
    "start_time": "2021-08-01T19:15:19.747Z"
   },
   {
    "duration": 4,
    "start_time": "2021-08-01T19:15:21.221Z"
   },
   {
    "duration": 35,
    "start_time": "2021-08-01T19:15:21.228Z"
   },
   {
    "duration": 19,
    "start_time": "2021-08-01T19:15:21.266Z"
   },
   {
    "duration": 17,
    "start_time": "2021-08-01T19:15:21.288Z"
   },
   {
    "duration": 69,
    "start_time": "2021-08-01T19:15:21.308Z"
   },
   {
    "duration": 14,
    "start_time": "2021-08-01T19:15:21.380Z"
   },
   {
    "duration": 27,
    "start_time": "2021-08-01T19:15:21.398Z"
   },
   {
    "duration": 27,
    "start_time": "2021-08-01T19:15:21.428Z"
   },
   {
    "duration": 14,
    "start_time": "2021-08-01T19:15:21.458Z"
   },
   {
    "duration": 4,
    "start_time": "2021-08-01T19:15:21.474Z"
   },
   {
    "duration": 27,
    "start_time": "2021-08-01T19:15:21.481Z"
   },
   {
    "duration": 51,
    "start_time": "2021-08-01T19:15:21.510Z"
   },
   {
    "duration": 334,
    "start_time": "2021-08-01T19:15:21.564Z"
   },
   {
    "duration": 22,
    "start_time": "2021-08-01T19:15:21.901Z"
   },
   {
    "duration": 34,
    "start_time": "2021-08-01T19:15:21.925Z"
   },
   {
    "duration": 20,
    "start_time": "2021-08-01T19:15:21.961Z"
   },
   {
    "duration": 455,
    "start_time": "2021-08-01T19:15:21.984Z"
   },
   {
    "duration": 454,
    "start_time": "2021-08-01T19:15:22.442Z"
   },
   {
    "duration": 540,
    "start_time": "2021-08-01T19:15:22.899Z"
   },
   {
    "duration": 32,
    "start_time": "2021-08-01T19:15:23.442Z"
   },
   {
    "duration": 8,
    "start_time": "2021-08-01T19:15:23.476Z"
   },
   {
    "duration": 465,
    "start_time": "2021-08-01T19:15:23.490Z"
   },
   {
    "duration": 20,
    "start_time": "2021-08-01T19:15:23.958Z"
   },
   {
    "duration": 526,
    "start_time": "2021-08-01T19:15:23.980Z"
   },
   {
    "duration": 15,
    "start_time": "2021-08-01T19:15:24.509Z"
   },
   {
    "duration": 430,
    "start_time": "2021-08-01T19:15:24.526Z"
   },
   {
    "duration": 8,
    "start_time": "2021-08-01T19:15:24.958Z"
   },
   {
    "duration": 473,
    "start_time": "2021-08-01T19:15:24.968Z"
   },
   {
    "duration": 13,
    "start_time": "2021-08-01T19:15:25.444Z"
   },
   {
    "duration": 16,
    "start_time": "2021-08-01T19:15:25.460Z"
   },
   {
    "duration": 25,
    "start_time": "2021-08-01T19:15:25.478Z"
   },
   {
    "duration": 109,
    "start_time": "2021-08-01T19:15:25.506Z"
   },
   {
    "duration": 115,
    "start_time": "2021-08-01T19:15:25.617Z"
   },
   {
    "duration": 34,
    "start_time": "2021-08-01T19:15:25.735Z"
   },
   {
    "duration": 129,
    "start_time": "2021-08-01T19:15:25.772Z"
   },
   {
    "duration": 18,
    "start_time": "2021-08-01T19:15:25.904Z"
   },
   {
    "duration": 137,
    "start_time": "2021-08-01T19:15:25.924Z"
   },
   {
    "duration": 59,
    "start_time": "2021-08-01T19:15:26.064Z"
   },
   {
    "duration": 131,
    "start_time": "2021-08-01T19:15:26.126Z"
   },
   {
    "duration": 134,
    "start_time": "2021-08-01T19:15:26.259Z"
   },
   {
    "duration": 11,
    "start_time": "2021-08-01T19:15:26.396Z"
   },
   {
    "duration": 8,
    "start_time": "2021-08-01T19:15:26.410Z"
   },
   {
    "duration": 43,
    "start_time": "2021-08-01T19:15:26.420Z"
   },
   {
    "duration": 119,
    "start_time": "2021-08-01T19:15:26.465Z"
   },
   {
    "duration": -315,
    "start_time": "2021-08-01T19:15:26.902Z"
   },
   {
    "duration": 3,
    "start_time": "2021-08-01T19:19:24.908Z"
   },
   {
    "duration": 10094,
    "start_time": "2021-08-01T19:26:00.335Z"
   },
   {
    "duration": 433,
    "start_time": "2021-08-01T19:27:49.544Z"
   },
   {
    "duration": 358,
    "start_time": "2021-08-01T19:28:25.958Z"
   },
   {
    "duration": 371,
    "start_time": "2021-08-01T19:29:00.275Z"
   },
   {
    "duration": 1458,
    "start_time": "2021-08-01T19:29:16.061Z"
   },
   {
    "duration": 4,
    "start_time": "2021-08-01T19:29:17.521Z"
   },
   {
    "duration": 38,
    "start_time": "2021-08-01T19:29:17.529Z"
   },
   {
    "duration": 17,
    "start_time": "2021-08-01T19:29:17.571Z"
   },
   {
    "duration": 14,
    "start_time": "2021-08-01T19:29:17.591Z"
   },
   {
    "duration": 59,
    "start_time": "2021-08-01T19:29:17.607Z"
   },
   {
    "duration": 16,
    "start_time": "2021-08-01T19:29:17.669Z"
   },
   {
    "duration": 27,
    "start_time": "2021-08-01T19:29:17.689Z"
   },
   {
    "duration": 24,
    "start_time": "2021-08-01T19:29:17.720Z"
   },
   {
    "duration": 18,
    "start_time": "2021-08-01T19:29:17.756Z"
   },
   {
    "duration": 16,
    "start_time": "2021-08-01T19:29:17.776Z"
   },
   {
    "duration": 33,
    "start_time": "2021-08-01T19:29:17.794Z"
   },
   {
    "duration": 14,
    "start_time": "2021-08-01T19:29:17.829Z"
   },
   {
    "duration": 329,
    "start_time": "2021-08-01T19:29:17.856Z"
   },
   {
    "duration": 23,
    "start_time": "2021-08-01T19:29:18.187Z"
   },
   {
    "duration": 13,
    "start_time": "2021-08-01T19:29:18.213Z"
   },
   {
    "duration": 13,
    "start_time": "2021-08-01T19:29:18.255Z"
   },
   {
    "duration": 452,
    "start_time": "2021-08-01T19:29:18.270Z"
   },
   {
    "duration": 459,
    "start_time": "2021-08-01T19:29:18.725Z"
   },
   {
    "duration": 534,
    "start_time": "2021-08-01T19:29:19.187Z"
   },
   {
    "duration": 19,
    "start_time": "2021-08-01T19:29:19.723Z"
   },
   {
    "duration": 6,
    "start_time": "2021-08-01T19:29:19.757Z"
   },
   {
    "duration": 454,
    "start_time": "2021-08-01T19:29:19.768Z"
   },
   {
    "duration": 32,
    "start_time": "2021-08-01T19:29:20.225Z"
   },
   {
    "duration": 529,
    "start_time": "2021-08-01T19:29:20.260Z"
   },
   {
    "duration": 18,
    "start_time": "2021-08-01T19:29:20.792Z"
   },
   {
    "duration": 434,
    "start_time": "2021-08-01T19:29:20.813Z"
   },
   {
    "duration": 10,
    "start_time": "2021-08-01T19:29:21.249Z"
   },
   {
    "duration": 474,
    "start_time": "2021-08-01T19:29:21.261Z"
   },
   {
    "duration": 7,
    "start_time": "2021-08-01T19:29:21.737Z"
   },
   {
    "duration": 6,
    "start_time": "2021-08-01T19:29:21.756Z"
   },
   {
    "duration": 12,
    "start_time": "2021-08-01T19:29:21.765Z"
   },
   {
    "duration": 124,
    "start_time": "2021-08-01T19:29:21.780Z"
   },
   {
    "duration": 117,
    "start_time": "2021-08-01T19:29:21.908Z"
   },
   {
    "duration": 39,
    "start_time": "2021-08-01T19:29:22.028Z"
   },
   {
    "duration": 122,
    "start_time": "2021-08-01T19:29:22.070Z"
   },
   {
    "duration": 22,
    "start_time": "2021-08-01T19:29:22.195Z"
   },
   {
    "duration": 152,
    "start_time": "2021-08-01T19:29:22.220Z"
   },
   {
    "duration": 56,
    "start_time": "2021-08-01T19:29:22.375Z"
   },
   {
    "duration": 248,
    "start_time": "2021-08-01T19:29:22.433Z"
   },
   {
    "duration": 126,
    "start_time": "2021-08-01T19:29:22.684Z"
   },
   {
    "duration": 9,
    "start_time": "2021-08-01T19:29:22.812Z"
   },
   {
    "duration": 15,
    "start_time": "2021-08-01T19:29:22.823Z"
   },
   {
    "duration": 23,
    "start_time": "2021-08-01T19:29:22.840Z"
   },
   {
    "duration": 14,
    "start_time": "2021-08-01T19:29:22.866Z"
   },
   {
    "duration": 9319,
    "start_time": "2021-08-01T19:29:22.882Z"
   },
   {
    "duration": 9344,
    "start_time": "2021-08-01T19:32:29.063Z"
   },
   {
    "duration": 11,
    "start_time": "2021-08-01T19:33:12.761Z"
   },
   {
    "duration": 13,
    "start_time": "2021-08-01T19:33:21.980Z"
   },
   {
    "duration": 11,
    "start_time": "2021-08-01T19:33:28.432Z"
   },
   {
    "duration": 11,
    "start_time": "2021-08-01T19:34:13.122Z"
   },
   {
    "duration": 10,
    "start_time": "2021-08-01T19:34:20.278Z"
   },
   {
    "duration": 9,
    "start_time": "2021-08-01T19:34:23.107Z"
   },
   {
    "duration": 9619,
    "start_time": "2021-08-01T19:34:42.298Z"
   },
   {
    "duration": 12140,
    "start_time": "2021-08-01T19:34:52.860Z"
   },
   {
    "duration": 14,
    "start_time": "2021-08-01T19:36:14.751Z"
   },
   {
    "duration": 14,
    "start_time": "2021-08-01T19:36:29.864Z"
   },
   {
    "duration": 4,
    "start_time": "2021-08-01T19:36:33.638Z"
   },
   {
    "duration": 7,
    "start_time": "2021-08-01T19:37:15.302Z"
   },
   {
    "duration": 5,
    "start_time": "2021-08-01T19:37:21.015Z"
   },
   {
    "duration": 11,
    "start_time": "2021-08-01T19:39:37.065Z"
   },
   {
    "duration": 9,
    "start_time": "2021-08-01T19:39:48.635Z"
   },
   {
    "duration": 14,
    "start_time": "2021-08-01T19:40:54.930Z"
   },
   {
    "duration": 15,
    "start_time": "2021-08-01T19:41:37.443Z"
   },
   {
    "duration": 115,
    "start_time": "2021-08-01T19:43:49.600Z"
   },
   {
    "duration": 8939,
    "start_time": "2021-08-01T19:45:45.011Z"
   },
   {
    "duration": 20,
    "start_time": "2021-08-01T19:46:25.345Z"
   },
   {
    "duration": 19,
    "start_time": "2021-08-01T19:47:51.507Z"
   },
   {
    "duration": 24,
    "start_time": "2021-08-01T19:48:05.030Z"
   },
   {
    "duration": 20,
    "start_time": "2021-08-01T19:48:17.001Z"
   },
   {
    "duration": 797,
    "start_time": "2021-08-01T19:53:33.403Z"
   },
   {
    "duration": 1578,
    "start_time": "2021-08-01T20:05:27.145Z"
   },
   {
    "duration": 4,
    "start_time": "2021-08-01T20:05:28.726Z"
   },
   {
    "duration": 35,
    "start_time": "2021-08-01T20:05:28.732Z"
   },
   {
    "duration": 16,
    "start_time": "2021-08-01T20:05:28.770Z"
   },
   {
    "duration": 17,
    "start_time": "2021-08-01T20:05:28.789Z"
   },
   {
    "duration": 56,
    "start_time": "2021-08-01T20:05:28.808Z"
   },
   {
    "duration": 15,
    "start_time": "2021-08-01T20:05:28.867Z"
   },
   {
    "duration": 29,
    "start_time": "2021-08-01T20:05:28.884Z"
   },
   {
    "duration": 38,
    "start_time": "2021-08-01T20:05:28.918Z"
   },
   {
    "duration": 18,
    "start_time": "2021-08-01T20:05:28.964Z"
   },
   {
    "duration": 4,
    "start_time": "2021-08-01T20:05:28.985Z"
   },
   {
    "duration": 65,
    "start_time": "2021-08-01T20:05:28.993Z"
   },
   {
    "duration": 20,
    "start_time": "2021-08-01T20:05:29.061Z"
   },
   {
    "duration": 537,
    "start_time": "2021-08-01T20:05:29.084Z"
   },
   {
    "duration": 46,
    "start_time": "2021-08-01T20:05:29.624Z"
   },
   {
    "duration": 17,
    "start_time": "2021-08-01T20:05:29.673Z"
   },
   {
    "duration": 16,
    "start_time": "2021-08-01T20:05:29.693Z"
   },
   {
    "duration": 477,
    "start_time": "2021-08-01T20:05:29.712Z"
   },
   {
    "duration": 483,
    "start_time": "2021-08-01T20:05:30.191Z"
   },
   {
    "duration": 537,
    "start_time": "2021-08-01T20:05:30.676Z"
   },
   {
    "duration": 18,
    "start_time": "2021-08-01T20:05:31.216Z"
   },
   {
    "duration": 25,
    "start_time": "2021-08-01T20:05:31.256Z"
   },
   {
    "duration": 463,
    "start_time": "2021-08-01T20:05:31.284Z"
   },
   {
    "duration": 21,
    "start_time": "2021-08-01T20:05:31.755Z"
   },
   {
    "duration": 591,
    "start_time": "2021-08-01T20:05:31.779Z"
   },
   {
    "duration": 15,
    "start_time": "2021-08-01T20:05:32.372Z"
   },
   {
    "duration": 392,
    "start_time": "2021-08-01T20:05:32.392Z"
   },
   {
    "duration": 6,
    "start_time": "2021-08-01T20:05:32.787Z"
   },
   {
    "duration": 452,
    "start_time": "2021-08-01T20:05:32.795Z"
   },
   {
    "duration": 10,
    "start_time": "2021-08-01T20:05:33.249Z"
   },
   {
    "duration": 7,
    "start_time": "2021-08-01T20:05:33.262Z"
   },
   {
    "duration": 13,
    "start_time": "2021-08-01T20:05:33.272Z"
   },
   {
    "duration": 129,
    "start_time": "2021-08-01T20:05:33.287Z"
   },
   {
    "duration": 119,
    "start_time": "2021-08-01T20:05:33.419Z"
   },
   {
    "duration": 33,
    "start_time": "2021-08-01T20:05:33.541Z"
   },
   {
    "duration": 123,
    "start_time": "2021-08-01T20:05:33.576Z"
   },
   {
    "duration": 18,
    "start_time": "2021-08-01T20:05:33.702Z"
   },
   {
    "duration": 118,
    "start_time": "2021-08-01T20:05:33.723Z"
   },
   {
    "duration": 58,
    "start_time": "2021-08-01T20:05:33.857Z"
   },
   {
    "duration": 157,
    "start_time": "2021-08-01T20:05:33.918Z"
   },
   {
    "duration": 128,
    "start_time": "2021-08-01T20:05:34.078Z"
   },
   {
    "duration": 9,
    "start_time": "2021-08-01T20:05:34.209Z"
   },
   {
    "duration": 17,
    "start_time": "2021-08-01T20:05:34.221Z"
   },
   {
    "duration": 23,
    "start_time": "2021-08-01T20:05:34.241Z"
   },
   {
    "duration": 20,
    "start_time": "2021-08-01T20:05:34.266Z"
   },
   {
    "duration": 12,
    "start_time": "2021-08-01T20:05:34.288Z"
   },
   {
    "duration": 9,
    "start_time": "2021-08-01T20:05:34.302Z"
   },
   {
    "duration": 133,
    "start_time": "2021-08-01T20:05:34.313Z"
   },
   {
    "duration": -367,
    "start_time": "2021-08-01T20:05:34.815Z"
   },
   {
    "duration": -371,
    "start_time": "2021-08-01T20:05:34.821Z"
   },
   {
    "duration": -377,
    "start_time": "2021-08-01T20:05:34.828Z"
   },
   {
    "duration": 1408,
    "start_time": "2021-08-01T20:05:58.104Z"
   },
   {
    "duration": 4,
    "start_time": "2021-08-01T20:05:59.514Z"
   },
   {
    "duration": 38,
    "start_time": "2021-08-01T20:05:59.524Z"
   },
   {
    "duration": 19,
    "start_time": "2021-08-01T20:05:59.565Z"
   },
   {
    "duration": 27,
    "start_time": "2021-08-01T20:05:59.587Z"
   },
   {
    "duration": 57,
    "start_time": "2021-08-01T20:05:59.616Z"
   },
   {
    "duration": 14,
    "start_time": "2021-08-01T20:05:59.677Z"
   },
   {
    "duration": 32,
    "start_time": "2021-08-01T20:05:59.693Z"
   },
   {
    "duration": 17,
    "start_time": "2021-08-01T20:05:59.727Z"
   },
   {
    "duration": 23,
    "start_time": "2021-08-01T20:05:59.746Z"
   },
   {
    "duration": 8,
    "start_time": "2021-08-01T20:05:59.771Z"
   },
   {
    "duration": 34,
    "start_time": "2021-08-01T20:05:59.781Z"
   },
   {
    "duration": 12,
    "start_time": "2021-08-01T20:05:59.818Z"
   },
   {
    "duration": 342,
    "start_time": "2021-08-01T20:05:59.833Z"
   },
   {
    "duration": 22,
    "start_time": "2021-08-01T20:06:00.178Z"
   },
   {
    "duration": 50,
    "start_time": "2021-08-01T20:06:00.202Z"
   },
   {
    "duration": 36,
    "start_time": "2021-08-01T20:06:00.254Z"
   },
   {
    "duration": 457,
    "start_time": "2021-08-01T20:06:00.292Z"
   },
   {
    "duration": 446,
    "start_time": "2021-08-01T20:06:00.751Z"
   },
   {
    "duration": 538,
    "start_time": "2021-08-01T20:06:01.200Z"
   },
   {
    "duration": 27,
    "start_time": "2021-08-01T20:06:01.741Z"
   },
   {
    "duration": 14,
    "start_time": "2021-08-01T20:06:01.773Z"
   },
   {
    "duration": 477,
    "start_time": "2021-08-01T20:06:01.790Z"
   },
   {
    "duration": 19,
    "start_time": "2021-08-01T20:06:02.270Z"
   },
   {
    "duration": 538,
    "start_time": "2021-08-01T20:06:02.291Z"
   },
   {
    "duration": 28,
    "start_time": "2021-08-01T20:06:02.831Z"
   },
   {
    "duration": 400,
    "start_time": "2021-08-01T20:06:02.862Z"
   },
   {
    "duration": 7,
    "start_time": "2021-08-01T20:06:03.264Z"
   },
   {
    "duration": 469,
    "start_time": "2021-08-01T20:06:03.273Z"
   },
   {
    "duration": 11,
    "start_time": "2021-08-01T20:06:03.744Z"
   },
   {
    "duration": 6,
    "start_time": "2021-08-01T20:06:03.757Z"
   },
   {
    "duration": 16,
    "start_time": "2021-08-01T20:06:03.765Z"
   },
   {
    "duration": 124,
    "start_time": "2021-08-01T20:06:03.783Z"
   },
   {
    "duration": 116,
    "start_time": "2021-08-01T20:06:03.909Z"
   },
   {
    "duration": 31,
    "start_time": "2021-08-01T20:06:04.028Z"
   },
   {
    "duration": 120,
    "start_time": "2021-08-01T20:06:04.062Z"
   },
   {
    "duration": 21,
    "start_time": "2021-08-01T20:06:04.184Z"
   },
   {
    "duration": 122,
    "start_time": "2021-08-01T20:06:04.207Z"
   },
   {
    "duration": 72,
    "start_time": "2021-08-01T20:06:04.331Z"
   },
   {
    "duration": 115,
    "start_time": "2021-08-01T20:06:04.406Z"
   },
   {
    "duration": 114,
    "start_time": "2021-08-01T20:06:04.523Z"
   },
   {
    "duration": 17,
    "start_time": "2021-08-01T20:06:04.640Z"
   },
   {
    "duration": 8,
    "start_time": "2021-08-01T20:06:04.660Z"
   },
   {
    "duration": 16,
    "start_time": "2021-08-01T20:06:04.670Z"
   },
   {
    "duration": 15,
    "start_time": "2021-08-01T20:06:04.688Z"
   },
   {
    "duration": 13,
    "start_time": "2021-08-01T20:06:04.706Z"
   },
   {
    "duration": 6,
    "start_time": "2021-08-01T20:06:04.757Z"
   },
   {
    "duration": 15,
    "start_time": "2021-08-01T20:06:04.765Z"
   },
   {
    "duration": 13,
    "start_time": "2021-08-01T20:06:04.782Z"
   },
   {
    "duration": 20,
    "start_time": "2021-08-01T20:06:04.797Z"
   },
   {
    "duration": 1409,
    "start_time": "2021-08-02T02:12:16.694Z"
   },
   {
    "duration": 4,
    "start_time": "2021-08-02T02:12:18.105Z"
   },
   {
    "duration": 33,
    "start_time": "2021-08-02T02:12:18.111Z"
   },
   {
    "duration": 21,
    "start_time": "2021-08-02T02:12:18.146Z"
   },
   {
    "duration": 14,
    "start_time": "2021-08-02T02:12:18.170Z"
   },
   {
    "duration": 55,
    "start_time": "2021-08-02T02:12:18.187Z"
   },
   {
    "duration": 14,
    "start_time": "2021-08-02T02:12:18.244Z"
   },
   {
    "duration": 26,
    "start_time": "2021-08-02T02:12:18.262Z"
   },
   {
    "duration": 14,
    "start_time": "2021-08-02T02:12:18.291Z"
   },
   {
    "duration": 14,
    "start_time": "2021-08-02T02:12:18.307Z"
   },
   {
    "duration": 33,
    "start_time": "2021-08-02T02:12:18.323Z"
   },
   {
    "duration": 25,
    "start_time": "2021-08-02T02:12:18.358Z"
   },
   {
    "duration": 13,
    "start_time": "2021-08-02T02:12:18.386Z"
   },
   {
    "duration": 333,
    "start_time": "2021-08-02T02:12:18.402Z"
   },
   {
    "duration": 33,
    "start_time": "2021-08-02T02:12:18.738Z"
   },
   {
    "duration": 18,
    "start_time": "2021-08-02T02:12:18.774Z"
   },
   {
    "duration": 17,
    "start_time": "2021-08-02T02:12:18.794Z"
   },
   {
    "duration": 464,
    "start_time": "2021-08-02T02:12:18.814Z"
   },
   {
    "duration": 461,
    "start_time": "2021-08-02T02:12:19.280Z"
   },
   {
    "duration": 542,
    "start_time": "2021-08-02T02:12:19.744Z"
   },
   {
    "duration": 18,
    "start_time": "2021-08-02T02:12:20.289Z"
   },
   {
    "duration": 18,
    "start_time": "2021-08-02T02:12:20.310Z"
   },
   {
    "duration": 451,
    "start_time": "2021-08-02T02:12:20.333Z"
   },
   {
    "duration": 19,
    "start_time": "2021-08-02T02:12:20.787Z"
   },
   {
    "duration": 556,
    "start_time": "2021-08-02T02:12:20.809Z"
   },
   {
    "duration": 14,
    "start_time": "2021-08-02T02:12:21.368Z"
   },
   {
    "duration": 388,
    "start_time": "2021-08-02T02:12:21.385Z"
   },
   {
    "duration": 8,
    "start_time": "2021-08-02T02:12:21.776Z"
   },
   {
    "duration": 472,
    "start_time": "2021-08-02T02:12:21.787Z"
   },
   {
    "duration": 9,
    "start_time": "2021-08-02T02:12:22.262Z"
   },
   {
    "duration": 9,
    "start_time": "2021-08-02T02:12:22.274Z"
   },
   {
    "duration": 15,
    "start_time": "2021-08-02T02:12:22.286Z"
   },
   {
    "duration": 157,
    "start_time": "2021-08-02T02:12:22.304Z"
   },
   {
    "duration": 105,
    "start_time": "2021-08-02T02:12:22.463Z"
   },
   {
    "duration": 18,
    "start_time": "2021-08-02T02:12:22.570Z"
   },
   {
    "duration": 122,
    "start_time": "2021-08-02T02:12:22.590Z"
   },
   {
    "duration": 17,
    "start_time": "2021-08-02T02:12:22.715Z"
   },
   {
    "duration": 115,
    "start_time": "2021-08-02T02:12:22.755Z"
   },
   {
    "duration": 56,
    "start_time": "2021-08-02T02:12:22.873Z"
   },
   {
    "duration": 134,
    "start_time": "2021-08-02T02:12:22.932Z"
   },
   {
    "duration": 129,
    "start_time": "2021-08-02T02:12:23.069Z"
   },
   {
    "duration": 8,
    "start_time": "2021-08-02T02:12:23.200Z"
   },
   {
    "duration": 9,
    "start_time": "2021-08-02T02:12:23.210Z"
   },
   {
    "duration": 43,
    "start_time": "2021-08-02T02:12:23.221Z"
   },
   {
    "duration": 18,
    "start_time": "2021-08-02T02:12:23.267Z"
   },
   {
    "duration": 13,
    "start_time": "2021-08-02T02:12:23.287Z"
   },
   {
    "duration": 8,
    "start_time": "2021-08-02T02:12:23.302Z"
   },
   {
    "duration": 46,
    "start_time": "2021-08-02T02:12:23.312Z"
   },
   {
    "duration": 9,
    "start_time": "2021-08-02T02:12:23.360Z"
   },
   {
    "duration": 19,
    "start_time": "2021-08-02T02:12:23.372Z"
   },
   {
    "duration": 13,
    "start_time": "2021-08-02T02:16:56.125Z"
   },
   {
    "duration": 12,
    "start_time": "2021-08-02T02:19:58.235Z"
   },
   {
    "duration": 340,
    "start_time": "2021-08-02T07:33:26.810Z"
   },
   {
    "duration": 1078,
    "start_time": "2021-08-02T07:33:35.106Z"
   },
   {
    "duration": 2,
    "start_time": "2021-08-02T07:33:36.186Z"
   },
   {
    "duration": 26,
    "start_time": "2021-08-02T07:33:36.190Z"
   },
   {
    "duration": 10,
    "start_time": "2021-08-02T07:33:36.218Z"
   },
   {
    "duration": 14,
    "start_time": "2021-08-02T07:33:36.229Z"
   },
   {
    "duration": 42,
    "start_time": "2021-08-02T07:33:36.245Z"
   },
   {
    "duration": 10,
    "start_time": "2021-08-02T07:33:36.288Z"
   },
   {
    "duration": 23,
    "start_time": "2021-08-02T07:33:36.300Z"
   },
   {
    "duration": 17,
    "start_time": "2021-08-02T07:33:36.324Z"
   },
   {
    "duration": 10,
    "start_time": "2021-08-02T07:33:36.343Z"
   },
   {
    "duration": 2,
    "start_time": "2021-08-02T07:33:36.354Z"
   },
   {
    "duration": 16,
    "start_time": "2021-08-02T07:33:36.358Z"
   },
   {
    "duration": 9,
    "start_time": "2021-08-02T07:33:36.375Z"
   },
   {
    "duration": 209,
    "start_time": "2021-08-02T07:33:36.385Z"
   },
   {
    "duration": 15,
    "start_time": "2021-08-02T07:33:36.596Z"
   },
   {
    "duration": 11,
    "start_time": "2021-08-02T07:33:36.613Z"
   },
   {
    "duration": 23,
    "start_time": "2021-08-02T07:33:36.625Z"
   },
   {
    "duration": 269,
    "start_time": "2021-08-02T07:33:36.649Z"
   },
   {
    "duration": 268,
    "start_time": "2021-08-02T07:33:36.920Z"
   },
   {
    "duration": 369,
    "start_time": "2021-08-02T07:33:37.189Z"
   },
   {
    "duration": 12,
    "start_time": "2021-08-02T07:33:37.559Z"
   },
   {
    "duration": 10,
    "start_time": "2021-08-02T07:33:37.572Z"
   },
   {
    "duration": 269,
    "start_time": "2021-08-02T07:33:37.585Z"
   },
   {
    "duration": 11,
    "start_time": "2021-08-02T07:33:37.856Z"
   },
   {
    "duration": 532,
    "start_time": "2021-08-02T07:33:37.869Z"
   },
   {
    "duration": 46,
    "start_time": "2021-08-02T07:33:38.403Z"
   },
   {
    "duration": 284,
    "start_time": "2021-08-02T07:33:38.451Z"
   },
   {
    "duration": 4,
    "start_time": "2021-08-02T07:33:38.741Z"
   },
   {
    "duration": 368,
    "start_time": "2021-08-02T07:33:38.747Z"
   },
   {
    "duration": 5,
    "start_time": "2021-08-02T07:33:39.117Z"
   },
   {
    "duration": 19,
    "start_time": "2021-08-02T07:33:39.123Z"
   },
   {
    "duration": 12,
    "start_time": "2021-08-02T07:33:39.143Z"
   },
   {
    "duration": 60,
    "start_time": "2021-08-02T07:33:39.156Z"
   },
   {
    "duration": 64,
    "start_time": "2021-08-02T07:33:39.218Z"
   },
   {
    "duration": 15,
    "start_time": "2021-08-02T07:33:39.284Z"
   },
   {
    "duration": 66,
    "start_time": "2021-08-02T07:33:39.301Z"
   },
   {
    "duration": 10,
    "start_time": "2021-08-02T07:33:39.368Z"
   },
   {
    "duration": 75,
    "start_time": "2021-08-02T07:33:39.379Z"
   },
   {
    "duration": 36,
    "start_time": "2021-08-02T07:33:39.456Z"
   },
   {
    "duration": 66,
    "start_time": "2021-08-02T07:33:39.493Z"
   },
   {
    "duration": 57,
    "start_time": "2021-08-02T07:33:39.560Z"
   },
   {
    "duration": 26,
    "start_time": "2021-08-02T07:33:39.619Z"
   },
   {
    "duration": 7,
    "start_time": "2021-08-02T07:33:39.647Z"
   },
   {
    "duration": 7,
    "start_time": "2021-08-02T07:33:39.656Z"
   },
   {
    "duration": 9,
    "start_time": "2021-08-02T07:33:39.664Z"
   },
   {
    "duration": 8,
    "start_time": "2021-08-02T07:33:39.674Z"
   },
   {
    "duration": 8,
    "start_time": "2021-08-02T07:33:39.683Z"
   },
   {
    "duration": 10,
    "start_time": "2021-08-02T07:33:39.692Z"
   },
   {
    "duration": 38,
    "start_time": "2021-08-02T07:33:39.704Z"
   },
   {
    "duration": 12,
    "start_time": "2021-08-02T07:33:39.744Z"
   },
   {
    "duration": 83,
    "start_time": "2021-08-02T07:34:11.800Z"
   },
   {
    "duration": 399,
    "start_time": "2021-08-02T07:49:48.721Z"
   },
   {
    "duration": 159,
    "start_time": "2021-08-02T07:54:34.045Z"
   },
   {
    "duration": 11,
    "start_time": "2021-08-02T07:56:23.312Z"
   },
   {
    "duration": 145,
    "start_time": "2021-08-02T07:56:57.787Z"
   },
   {
    "duration": 155,
    "start_time": "2021-08-02T07:57:08.787Z"
   },
   {
    "duration": 15,
    "start_time": "2021-08-02T07:58:58.878Z"
   },
   {
    "duration": 9,
    "start_time": "2021-08-02T07:59:04.008Z"
   },
   {
    "duration": 9,
    "start_time": "2021-08-02T07:59:07.046Z"
   },
   {
    "duration": 247,
    "start_time": "2021-08-02T07:59:10.133Z"
   },
   {
    "duration": 258,
    "start_time": "2021-08-02T07:59:14.418Z"
   },
   {
    "duration": 359,
    "start_time": "2021-08-02T07:59:25.946Z"
   },
   {
    "duration": 13,
    "start_time": "2021-08-02T07:59:30.420Z"
   },
   {
    "duration": 6,
    "start_time": "2021-08-02T07:59:40.424Z"
   },
   {
    "duration": 255,
    "start_time": "2021-08-02T07:59:43.286Z"
   },
   {
    "duration": 287,
    "start_time": "2021-08-02T08:00:01.187Z"
   },
   {
    "duration": 262,
    "start_time": "2021-08-02T08:00:04.871Z"
   },
   {
    "duration": 247,
    "start_time": "2021-08-02T08:00:09.712Z"
   },
   {
    "duration": 326,
    "start_time": "2021-08-02T08:00:14.555Z"
   },
   {
    "duration": 1116,
    "start_time": "2021-08-02T08:00:59.582Z"
   },
   {
    "duration": 3,
    "start_time": "2021-08-02T08:01:00.700Z"
   },
   {
    "duration": 39,
    "start_time": "2021-08-02T08:01:00.705Z"
   },
   {
    "duration": 21,
    "start_time": "2021-08-02T08:01:00.747Z"
   },
   {
    "duration": 26,
    "start_time": "2021-08-02T08:01:00.771Z"
   },
   {
    "duration": 89,
    "start_time": "2021-08-02T08:01:00.799Z"
   },
   {
    "duration": 9,
    "start_time": "2021-08-02T08:01:00.890Z"
   },
   {
    "duration": 25,
    "start_time": "2021-08-02T08:01:00.902Z"
   },
   {
    "duration": 32,
    "start_time": "2021-08-02T08:01:00.929Z"
   },
   {
    "duration": 26,
    "start_time": "2021-08-02T08:01:00.963Z"
   },
   {
    "duration": 12,
    "start_time": "2021-08-02T08:01:00.991Z"
   },
   {
    "duration": 46,
    "start_time": "2021-08-02T08:01:01.005Z"
   },
   {
    "duration": 15,
    "start_time": "2021-08-02T08:01:01.054Z"
   },
   {
    "duration": 227,
    "start_time": "2021-08-02T08:01:01.071Z"
   },
   {
    "duration": 162,
    "start_time": "2021-08-02T08:01:01.300Z"
   },
   {
    "duration": 18,
    "start_time": "2021-08-02T08:01:01.464Z"
   },
   {
    "duration": 16,
    "start_time": "2021-08-02T08:01:01.483Z"
   },
   {
    "duration": 27,
    "start_time": "2021-08-02T08:01:01.500Z"
   },
   {
    "duration": 289,
    "start_time": "2021-08-02T08:01:01.528Z"
   },
   {
    "duration": 289,
    "start_time": "2021-08-02T08:01:01.819Z"
   },
   {
    "duration": 421,
    "start_time": "2021-08-02T08:01:02.110Z"
   },
   {
    "duration": 19,
    "start_time": "2021-08-02T08:01:02.533Z"
   },
   {
    "duration": 10,
    "start_time": "2021-08-02T08:01:02.555Z"
   },
   {
    "duration": 273,
    "start_time": "2021-08-02T08:01:02.567Z"
   },
   {
    "duration": 16,
    "start_time": "2021-08-02T08:01:02.842Z"
   },
   {
    "duration": 375,
    "start_time": "2021-08-02T08:01:02.859Z"
   },
   {
    "duration": 16,
    "start_time": "2021-08-02T08:01:03.236Z"
   },
   {
    "duration": 393,
    "start_time": "2021-08-02T08:01:03.254Z"
   },
   {
    "duration": 6,
    "start_time": "2021-08-02T08:01:03.649Z"
   },
   {
    "duration": 406,
    "start_time": "2021-08-02T08:01:03.657Z"
   },
   {
    "duration": 6,
    "start_time": "2021-08-02T08:01:04.065Z"
   },
   {
    "duration": 17,
    "start_time": "2021-08-02T08:01:04.073Z"
   },
   {
    "duration": 19,
    "start_time": "2021-08-02T08:01:04.092Z"
   },
   {
    "duration": 81,
    "start_time": "2021-08-02T08:01:04.113Z"
   },
   {
    "duration": 81,
    "start_time": "2021-08-02T08:01:04.195Z"
   },
   {
    "duration": 33,
    "start_time": "2021-08-02T08:01:04.277Z"
   },
   {
    "duration": 86,
    "start_time": "2021-08-02T08:01:04.312Z"
   },
   {
    "duration": 23,
    "start_time": "2021-08-02T08:01:04.400Z"
   },
   {
    "duration": 76,
    "start_time": "2021-08-02T08:01:04.425Z"
   },
   {
    "duration": 52,
    "start_time": "2021-08-02T08:01:04.503Z"
   },
   {
    "duration": 104,
    "start_time": "2021-08-02T08:01:04.557Z"
   },
   {
    "duration": 128,
    "start_time": "2021-08-02T08:01:04.663Z"
   },
   {
    "duration": 8,
    "start_time": "2021-08-02T08:01:04.793Z"
   },
   {
    "duration": 32,
    "start_time": "2021-08-02T08:01:04.803Z"
   },
   {
    "duration": 25,
    "start_time": "2021-08-02T08:01:04.837Z"
   },
   {
    "duration": 25,
    "start_time": "2021-08-02T08:01:04.863Z"
   },
   {
    "duration": 21,
    "start_time": "2021-08-02T08:01:04.890Z"
   },
   {
    "duration": 19,
    "start_time": "2021-08-02T08:01:04.913Z"
   },
   {
    "duration": 34,
    "start_time": "2021-08-02T08:01:04.933Z"
   },
   {
    "duration": 25,
    "start_time": "2021-08-02T08:01:04.969Z"
   },
   {
    "duration": 18,
    "start_time": "2021-08-02T08:01:04.995Z"
   },
   {
    "duration": 263,
    "start_time": "2021-08-02T09:43:33.888Z"
   },
   {
    "duration": 1073,
    "start_time": "2021-08-02T09:43:43.589Z"
   },
   {
    "duration": 2,
    "start_time": "2021-08-02T09:43:44.664Z"
   },
   {
    "duration": 25,
    "start_time": "2021-08-02T09:43:44.668Z"
   },
   {
    "duration": 11,
    "start_time": "2021-08-02T09:43:44.695Z"
   },
   {
    "duration": 9,
    "start_time": "2021-08-02T09:43:44.707Z"
   },
   {
    "duration": 38,
    "start_time": "2021-08-02T09:43:44.718Z"
   },
   {
    "duration": 8,
    "start_time": "2021-08-02T09:43:44.758Z"
   },
   {
    "duration": 20,
    "start_time": "2021-08-02T09:43:44.769Z"
   },
   {
    "duration": 9,
    "start_time": "2021-08-02T09:43:44.791Z"
   },
   {
    "duration": 9,
    "start_time": "2021-08-02T09:43:44.802Z"
   },
   {
    "duration": 2,
    "start_time": "2021-08-02T09:43:44.813Z"
   },
   {
    "duration": 14,
    "start_time": "2021-08-02T09:43:44.816Z"
   },
   {
    "duration": 8,
    "start_time": "2021-08-02T09:43:44.831Z"
   },
   {
    "duration": 204,
    "start_time": "2021-08-02T09:43:44.840Z"
   },
   {
    "duration": 151,
    "start_time": "2021-08-02T09:43:45.045Z"
   },
   {
    "duration": 14,
    "start_time": "2021-08-02T09:43:45.198Z"
   },
   {
    "duration": 10,
    "start_time": "2021-08-02T09:43:45.213Z"
   },
   {
    "duration": 10,
    "start_time": "2021-08-02T09:43:45.225Z"
   },
   {
    "duration": 293,
    "start_time": "2021-08-02T09:43:45.236Z"
   },
   {
    "duration": 264,
    "start_time": "2021-08-02T09:43:45.530Z"
   },
   {
    "duration": 389,
    "start_time": "2021-08-02T09:43:45.796Z"
   },
   {
    "duration": 18,
    "start_time": "2021-08-02T09:43:46.187Z"
   },
   {
    "duration": 4,
    "start_time": "2021-08-02T09:43:46.208Z"
   },
   {
    "duration": 261,
    "start_time": "2021-08-02T09:43:46.214Z"
   },
   {
    "duration": 19,
    "start_time": "2021-08-02T09:43:46.477Z"
   },
   {
    "duration": 412,
    "start_time": "2021-08-02T09:43:46.498Z"
   },
   {
    "duration": 10,
    "start_time": "2021-08-02T09:43:46.912Z"
   },
   {
    "duration": 578,
    "start_time": "2021-08-02T09:43:46.924Z"
   },
   {
    "duration": 5,
    "start_time": "2021-08-02T09:43:47.504Z"
   },
   {
    "duration": 374,
    "start_time": "2021-08-02T09:43:47.510Z"
   },
   {
    "duration": 9,
    "start_time": "2021-08-02T09:43:47.886Z"
   },
   {
    "duration": 6,
    "start_time": "2021-08-02T09:43:47.896Z"
   },
   {
    "duration": 9,
    "start_time": "2021-08-02T09:43:47.903Z"
   },
   {
    "duration": 79,
    "start_time": "2021-08-02T09:43:47.914Z"
   },
   {
    "duration": 76,
    "start_time": "2021-08-02T09:43:47.995Z"
   },
   {
    "duration": 27,
    "start_time": "2021-08-02T09:43:48.072Z"
   },
   {
    "duration": 59,
    "start_time": "2021-08-02T09:43:48.101Z"
   },
   {
    "duration": 30,
    "start_time": "2021-08-02T09:43:48.162Z"
   },
   {
    "duration": 76,
    "start_time": "2021-08-02T09:43:48.194Z"
   },
   {
    "duration": 49,
    "start_time": "2021-08-02T09:43:48.272Z"
   },
   {
    "duration": 72,
    "start_time": "2021-08-02T09:43:48.323Z"
   },
   {
    "duration": 99,
    "start_time": "2021-08-02T09:43:48.396Z"
   },
   {
    "duration": 6,
    "start_time": "2021-08-02T09:43:48.497Z"
   },
   {
    "duration": 18,
    "start_time": "2021-08-02T09:43:48.504Z"
   },
   {
    "duration": 9,
    "start_time": "2021-08-02T09:43:48.524Z"
   },
   {
    "duration": 11,
    "start_time": "2021-08-02T09:43:48.535Z"
   },
   {
    "duration": 9,
    "start_time": "2021-08-02T09:43:48.547Z"
   },
   {
    "duration": 36,
    "start_time": "2021-08-02T09:43:48.558Z"
   },
   {
    "duration": 8,
    "start_time": "2021-08-02T09:43:48.596Z"
   },
   {
    "duration": 8,
    "start_time": "2021-08-02T09:43:48.606Z"
   },
   {
    "duration": 11,
    "start_time": "2021-08-02T09:43:48.616Z"
   },
   {
    "duration": 346,
    "start_time": "2021-08-02T09:44:12.640Z"
   },
   {
    "duration": 111,
    "start_time": "2021-08-02T09:45:07.665Z"
   },
   {
    "duration": 339,
    "start_time": "2021-08-02T09:50:13.749Z"
   },
   {
    "duration": 346,
    "start_time": "2021-08-02T09:53:37.839Z"
   },
   {
    "duration": 76,
    "start_time": "2021-08-02T09:56:15.235Z"
   },
   {
    "duration": 75,
    "start_time": "2021-08-02T09:56:50.401Z"
   },
   {
    "duration": 77,
    "start_time": "2021-08-02T09:58:01.907Z"
   },
   {
    "duration": 82,
    "start_time": "2021-08-02T09:58:20.088Z"
   },
   {
    "duration": 300,
    "start_time": "2021-08-02T09:59:23.366Z"
   },
   {
    "duration": 300,
    "start_time": "2021-08-02T09:59:46.593Z"
   },
   {
    "duration": 238,
    "start_time": "2021-08-02T10:00:00.127Z"
   },
   {
    "duration": 75,
    "start_time": "2021-08-02T10:02:49.316Z"
   },
   {
    "duration": 75,
    "start_time": "2021-08-02T10:04:07.790Z"
   },
   {
    "duration": 1002,
    "start_time": "2021-08-02T10:04:31.127Z"
   },
   {
    "duration": 4,
    "start_time": "2021-08-02T10:04:32.131Z"
   },
   {
    "duration": 28,
    "start_time": "2021-08-02T10:04:32.139Z"
   },
   {
    "duration": 11,
    "start_time": "2021-08-02T10:04:32.169Z"
   },
   {
    "duration": 19,
    "start_time": "2021-08-02T10:04:32.182Z"
   },
   {
    "duration": 38,
    "start_time": "2021-08-02T10:04:32.203Z"
   },
   {
    "duration": 9,
    "start_time": "2021-08-02T10:04:32.243Z"
   },
   {
    "duration": 20,
    "start_time": "2021-08-02T10:04:32.254Z"
   },
   {
    "duration": 8,
    "start_time": "2021-08-02T10:04:32.276Z"
   },
   {
    "duration": 10,
    "start_time": "2021-08-02T10:04:32.286Z"
   },
   {
    "duration": 2,
    "start_time": "2021-08-02T10:04:32.297Z"
   },
   {
    "duration": 13,
    "start_time": "2021-08-02T10:04:32.301Z"
   },
   {
    "duration": 8,
    "start_time": "2021-08-02T10:04:32.315Z"
   },
   {
    "duration": 196,
    "start_time": "2021-08-02T10:04:32.325Z"
   },
   {
    "duration": 143,
    "start_time": "2021-08-02T10:04:32.522Z"
   },
   {
    "duration": 29,
    "start_time": "2021-08-02T10:04:32.666Z"
   },
   {
    "duration": 8,
    "start_time": "2021-08-02T10:04:32.696Z"
   },
   {
    "duration": 10,
    "start_time": "2021-08-02T10:04:32.705Z"
   },
   {
    "duration": 253,
    "start_time": "2021-08-02T10:04:32.716Z"
   },
   {
    "duration": 254,
    "start_time": "2021-08-02T10:04:32.971Z"
   },
   {
    "duration": 332,
    "start_time": "2021-08-02T10:04:33.226Z"
   },
   {
    "duration": 12,
    "start_time": "2021-08-02T10:04:33.562Z"
   },
   {
    "duration": 16,
    "start_time": "2021-08-02T10:04:33.576Z"
   },
   {
    "duration": 239,
    "start_time": "2021-08-02T10:04:33.594Z"
   },
   {
    "duration": 12,
    "start_time": "2021-08-02T10:04:33.835Z"
   },
   {
    "duration": 396,
    "start_time": "2021-08-02T10:04:33.848Z"
   },
   {
    "duration": 10,
    "start_time": "2021-08-02T10:04:34.246Z"
   },
   {
    "duration": 286,
    "start_time": "2021-08-02T10:04:34.258Z"
   },
   {
    "duration": 5,
    "start_time": "2021-08-02T10:04:34.546Z"
   },
   {
    "duration": 342,
    "start_time": "2021-08-02T10:04:34.552Z"
   },
   {
    "duration": 299,
    "start_time": "2021-08-02T10:04:34.896Z"
   },
   {
    "duration": 6,
    "start_time": "2021-08-02T10:04:35.196Z"
   },
   {
    "duration": 5,
    "start_time": "2021-08-02T10:04:35.204Z"
   },
   {
    "duration": 9,
    "start_time": "2021-08-02T10:04:35.211Z"
   },
   {
    "duration": 74,
    "start_time": "2021-08-02T10:04:35.222Z"
   },
   {
    "duration": 55,
    "start_time": "2021-08-02T10:04:35.298Z"
   },
   {
    "duration": 15,
    "start_time": "2021-08-02T10:04:35.355Z"
   },
   {
    "duration": 75,
    "start_time": "2021-08-02T10:04:35.371Z"
   },
   {
    "duration": 20,
    "start_time": "2021-08-02T10:04:35.448Z"
   },
   {
    "duration": 89,
    "start_time": "2021-08-02T10:04:35.469Z"
   },
   {
    "duration": 62,
    "start_time": "2021-08-02T10:04:35.560Z"
   },
   {
    "duration": 85,
    "start_time": "2021-08-02T10:04:35.624Z"
   },
   {
    "duration": 59,
    "start_time": "2021-08-02T10:04:35.710Z"
   },
   {
    "duration": 23,
    "start_time": "2021-08-02T10:04:35.771Z"
   },
   {
    "duration": 7,
    "start_time": "2021-08-02T10:04:35.796Z"
   },
   {
    "duration": 9,
    "start_time": "2021-08-02T10:04:35.805Z"
   },
   {
    "duration": 8,
    "start_time": "2021-08-02T10:04:35.816Z"
   },
   {
    "duration": 7,
    "start_time": "2021-08-02T10:04:35.826Z"
   },
   {
    "duration": 7,
    "start_time": "2021-08-02T10:04:35.835Z"
   },
   {
    "duration": 8,
    "start_time": "2021-08-02T10:04:35.844Z"
   },
   {
    "duration": 40,
    "start_time": "2021-08-02T10:04:35.854Z"
   },
   {
    "duration": 15,
    "start_time": "2021-08-02T10:04:35.896Z"
   },
   {
    "duration": 8,
    "start_time": "2021-08-02T10:05:41.238Z"
   },
   {
    "duration": 10,
    "start_time": "2021-08-02T10:05:57.119Z"
   },
   {
    "duration": 9,
    "start_time": "2021-08-02T10:06:07.422Z"
   },
   {
    "duration": 91,
    "start_time": "2021-08-02T10:07:09.550Z"
   },
   {
    "duration": 12,
    "start_time": "2021-08-02T10:07:58.002Z"
   },
   {
    "duration": 9,
    "start_time": "2021-08-02T10:08:26.493Z"
   },
   {
    "duration": 334,
    "start_time": "2021-08-02T10:08:44.850Z"
   },
   {
    "duration": 13,
    "start_time": "2021-08-02T10:09:02.679Z"
   },
   {
    "duration": 2,
    "start_time": "2021-08-02T10:09:55.863Z"
   },
   {
    "duration": 93,
    "start_time": "2021-08-02T10:12:06.255Z"
   },
   {
    "duration": 82,
    "start_time": "2021-08-02T10:56:34.721Z"
   },
   {
    "duration": 286,
    "start_time": "2021-08-02T10:58:17.319Z"
   },
   {
    "duration": 1309,
    "start_time": "2021-08-02T10:59:22.710Z"
   },
   {
    "duration": 5,
    "start_time": "2021-08-02T10:59:24.021Z"
   },
   {
    "duration": 24,
    "start_time": "2021-08-02T10:59:24.031Z"
   },
   {
    "duration": 12,
    "start_time": "2021-08-02T10:59:24.057Z"
   },
   {
    "duration": 21,
    "start_time": "2021-08-02T10:59:24.070Z"
   },
   {
    "duration": 42,
    "start_time": "2021-08-02T10:59:24.093Z"
   },
   {
    "duration": 13,
    "start_time": "2021-08-02T10:59:24.138Z"
   },
   {
    "duration": 26,
    "start_time": "2021-08-02T10:59:24.153Z"
   },
   {
    "duration": 13,
    "start_time": "2021-08-02T10:59:24.181Z"
   },
   {
    "duration": 15,
    "start_time": "2021-08-02T10:59:24.196Z"
   },
   {
    "duration": 3,
    "start_time": "2021-08-02T10:59:24.213Z"
   },
   {
    "duration": 21,
    "start_time": "2021-08-02T10:59:24.217Z"
   },
   {
    "duration": 11,
    "start_time": "2021-08-02T10:59:24.240Z"
   },
   {
    "duration": 331,
    "start_time": "2021-08-02T10:59:24.253Z"
   },
   {
    "duration": 230,
    "start_time": "2021-08-02T10:59:24.586Z"
   },
   {
    "duration": 20,
    "start_time": "2021-08-02T10:59:24.819Z"
   },
   {
    "duration": 13,
    "start_time": "2021-08-02T10:59:24.841Z"
   },
   {
    "duration": 34,
    "start_time": "2021-08-02T10:59:24.856Z"
   },
   {
    "duration": 481,
    "start_time": "2021-08-02T10:59:24.893Z"
   },
   {
    "duration": 381,
    "start_time": "2021-08-02T10:59:25.376Z"
   },
   {
    "duration": 383,
    "start_time": "2021-08-02T10:59:25.760Z"
   },
   {
    "duration": 12,
    "start_time": "2021-08-02T10:59:26.148Z"
   },
   {
    "duration": 5,
    "start_time": "2021-08-02T10:59:26.162Z"
   },
   {
    "duration": 278,
    "start_time": "2021-08-02T10:59:26.169Z"
   },
   {
    "duration": 19,
    "start_time": "2021-08-02T10:59:26.449Z"
   },
   {
    "duration": 531,
    "start_time": "2021-08-02T10:59:26.469Z"
   },
   {
    "duration": 13,
    "start_time": "2021-08-02T10:59:27.002Z"
   },
   {
    "duration": 364,
    "start_time": "2021-08-02T10:59:27.017Z"
   },
   {
    "duration": 11,
    "start_time": "2021-08-02T10:59:27.383Z"
   },
   {
    "duration": 466,
    "start_time": "2021-08-02T10:59:27.397Z"
   },
   {
    "duration": 388,
    "start_time": "2021-08-02T10:59:27.865Z"
   },
   {
    "duration": 13,
    "start_time": "2021-08-02T10:59:28.255Z"
   },
   {
    "duration": 6,
    "start_time": "2021-08-02T10:59:28.270Z"
   },
   {
    "duration": 19,
    "start_time": "2021-08-02T10:59:28.278Z"
   },
   {
    "duration": 94,
    "start_time": "2021-08-02T10:59:28.299Z"
   },
   {
    "duration": 60,
    "start_time": "2021-08-02T10:59:28.395Z"
   },
   {
    "duration": 17,
    "start_time": "2021-08-02T10:59:28.456Z"
   },
   {
    "duration": 67,
    "start_time": "2021-08-02T10:59:28.474Z"
   },
   {
    "duration": 13,
    "start_time": "2021-08-02T10:59:28.542Z"
   },
   {
    "duration": 78,
    "start_time": "2021-08-02T10:59:28.556Z"
   },
   {
    "duration": 38,
    "start_time": "2021-08-02T10:59:28.636Z"
   },
   {
    "duration": 62,
    "start_time": "2021-08-02T10:59:28.676Z"
   },
   {
    "duration": 73,
    "start_time": "2021-08-02T10:59:28.739Z"
   },
   {
    "duration": 6,
    "start_time": "2021-08-02T10:59:28.814Z"
   },
   {
    "duration": 12,
    "start_time": "2021-08-02T10:59:28.822Z"
   },
   {
    "duration": 19,
    "start_time": "2021-08-02T10:59:28.836Z"
   },
   {
    "duration": 11,
    "start_time": "2021-08-02T10:59:28.856Z"
   },
   {
    "duration": 29,
    "start_time": "2021-08-02T10:59:28.869Z"
   },
   {
    "duration": 8,
    "start_time": "2021-08-02T10:59:28.899Z"
   },
   {
    "duration": 15,
    "start_time": "2021-08-02T10:59:28.909Z"
   },
   {
    "duration": 16,
    "start_time": "2021-08-02T10:59:28.926Z"
   },
   {
    "duration": 19,
    "start_time": "2021-08-02T10:59:28.944Z"
   },
   {
    "duration": 988,
    "start_time": "2021-08-02T14:25:45.942Z"
   },
   {
    "duration": 2,
    "start_time": "2021-08-02T14:25:46.932Z"
   },
   {
    "duration": 24,
    "start_time": "2021-08-02T14:25:46.937Z"
   },
   {
    "duration": 10,
    "start_time": "2021-08-02T14:25:46.963Z"
   },
   {
    "duration": 17,
    "start_time": "2021-08-02T14:25:46.974Z"
   },
   {
    "duration": 37,
    "start_time": "2021-08-02T14:25:46.992Z"
   },
   {
    "duration": 8,
    "start_time": "2021-08-02T14:25:47.031Z"
   },
   {
    "duration": 18,
    "start_time": "2021-08-02T14:25:47.041Z"
   },
   {
    "duration": 12,
    "start_time": "2021-08-02T14:25:47.061Z"
   },
   {
    "duration": 11,
    "start_time": "2021-08-02T14:25:47.074Z"
   },
   {
    "duration": 2,
    "start_time": "2021-08-02T14:25:47.086Z"
   },
   {
    "duration": 14,
    "start_time": "2021-08-02T14:25:47.089Z"
   },
   {
    "duration": 7,
    "start_time": "2021-08-02T14:25:47.104Z"
   },
   {
    "duration": 184,
    "start_time": "2021-08-02T14:25:47.112Z"
   },
   {
    "duration": 133,
    "start_time": "2021-08-02T14:25:47.298Z"
   },
   {
    "duration": 13,
    "start_time": "2021-08-02T14:25:47.433Z"
   },
   {
    "duration": 9,
    "start_time": "2021-08-02T14:25:47.448Z"
   },
   {
    "duration": 37,
    "start_time": "2021-08-02T14:25:47.459Z"
   },
   {
    "duration": 244,
    "start_time": "2021-08-02T14:25:47.498Z"
   },
   {
    "duration": 248,
    "start_time": "2021-08-02T14:25:47.743Z"
   },
   {
    "duration": 350,
    "start_time": "2021-08-02T14:25:47.993Z"
   },
   {
    "duration": 12,
    "start_time": "2021-08-02T14:25:48.345Z"
   },
   {
    "duration": 5,
    "start_time": "2021-08-02T14:25:48.361Z"
   },
   {
    "duration": 251,
    "start_time": "2021-08-02T14:25:48.368Z"
   },
   {
    "duration": 13,
    "start_time": "2021-08-02T14:25:48.621Z"
   },
   {
    "duration": 337,
    "start_time": "2021-08-02T14:25:48.635Z"
   },
   {
    "duration": 19,
    "start_time": "2021-08-02T14:25:48.974Z"
   },
   {
    "duration": 304,
    "start_time": "2021-08-02T14:25:48.995Z"
   },
   {
    "duration": 4,
    "start_time": "2021-08-02T14:25:49.300Z"
   },
   {
    "duration": 416,
    "start_time": "2021-08-02T14:25:49.306Z"
   },
   {
    "duration": 261,
    "start_time": "2021-08-02T14:25:49.723Z"
   },
   {
    "duration": 5,
    "start_time": "2021-08-02T14:25:49.991Z"
   },
   {
    "duration": 17,
    "start_time": "2021-08-02T14:25:49.998Z"
   },
   {
    "duration": 17,
    "start_time": "2021-08-02T14:25:50.017Z"
   },
   {
    "duration": 56,
    "start_time": "2021-08-02T14:25:50.036Z"
   },
   {
    "duration": 55,
    "start_time": "2021-08-02T14:25:50.093Z"
   },
   {
    "duration": 14,
    "start_time": "2021-08-02T14:25:50.149Z"
   },
   {
    "duration": 62,
    "start_time": "2021-08-02T14:25:50.164Z"
   },
   {
    "duration": 9,
    "start_time": "2021-08-02T14:25:50.228Z"
   },
   {
    "duration": 73,
    "start_time": "2021-08-02T14:25:50.239Z"
   },
   {
    "duration": 39,
    "start_time": "2021-08-02T14:25:50.314Z"
   },
   {
    "duration": 61,
    "start_time": "2021-08-02T14:25:50.354Z"
   },
   {
    "duration": 82,
    "start_time": "2021-08-02T14:25:50.417Z"
   },
   {
    "duration": 7,
    "start_time": "2021-08-02T14:25:50.501Z"
   },
   {
    "duration": 18,
    "start_time": "2021-08-02T14:25:50.509Z"
   },
   {
    "duration": 16,
    "start_time": "2021-08-02T14:25:50.528Z"
   },
   {
    "duration": 15,
    "start_time": "2021-08-02T14:25:50.545Z"
   },
   {
    "duration": 7,
    "start_time": "2021-08-02T14:25:50.561Z"
   },
   {
    "duration": 22,
    "start_time": "2021-08-02T14:25:50.569Z"
   },
   {
    "duration": 7,
    "start_time": "2021-08-02T14:25:50.593Z"
   },
   {
    "duration": 13,
    "start_time": "2021-08-02T14:25:50.601Z"
   },
   {
    "duration": 17,
    "start_time": "2021-08-02T14:25:50.615Z"
   },
   {
    "duration": 259,
    "start_time": "2021-08-22T14:24:25.519Z"
   },
   {
    "duration": 1008,
    "start_time": "2021-08-22T14:24:35.511Z"
   },
   {
    "duration": 2,
    "start_time": "2021-08-22T14:24:36.521Z"
   },
   {
    "duration": 25,
    "start_time": "2021-08-22T14:24:36.525Z"
   },
   {
    "duration": 10,
    "start_time": "2021-08-22T14:24:36.552Z"
   },
   {
    "duration": 9,
    "start_time": "2021-08-22T14:24:36.564Z"
   },
   {
    "duration": 41,
    "start_time": "2021-08-22T14:24:36.575Z"
   },
   {
    "duration": 8,
    "start_time": "2021-08-22T14:24:36.617Z"
   },
   {
    "duration": 20,
    "start_time": "2021-08-22T14:24:36.627Z"
   },
   {
    "duration": 10,
    "start_time": "2021-08-22T14:24:36.648Z"
   },
   {
    "duration": 10,
    "start_time": "2021-08-22T14:24:36.659Z"
   },
   {
    "duration": 2,
    "start_time": "2021-08-22T14:24:36.670Z"
   },
   {
    "duration": 16,
    "start_time": "2021-08-22T14:24:36.674Z"
   },
   {
    "duration": 8,
    "start_time": "2021-08-22T14:24:36.691Z"
   },
   {
    "duration": 185,
    "start_time": "2021-08-22T14:24:36.700Z"
   },
   {
    "duration": 135,
    "start_time": "2021-08-22T14:24:36.886Z"
   },
   {
    "duration": 13,
    "start_time": "2021-08-22T14:24:37.024Z"
   },
   {
    "duration": 9,
    "start_time": "2021-08-22T14:24:37.039Z"
   },
   {
    "duration": 8,
    "start_time": "2021-08-22T14:24:37.050Z"
   },
   {
    "duration": 278,
    "start_time": "2021-08-22T14:24:37.059Z"
   },
   {
    "duration": 245,
    "start_time": "2021-08-22T14:24:37.339Z"
   },
   {
    "duration": 353,
    "start_time": "2021-08-22T14:24:37.591Z"
   },
   {
    "duration": 11,
    "start_time": "2021-08-22T14:24:37.946Z"
   },
   {
    "duration": 6,
    "start_time": "2021-08-22T14:24:37.960Z"
   },
   {
    "duration": 268,
    "start_time": "2021-08-22T14:24:37.968Z"
   },
   {
    "duration": 12,
    "start_time": "2021-08-22T14:24:38.237Z"
   },
   {
    "duration": 351,
    "start_time": "2021-08-22T14:24:38.250Z"
   },
   {
    "duration": 9,
    "start_time": "2021-08-22T14:24:38.603Z"
   },
   {
    "duration": 288,
    "start_time": "2021-08-22T14:24:38.613Z"
   },
   {
    "duration": 4,
    "start_time": "2021-08-22T14:24:38.902Z"
   },
   {
    "duration": 407,
    "start_time": "2021-08-22T14:24:38.908Z"
   },
   {
    "duration": 266,
    "start_time": "2021-08-22T14:24:39.316Z"
   },
   {
    "duration": 10,
    "start_time": "2021-08-22T14:24:39.583Z"
   },
   {
    "duration": 6,
    "start_time": "2021-08-22T14:24:39.595Z"
   },
   {
    "duration": 9,
    "start_time": "2021-08-22T14:24:39.602Z"
   },
   {
    "duration": 53,
    "start_time": "2021-08-22T14:24:39.612Z"
   },
   {
    "duration": 74,
    "start_time": "2021-08-22T14:24:39.667Z"
   },
   {
    "duration": 10,
    "start_time": "2021-08-22T14:24:39.742Z"
   },
   {
    "duration": 71,
    "start_time": "2021-08-22T14:24:39.754Z"
   },
   {
    "duration": 11,
    "start_time": "2021-08-22T14:24:39.826Z"
   },
   {
    "duration": 67,
    "start_time": "2021-08-22T14:24:39.839Z"
   },
   {
    "duration": 31,
    "start_time": "2021-08-22T14:24:39.908Z"
   },
   {
    "duration": 80,
    "start_time": "2021-08-22T14:24:39.940Z"
   },
   {
    "duration": 71,
    "start_time": "2021-08-22T14:24:40.021Z"
   },
   {
    "duration": 6,
    "start_time": "2021-08-22T14:24:40.094Z"
   },
   {
    "duration": 8,
    "start_time": "2021-08-22T14:24:40.101Z"
   },
   {
    "duration": 8,
    "start_time": "2021-08-22T14:24:40.110Z"
   },
   {
    "duration": 9,
    "start_time": "2021-08-22T14:24:40.119Z"
   },
   {
    "duration": 7,
    "start_time": "2021-08-22T14:24:40.129Z"
   },
   {
    "duration": 5,
    "start_time": "2021-08-22T14:24:40.138Z"
   },
   {
    "duration": 9,
    "start_time": "2021-08-22T14:24:40.144Z"
   },
   {
    "duration": 39,
    "start_time": "2021-08-22T14:24:40.155Z"
   },
   {
    "duration": 12,
    "start_time": "2021-08-22T14:24:40.195Z"
   },
   {
    "duration": 1077,
    "start_time": "2021-09-24T13:34:54.705Z"
   },
   {
    "duration": 3,
    "start_time": "2021-09-24T13:34:55.784Z"
   },
   {
    "duration": 29,
    "start_time": "2021-09-24T13:34:55.788Z"
   },
   {
    "duration": 16,
    "start_time": "2021-09-24T13:34:55.819Z"
   },
   {
    "duration": 10,
    "start_time": "2021-09-24T13:34:55.837Z"
   },
   {
    "duration": 48,
    "start_time": "2021-09-24T13:34:55.849Z"
   },
   {
    "duration": 13,
    "start_time": "2021-09-24T13:34:55.898Z"
   },
   {
    "duration": 23,
    "start_time": "2021-09-24T13:34:55.914Z"
   },
   {
    "duration": 15,
    "start_time": "2021-09-24T13:34:55.939Z"
   },
   {
    "duration": 16,
    "start_time": "2021-09-24T13:34:55.956Z"
   },
   {
    "duration": 6,
    "start_time": "2021-09-24T13:34:55.974Z"
   },
   {
    "duration": 29,
    "start_time": "2021-09-24T13:34:55.982Z"
   },
   {
    "duration": 9,
    "start_time": "2021-09-24T13:34:56.013Z"
   },
   {
    "duration": 212,
    "start_time": "2021-09-24T13:34:56.024Z"
   },
   {
    "duration": 164,
    "start_time": "2021-09-24T13:34:56.238Z"
   },
   {
    "duration": 15,
    "start_time": "2021-09-24T13:34:56.404Z"
   },
   {
    "duration": 9,
    "start_time": "2021-09-24T13:34:56.420Z"
   },
   {
    "duration": 12,
    "start_time": "2021-09-24T13:34:56.430Z"
   },
   {
    "duration": 319,
    "start_time": "2021-09-24T13:34:56.443Z"
   },
   {
    "duration": 302,
    "start_time": "2021-09-24T13:34:56.764Z"
   },
   {
    "duration": 440,
    "start_time": "2021-09-24T13:34:57.067Z"
   },
   {
    "duration": 12,
    "start_time": "2021-09-24T13:34:57.509Z"
   },
   {
    "duration": 11,
    "start_time": "2021-09-24T13:34:57.524Z"
   },
   {
    "duration": 299,
    "start_time": "2021-09-24T13:34:57.537Z"
   },
   {
    "duration": 16,
    "start_time": "2021-09-24T13:34:57.838Z"
   },
   {
    "duration": 402,
    "start_time": "2021-09-24T13:34:57.855Z"
   },
   {
    "duration": 11,
    "start_time": "2021-09-24T13:34:58.258Z"
   },
   {
    "duration": 343,
    "start_time": "2021-09-24T13:34:58.270Z"
   },
   {
    "duration": 5,
    "start_time": "2021-09-24T13:34:58.615Z"
   },
   {
    "duration": 380,
    "start_time": "2021-09-24T13:34:58.621Z"
   },
   {
    "duration": 316,
    "start_time": "2021-09-24T13:34:59.002Z"
   },
   {
    "duration": 5,
    "start_time": "2021-09-24T13:34:59.319Z"
   },
   {
    "duration": 17,
    "start_time": "2021-09-24T13:34:59.325Z"
   },
   {
    "duration": 30,
    "start_time": "2021-09-24T13:34:59.344Z"
   },
   {
    "duration": 67,
    "start_time": "2021-09-24T13:34:59.375Z"
   },
   {
    "duration": 68,
    "start_time": "2021-09-24T13:34:59.444Z"
   },
   {
    "duration": 30,
    "start_time": "2021-09-24T13:34:59.514Z"
   },
   {
    "duration": 66,
    "start_time": "2021-09-24T13:34:59.546Z"
   },
   {
    "duration": 20,
    "start_time": "2021-09-24T13:34:59.614Z"
   },
   {
    "duration": 73,
    "start_time": "2021-09-24T13:34:59.635Z"
   },
   {
    "duration": 35,
    "start_time": "2021-09-24T13:34:59.709Z"
   },
   {
    "duration": 82,
    "start_time": "2021-09-24T13:34:59.746Z"
   },
   {
    "duration": 80,
    "start_time": "2021-09-24T13:34:59.829Z"
   },
   {
    "duration": 5,
    "start_time": "2021-09-24T13:34:59.911Z"
   },
   {
    "duration": 17,
    "start_time": "2021-09-24T13:34:59.918Z"
   },
   {
    "duration": 29,
    "start_time": "2021-09-24T13:34:59.937Z"
   },
   {
    "duration": 30,
    "start_time": "2021-09-24T13:34:59.967Z"
   },
   {
    "duration": 12,
    "start_time": "2021-09-24T13:34:59.999Z"
   },
   {
    "duration": 28,
    "start_time": "2021-09-24T13:35:00.013Z"
   },
   {
    "duration": 36,
    "start_time": "2021-09-24T13:35:00.042Z"
   },
   {
    "duration": 36,
    "start_time": "2021-09-24T13:35:00.080Z"
   },
   {
    "duration": 25,
    "start_time": "2021-09-24T13:35:00.118Z"
   },
   {
    "duration": 1078,
    "start_time": "2021-09-24T13:38:53.971Z"
   },
   {
    "duration": 3,
    "start_time": "2021-09-24T13:38:55.051Z"
   },
   {
    "duration": 31,
    "start_time": "2021-09-24T13:38:55.056Z"
   },
   {
    "duration": 11,
    "start_time": "2021-09-24T13:38:55.089Z"
   },
   {
    "duration": 10,
    "start_time": "2021-09-24T13:38:55.102Z"
   },
   {
    "duration": 46,
    "start_time": "2021-09-24T13:38:55.113Z"
   },
   {
    "duration": 10,
    "start_time": "2021-09-24T13:38:55.160Z"
   },
   {
    "duration": 23,
    "start_time": "2021-09-24T13:38:55.173Z"
   },
   {
    "duration": 9,
    "start_time": "2021-09-24T13:38:55.199Z"
   },
   {
    "duration": 15,
    "start_time": "2021-09-24T13:38:55.210Z"
   },
   {
    "duration": 2,
    "start_time": "2021-09-24T13:38:55.227Z"
   },
   {
    "duration": 15,
    "start_time": "2021-09-24T13:38:55.231Z"
   },
   {
    "duration": 8,
    "start_time": "2021-09-24T13:38:55.248Z"
   },
   {
    "duration": 217,
    "start_time": "2021-09-24T13:38:55.258Z"
   },
   {
    "duration": 145,
    "start_time": "2021-09-24T13:38:55.477Z"
   },
   {
    "duration": 13,
    "start_time": "2021-09-24T13:38:55.624Z"
   },
   {
    "duration": 9,
    "start_time": "2021-09-24T13:38:55.639Z"
   },
   {
    "duration": 9,
    "start_time": "2021-09-24T13:38:55.650Z"
   },
   {
    "duration": 314,
    "start_time": "2021-09-24T13:38:55.660Z"
   },
   {
    "duration": 287,
    "start_time": "2021-09-24T13:38:55.976Z"
   },
   {
    "duration": 425,
    "start_time": "2021-09-24T13:38:56.265Z"
   },
   {
    "duration": 16,
    "start_time": "2021-09-24T13:38:56.692Z"
   },
   {
    "duration": 5,
    "start_time": "2021-09-24T13:38:56.712Z"
   },
   {
    "duration": 286,
    "start_time": "2021-09-24T13:38:56.719Z"
   },
   {
    "duration": 12,
    "start_time": "2021-09-24T13:38:57.007Z"
   },
   {
    "duration": 389,
    "start_time": "2021-09-24T13:38:57.021Z"
   },
   {
    "duration": 11,
    "start_time": "2021-09-24T13:38:57.411Z"
   },
   {
    "duration": 299,
    "start_time": "2021-09-24T13:38:57.423Z"
   },
   {
    "duration": 5,
    "start_time": "2021-09-24T13:38:57.724Z"
   },
   {
    "duration": 378,
    "start_time": "2021-09-24T13:38:57.731Z"
   },
   {
    "duration": 303,
    "start_time": "2021-09-24T13:38:58.112Z"
   },
   {
    "duration": 5,
    "start_time": "2021-09-24T13:38:58.417Z"
   },
   {
    "duration": 21,
    "start_time": "2021-09-24T13:38:58.424Z"
   },
   {
    "duration": 17,
    "start_time": "2021-09-24T13:38:58.446Z"
   },
   {
    "duration": 61,
    "start_time": "2021-09-24T13:38:58.464Z"
   },
   {
    "duration": 55,
    "start_time": "2021-09-24T13:38:58.526Z"
   },
   {
    "duration": 29,
    "start_time": "2021-09-24T13:38:58.583Z"
   },
   {
    "duration": 62,
    "start_time": "2021-09-24T13:38:58.613Z"
   },
   {
    "duration": 25,
    "start_time": "2021-09-24T13:38:58.676Z"
   },
   {
    "duration": 62,
    "start_time": "2021-09-24T13:38:58.703Z"
   },
   {
    "duration": 49,
    "start_time": "2021-09-24T13:38:58.766Z"
   },
   {
    "duration": 56,
    "start_time": "2021-09-24T13:38:58.817Z"
   },
   {
    "duration": 83,
    "start_time": "2021-09-24T13:38:58.875Z"
   },
   {
    "duration": 5,
    "start_time": "2021-09-24T13:38:58.960Z"
   },
   {
    "duration": 7,
    "start_time": "2021-09-24T13:38:58.967Z"
   },
   {
    "duration": 8,
    "start_time": "2021-09-24T13:38:59.000Z"
   },
   {
    "duration": 10,
    "start_time": "2021-09-24T13:38:59.009Z"
   },
   {
    "duration": 8,
    "start_time": "2021-09-24T13:38:59.020Z"
   },
   {
    "duration": 6,
    "start_time": "2021-09-24T13:38:59.029Z"
   },
   {
    "duration": 7,
    "start_time": "2021-09-24T13:38:59.037Z"
   },
   {
    "duration": 8,
    "start_time": "2021-09-24T13:38:59.046Z"
   },
   {
    "duration": 44,
    "start_time": "2021-09-24T13:38:59.056Z"
   }
  ],
  "kernelspec": {
   "display_name": "Python 3",
   "language": "python",
   "name": "python3"
  },
  "language_info": {
   "codemirror_mode": {
    "name": "ipython",
    "version": 3
   },
   "file_extension": ".py",
   "mimetype": "text/x-python",
   "name": "python",
   "nbconvert_exporter": "python",
   "pygments_lexer": "ipython3",
   "version": "3.7.8"
  },
  "toc": {
   "base_numbering": 1,
   "nav_menu": {},
   "number_sections": true,
   "sideBar": true,
   "skip_h1_title": true,
   "title_cell": "Содержание",
   "title_sidebar": "Contents",
   "toc_cell": true,
   "toc_position": {
    "height": "1069.29px",
    "left": "70px",
    "top": "134.333px",
    "width": "239px"
   },
   "toc_section_display": true,
   "toc_window_display": true
  }
 },
 "nbformat": 4,
 "nbformat_minor": 2
}
